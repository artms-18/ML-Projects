{
  "nbformat": 4,
  "nbformat_minor": 0,
  "metadata": {
    "colab": {
      "name": "Pets_Object_Localization.ipynb",
      "provenance": [],
      "authorship_tag": "ABX9TyOfxg0vBpntfLg7ZdhWf0yP",
      "include_colab_link": true
    },
    "kernelspec": {
      "name": "python3",
      "display_name": "Python 3"
    },
    "language_info": {
      "name": "python"
    }
  },
  "cells": [
    {
      "cell_type": "markdown",
      "metadata": {
        "id": "view-in-github",
        "colab_type": "text"
      },
      "source": [
        "<a href=\"https://colab.research.google.com/github/artms-18/ML-Projects/blob/main/Pets_Object_Localization.ipynb\" target=\"_parent\"><img src=\"https://colab.research.google.com/assets/colab-badge.svg\" alt=\"Open In Colab\"/></a>"
      ]
    },
    {
      "cell_type": "markdown",
      "metadata": {
        "id": "gpL8R5Pshe0t"
      },
      "source": [
        "## Using a Resnet50 feature extractor to classify and locate objects within the Oxford-IIIT Pet Dataset\n",
        "\n",
        "In this notebook, we will achieve this by implementing the following steps:\n",
        "1. Importing Modules\n",
        "2. Preprocessing data\n",
        "3. Defining helper functions to later view the data\n",
        "4. Creating the model using a pretrained feature extractor, but not including the top so that we can add our own Dense layers\n",
        "5. Compiling and fitting the model\n",
        "6. Visualizing the results and looking at accuracy as well as loss on Tensorflow Hub"
      ]
    },
    {
      "cell_type": "code",
      "metadata": {
        "id": "9cqjZGv5h8by"
      },
      "source": [
        "import glob\n",
        "import os\n",
        "import csv\n",
        "import cv2\n",
        "\n",
        "import xml.etree.ElementTree as ET\n",
        "import numpy as np\n",
        "import tensorflow as tf"
      ],
      "execution_count": 1,
      "outputs": []
    },
    {
      "cell_type": "code",
      "metadata": {
        "id": "yDcXPfv8iyF8"
      },
      "source": [
        ""
      ],
      "execution_count": null,
      "outputs": []
    }
  ]
}