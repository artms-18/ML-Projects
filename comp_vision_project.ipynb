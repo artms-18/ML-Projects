{
  "nbformat": 4,
  "nbformat_minor": 0,
  "metadata": {
    "colab": {
      "name": "comp_vision_project.ipynb",
      "provenance": [],
      "authorship_tag": "ABX9TyMPPLULXyJysYe3qvGz2rKO",
      "include_colab_link": true
    },
    "kernelspec": {
      "name": "python3",
      "display_name": "Python 3"
    },
    "language_info": {
      "name": "python"
    }
  },
  "cells": [
    {
      "cell_type": "markdown",
      "metadata": {
        "id": "view-in-github",
        "colab_type": "text"
      },
      "source": [
        "<a href=\"https://colab.research.google.com/github/artms-18/ML-Projects/blob/main/comp_vision_project.ipynb\" target=\"_parent\"><img src=\"https://colab.research.google.com/assets/colab-badge.svg\" alt=\"Open In Colab\"/></a>"
      ]
    },
    {
      "cell_type": "markdown",
      "metadata": {
        "id": "aNUUBcPTwh3J"
      },
      "source": [
        "# Image Classification using the CIFAR dataset"
      ]
    },
    {
      "cell_type": "markdown",
      "metadata": {
        "id": "IoWV0Doywq8o"
      },
      "source": [
        "## Importing required libraries"
      ]
    },
    {
      "cell_type": "code",
      "metadata": {
        "id": "gOK8w28Rune6"
      },
      "source": [
        "import os\n",
        "\n",
        "import tensorflow as tf\n",
        "import numpy as np\n",
        "import matplotlib.pyplot as plt\n",
        "import tarfile\n",
        "import pickle\n",
        "import tarfile\n",
        "\n",
        "from tensorflow import keras\n",
        "from keras.layers import Conv2D, BatchNormalization, Activation, Add\n",
        "from keras.layers import Input, AveragePooling2D\n",
        "from keras.models import Model"
      ],
      "execution_count": 1,
      "outputs": []
    },
    {
      "cell_type": "code",
      "metadata": {
        "colab": {
          "resources": {
            "http://localhost:8080/nbextensions/google.colab/files.js": {
              "data": "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",
              "ok": true,
              "headers": [
                [
                  "content-type",
                  "application/javascript"
                ]
              ],
              "status": 200,
              "status_text": ""
            }
          },
          "base_uri": "https://localhost:8080/",
          "height": 72
        },
        "id": "r_vizG1dIodr",
        "outputId": "76589b60-33d6-42ac-febe-83c98a6863f4"
      },
      "source": [
        "from google.colab import files\n",
        "files.upload()"
      ],
      "execution_count": 2,
      "outputs": [
        {
          "output_type": "display_data",
          "data": {
            "text/html": [
              "\n",
              "     <input type=\"file\" id=\"files-4657e070-7418-435a-b2e7-546c1383cc13\" name=\"files[]\" multiple disabled\n",
              "        style=\"border:none\" />\n",
              "     <output id=\"result-4657e070-7418-435a-b2e7-546c1383cc13\">\n",
              "      Upload widget is only available when the cell has been executed in the\n",
              "      current browser session. Please rerun this cell to enable.\n",
              "      </output>\n",
              "      <script src=\"/nbextensions/google.colab/files.js\"></script> "
            ],
            "text/plain": [
              "<IPython.core.display.HTML object>"
            ]
          },
          "metadata": {
            "tags": []
          }
        },
        {
          "output_type": "stream",
          "text": [
            "Saving cifar-10-python.tar.gz to cifar-10-python.tar.gz\n"
          ],
          "name": "stdout"
        }
      ]
    },
    {
      "cell_type": "markdown",
      "metadata": {
        "id": "Ch7S_id_wuOG"
      },
      "source": [
        "## Extracting the dataset"
      ]
    },
    {
      "cell_type": "code",
      "metadata": {
        "id": "ATnP8oZBuu8_"
      },
      "source": [
        "tar = tarfile.open(\"/content/cifar-10-python.tar.gz\")\n",
        "tar.extractall()\n",
        "tar.close()"
      ],
      "execution_count": 3,
      "outputs": []
    },
    {
      "cell_type": "markdown",
      "metadata": {
        "id": "7OG_UKWmuxw3"
      },
      "source": [
        "## Preprocessing\n",
        "\n",
        "**Note** \n",
        "\n",
        "The CIFAR dataset contains images in batches to speed up training, additionally, they are formatted in the shape of a 10000x3072 numpy array (rgb). "
      ]
    },
    {
      "cell_type": "code",
      "metadata": {
        "id": "Kz5WGWdpzl9h"
      },
      "source": [
        "def get_batches(file):\n",
        "  batches = []\n",
        "  test = []\n",
        "  for dirName, subdirList, fileList in os.walk(file):\n",
        "    #print('Found directory: %s' % dirName)\n",
        "    for fname in fileList:\n",
        "      if \"data_batch_\" in fname:\n",
        "        #print('\\t%s' % fname)\n",
        "        batches.append(str(fname))\n",
        "      elif \"test_batch\" in fname:\n",
        "        batches.append(str(fname))\n",
        "  return batches"
      ],
      "execution_count": 70,
      "outputs": []
    },
    {
      "cell_type": "code",
      "metadata": {
        "id": "B1cbhATv0Y_3",
        "colab": {
          "base_uri": "https://localhost:8080/"
        },
        "outputId": "d98a9ea6-7343-4790-dff3-fad87bd50881"
      },
      "source": [
        "batches = get_batches(\"/content/cifar-10-batches-py\")\n",
        "print(batches)"
      ],
      "execution_count": 72,
      "outputs": [
        {
          "output_type": "stream",
          "text": [
            "['data_batch_5', 'data_batch_4', 'data_batch_1', 'data_batch_2', 'data_batch_3', 'test_batch']\n"
          ],
          "name": "stdout"
        }
      ]
    },
    {
      "cell_type": "code",
      "metadata": {
        "id": "iro8O1cPyLpf"
      },
      "source": [
        "def unpickle(file):\n",
        "  with open(file, 'rb') as fo:\n",
        "    dict = pickle.load(fo, encoding = 'bytes')\n",
        "  return dict"
      ],
      "execution_count": 73,
      "outputs": []
    },
    {
      "cell_type": "code",
      "metadata": {
        "id": "heSE56hCVoKH"
      },
      "source": [
        ""
      ],
      "execution_count": 73,
      "outputs": []
    },
    {
      "cell_type": "code",
      "metadata": {
        "id": "8A1YnoavyBGB"
      },
      "source": [
        "all_data = []\n",
        "for batch in batches:\n",
        "  all_data.append(unpickle(\"/content/cifar-10-batches-py\" + \"/\" + batch))"
      ],
      "execution_count": 74,
      "outputs": []
    },
    {
      "cell_type": "code",
      "metadata": {
        "id": "ozHdN0vSyGGe"
      },
      "source": [
        "def shape(batch):\n",
        "\n",
        "  \"\"\"\n",
        "  \n",
        "  Reshapes and transposes images into correct shape for training\n",
        "\n",
        "  Args: a dict for a batch of images with the shape (10000, 3072)\n",
        "  Returns: a tuple containing (preprocessed images, labels)\n",
        "\n",
        "  \"\"\"\n",
        "  images = batch[b'data'].reshape(len(batch[b'data']), 3, 32, 32).transpose(0, 2, 3, 1)\n",
        "  labels = batch[b'labels']\n",
        "\n",
        "  return images, labels"
      ],
      "execution_count": 75,
      "outputs": []
    },
    {
      "cell_type": "code",
      "metadata": {
        "id": "1GiS1huu1dDT"
      },
      "source": [
        "preprocessed = []\n",
        "for batch in all_data:\n",
        "  preprocessed.append(shape(batch))"
      ],
      "execution_count": 76,
      "outputs": []
    },
    {
      "cell_type": "markdown",
      "metadata": {
        "id": "j9mbB9ki6UpL"
      },
      "source": [
        "## Visualizing an image from the dataset"
      ]
    },
    {
      "cell_type": "code",
      "metadata": {
        "colab": {
          "base_uri": "https://localhost:8080/",
          "height": 511
        },
        "id": "swquOU-e7gyc",
        "outputId": "1ada6627-5d17-4570-d029-dc35c5b993f2"
      },
      "source": [
        "#get random image\n",
        "\n",
        "import random\n",
        "random_index = random.randint(0, len(preprocessed[0][0]))\n",
        "random_index\n",
        "\n",
        "plt.figure(figsize = (8,12))\n",
        "plt.imshow(preprocessed[0][0][random_index])"
      ],
      "execution_count": 77,
      "outputs": [
        {
          "output_type": "execute_result",
          "data": {
            "text/plain": [
              "<matplotlib.image.AxesImage at 0x7fed65c0c590>"
            ]
          },
          "metadata": {
            "tags": []
          },
          "execution_count": 77
        },
        {
          "output_type": "display_data",
          "data": {
            "image/png": "[encoded data removed]",
            "text/plain": [
              "<Figure size 576x864 with 1 Axes>"
            ]
          },
          "metadata": {
            "tags": [],
            "needs_background": "light"
          }
        }
      ]
    },
    {
      "cell_type": "markdown",
      "metadata": {
        "id": "r6xSM8mX78gO"
      },
      "source": [
        "## More Preprocessing"
      ]
    },
    {
      "cell_type": "code",
      "metadata": {
        "id": "RSJw3YqW9JGf"
      },
      "source": [
        "# normalize each image between values of 0-1 using the z-score normalization equation\n",
        "\n",
        "def normalize(img):\n",
        "\n",
        "  \"\"\"\n",
        "\n",
        "  Args: a numpy array with pixel values ranging from 0-255\n",
        "  Returns: a normalized numpy array with values ranging between 0-1\n",
        "\n",
        "  \"\"\"\n",
        "\n",
        "  min = np.min(img)\n",
        "  max = np.max(img)\n",
        "  normalized = (img - min) / (max - min) \n",
        "\n",
        "  normalized = tf.cast(normalized, dtype = tf.float32)\n",
        "\n",
        "  return normalized\n"
      ],
      "execution_count": 78,
      "outputs": []
    },
    {
      "cell_type": "code",
      "metadata": {
        "id": "du8tIc5eJqf0"
      },
      "source": [
        "# labels are integers ranging from 0-9 corresponding to indexes for a particular label in label dict\n",
        "\n",
        "def one_hot_encode(label):\n",
        "\n",
        "  \"\"\"\n",
        "\n",
        "  Args: an integer label ranging from 0-9\n",
        "\n",
        "  Returns: a one-hot encoded version of the label with a '1' \n",
        "           at the corresponding index (e.g the label '3' will be one-hot-encoded\n",
        "           into a tensor of shape (1,10) with zeroes at every index except the 3rd)\n",
        "\n",
        "  \"\"\"\n",
        "\n",
        "  encoded = tf.one_hot(label, 10)\n",
        "  return encoded\n"
      ],
      "execution_count": 79,
      "outputs": []
    },
    {
      "cell_type": "code",
      "metadata": {
        "id": "kRFr9Bjd_hYe"
      },
      "source": [
        "def preprocess(filename):\n",
        "\n",
        "  \"\"\"\n",
        "\n",
        "  Args: a filename containing a batch directory as well as a sub directory of batches\n",
        "\n",
        "  Returns: a preprocessed dataset in the form of of normalized images (batch size, 32, 32, 3) and \n",
        "           one-hot-encoded labels of shape (1, 10).\n",
        "\n",
        "  \"\"\"\n",
        "\n",
        "  batches = get_batches(filename)\n",
        "  all_data = []\n",
        "\n",
        "  for batch in batches:\n",
        "    all_data.append(unpickle(\"/content/cifar-10-batches-py\"+\"/\"+batch))\n",
        "\n",
        "  data = []\n",
        "\n",
        "    \n",
        "  for i, batch in enumerate(all_data):\n",
        "    \n",
        "    images, labels = shape(batch)\n",
        "    images = np.array([normalize(x) for x in images])\n",
        "    labels = [one_hot_encode(x) for x in labels]\n",
        "    data.append((images,labels))\n",
        "\n",
        "  return data\n"
      ],
      "execution_count": 80,
      "outputs": []
    },
    {
      "cell_type": "code",
      "metadata": {
        "id": "UhEfLCPlWdSR"
      },
      "source": [
        "data = preprocess(\"/content/cifar-10-batches-py\")"
      ],
      "execution_count": 81,
      "outputs": []
    },
    {
      "cell_type": "markdown",
      "metadata": {
        "id": "TKZbBaUjamc_"
      },
      "source": [
        "Right now, batches are in separate lists. To make training faster we want to convert the\n",
        "data to a tensorflow dataset and have it prefetched. After that we can rebatch the dataset into batches of 10000 \n"
      ]
    },
    {
      "cell_type": "code",
      "metadata": {
        "id": "uuREtZEVdypA"
      },
      "source": [
        "def one_list(list):\n",
        "\n",
        "  \"\"\"\n",
        "  \n",
        "  Args: a list containing a different batch at each index\n",
        "\n",
        "  Returns: 2 lists: Images and Labels\n",
        "\n",
        "  \"\"\"\n",
        "\n",
        "  images = []\n",
        "  labels = []\n",
        "\n",
        "  for i, batch in enumerate(list):\n",
        "    for image in batch[0]:\n",
        "      images.append(image)\n",
        "    for label in batch[1]:\n",
        "      labels.append(label)\n",
        "\n",
        "  return images, labels\n",
        "\n",
        "def convert_to_datasets(data):\n",
        "\n",
        "  \"\"\"\n",
        "\n",
        "  Args: a list with sublists of batches. \n",
        "        batch[0] = images\n",
        "        batch[1] = label\n",
        "\n",
        "  Returns: a tuple containing a prefetched and batched tensorflow dataset (train and validation)\n",
        "\n",
        "\n",
        "  \"\"\"\n",
        "\n",
        "  if len(data)> 1:\n",
        "    images, labels = one_list(data)\n",
        "  else:\n",
        "    images = data[0][0]\n",
        "    labels = data[0][1]\n",
        "\n",
        "  split = int(len(images) * 0.8)\n",
        "\n",
        "  train_images = images[:split]\n",
        "  val_images = images[-split:]\n",
        "  train_labels = labels[:split]\n",
        "  val_labels = labels[-split:]\n",
        "\n",
        "\n",
        "\n",
        "  train_dataset = tf.data.Dataset.from_tensor_slices((train_images, train_labels)).batch(32).prefetch(tf.data.AUTOTUNE)\n",
        "  train_dataset.batch(32).prefetch(tf.data.AUTOTUNE)\n",
        "\n",
        "  val_dataset = tf.data.Dataset.from_tensor_slices((val_images, val_labels)).batch(32).prefetch(tf.data.AUTOTUNE)\n",
        " \n",
        "\n",
        "  return train_dataset, val_dataset"
      ],
      "execution_count": 116,
      "outputs": []
    },
    {
      "cell_type": "code",
      "metadata": {
        "id": "KZ9xXOQvfVL-"
      },
      "source": [
        "temp_images, labels = one_list(data)"
      ],
      "execution_count": 117,
      "outputs": []
    },
    {
      "cell_type": "code",
      "metadata": {
        "colab": {
          "base_uri": "https://localhost:8080/"
        },
        "id": "9PaY-m-yGQmx",
        "outputId": "f074eb97-5f07-4207-8335-2158ebe4eb76"
      },
      "source": [
        "temp_images[0].shape"
      ],
      "execution_count": 118,
      "outputs": [
        {
          "output_type": "execute_result",
          "data": {
            "text/plain": [
              "(32, 32, 3)"
            ]
          },
          "metadata": {
            "tags": []
          },
          "execution_count": 118
        }
      ]
    },
    {
      "cell_type": "code",
      "metadata": {
        "id": "WYtrsr5FfnVs"
      },
      "source": [
        "train_dataset, val_dataset = convert_to_datasets(data)"
      ],
      "execution_count": 119,
      "outputs": []
    },
    {
      "cell_type": "code",
      "metadata": {
        "colab": {
          "base_uri": "https://localhost:8080/"
        },
        "id": "mcvp4ubkhOs9",
        "outputId": "2373a214-f32b-433c-eebb-8c4b5a21685c"
      },
      "source": [
        "train_dataset, val_dataset"
      ],
      "execution_count": 120,
      "outputs": [
        {
          "output_type": "execute_result",
          "data": {
            "text/plain": [
              "(<PrefetchDataset shapes: ((None, 32, 32, 3), (None, 10)), types: (tf.float32, tf.float32)>,\n",
              " <PrefetchDataset shapes: ((None, 32, 32, 3), (None, 10)), types: (tf.float32, tf.float32)>)"
            ]
          },
          "metadata": {
            "tags": []
          },
          "execution_count": 120
        }
      ]
    },
    {
      "cell_type": "markdown",
      "metadata": {
        "id": "qL-27OdwNN6t"
      },
      "source": [
        "## My Steps\n",
        "\n",
        "1. Build a basic residual block function that will compute convolutions and add the resultant tensor with that of the original\n",
        "2. Build an identity block function that will "
      ]
    },
    {
      "cell_type": "code",
      "metadata": {
        "id": "VGuIWjPoEC4j"
      },
      "source": [
        "from tensorflow.keras import layers\n",
        "from tensorflow.keras.layers.experimental import preprocessing\n",
        "from tensorflow.keras.models import Sequential\n",
        "\n",
        "data_augmentation = Sequential([\n",
        "    preprocessing.RandomFlip(\"horizontal\")\n",
        "    \n",
        "    #preprocessing.Rescaling(1/255.0) #don't need this since already normalized\n",
        "], name = 'data_augmentation')"
      ],
      "execution_count": 121,
      "outputs": []
    },
    {
      "cell_type": "code",
      "metadata": {
        "id": "zzfEcQ0sEDmd"
      },
      "source": [
        "# First define the identity block, where the dimension des not change, but the depth does.\n",
        "# Following the stucture of the ResNet50 model\n",
        "\n",
        "def identity(input, filters):\n",
        "\n",
        "  \"\"\"\n",
        "\n",
        "  Args:  \n",
        "    input: the input passed from a previous layer (using the tensorflow functional API)\n",
        "    filters: a tuple containing the respective number of filters being applied in the convolutions\n",
        "\n",
        "  Returns: an output 'x' of which will be passed to another layers within the model\n",
        "\n",
        "  \"\"\"\n",
        "\n",
        "  skip = input\n",
        "  filter1, filter2 = filters\n",
        "\n",
        "  #first block\n",
        "  x = Conv2D(filter1, kernel_size = (1,1), strides = (1,1), padding = 'valid', kernel_regularizer = regularizers.l2(0.001))(input)\n",
        "  x = BatchNormalization()(x)\n",
        "  x = Activation(activations.relu)(x)\n",
        "\n",
        "  #second block (size is kept the same with padding = 'same')\n",
        "  x = Conv2D(filter1, kernel_size = (3,3), strides = (1,1), padding = 'same', kernel_regularizer = regularizers.l2(0.001))(x)\n",
        "  x = BatchNormalization()(x)\n",
        "  x = Activation(activations.relu)(x)\n",
        "\n",
        "  #third block \n",
        "  x = Conv2D(filter2, kernel_size= (1,1), strides = (1,1), padding = 'valid', kernel_regularizer = regularizers.l2(0.001))(x)\n",
        "  x = BatchNormalization()(x)\n",
        "\n",
        "  #add the input\n",
        "  x = Add()([x, skip])\n",
        "  x = Activation(activations.relu)(x)\n",
        "\n",
        "  return x\n"
      ],
      "execution_count": 122,
      "outputs": []
    },
    {
      "cell_type": "code",
      "metadata": {
        "id": "0U37BWcnEHlB"
      },
      "source": [
        "def res_conv(input, strides, filters):\n",
        "\n",
        "  \"\"\"\n",
        "  Args:\n",
        "    \n",
        "    input: the input passed from a previous layer\n",
        "    strides: how far the filter moves before being applied again \n",
        "    filters: a tuple containing the number of conv filters being applied to the input\n",
        "  \n",
        "\n",
        "  Returns:\n",
        "\n",
        "    an output with reduced dimensionality of the input shape /2 (following the ResNet50 structure)\n",
        "\n",
        "  \"\"\"\n",
        "\n",
        "  skip = input\n",
        "  filter1, filter2 = filters\n",
        "\n",
        "  #first block\n",
        "  x = Conv2D(filter1, kernel_size = (1,1), strides = (strides, strides), padding = 'valid', kernel_regularizer=regularizers.l2(0.001))(input)\n",
        "  x = BatchNormalization()(x)\n",
        "  x = Activation(activations.relu)(x)\n",
        "\n",
        "  #second block\n",
        "  x = Conv2D(filter1, kernel_size = (3,3), strides = (1,1), padding = 'same', kernel_regularizer= regularizers.l2(0.001))(x)\n",
        "  x = BatchNormalization()(x)\n",
        "  x = Activation(activations.relu)(x)\n",
        "\n",
        "  #third block\n",
        "  x = Conv2D(filter2, kernel_size = (1,1), strides = (1,1), padding = 'valid', kernel_regularizer = regularizers.l2(0.001))(x)\n",
        "  x = BatchNormalization()(x)\n",
        "  \n",
        "  #converting the input tensor to match the dimensionality of the newly changed x (due to changing the strides)\n",
        "  skip = Conv2D(filter2, kernel_size = (1,1), strides = (strides, strides), padding = 'valid', kernel_regularizer = regularizers.l2(0.001))(skip)\n",
        "  skip = BatchNormalization()(skip)\n",
        "\n",
        "  #add\n",
        "  x = Add()([x, skip])\n",
        "  x = Activation(activations.relu)(x)\n",
        "\n",
        "  return x\n"
      ],
      "execution_count": 123,
      "outputs": []
    },
    {
      "cell_type": "code",
      "metadata": {
        "id": "7D7LRA23EOUW"
      },
      "source": [
        "# finally building the ResNet Model!!\n",
        "\n",
        "from keras.layers import Input, AveragePooling2D, ZeroPadding2D, MaxPooling2D, Flatten, Dense, UpSampling2D\n",
        "from keras.models import Model\n",
        "from keras import activations, regularizers\n",
        "\n",
        "\n",
        "def resnet50():\n",
        "\n",
        "  \"\"\"\n",
        "\n",
        "  Args: None\n",
        "\n",
        "  Returns: the ResNet50 tensorflow model\n",
        "\n",
        "  \"\"\"\n",
        "\n",
        "  input_image = Input(shape = (32,32,3)) #the way images in CIFAR dataset are stuctured\n",
        "  resize = UpSampling2D(size=(7,7))(input_image)\n",
        "  x = data_augmentation(resize)\n",
        "  x = ZeroPadding2D(padding = (3,3))(x) #to preserve original input size\n",
        "\n",
        "  #step 1: maxpooling (refer to model summary of ResNet50)\n",
        "\n",
        "  #images are scaled to 256x256\n",
        "  x = Conv2D(64, kernel_size = (7,7), strides = (2,2))(x)\n",
        "  x = BatchNormalization()(x)\n",
        "  x = Activation(activations.relu)(x)\n",
        "  x = MaxPooling2D((3,3), strides = (2,2))(x)\n",
        "\n",
        "  #step 2:\n",
        "\n",
        "  x = res_conv(x, strides = 1, filters = (64, 256))\n",
        "  x = identity(x, filters=(64, 256))\n",
        "  x = identity(x, filters = (64,256))\n",
        "\n",
        "  #step 3:\n",
        "\n",
        "  x = res_conv(x, strides = 2, filters = (128, 512))\n",
        "  x = identity(x, filters = (128, 512))\n",
        "  x = identity(x, filters = (128, 512))\n",
        "  x = identity(x, filters = (128, 512))\n",
        "\n",
        "  #step 4\n",
        "\n",
        "  x = res_conv(x, strides = 2, filters = (256, 1024))\n",
        "  x = identity(x, filters = (256, 1024))\n",
        "  x = identity(x, filters = (256, 1024))\n",
        "  x = identity(x, filters = (256, 1024))\n",
        "  x = identity(x, filters = (256, 1024))\n",
        "  x = identity(x, filters = (256, 1024))\n",
        "\n",
        "  #step 5\n",
        "\n",
        "  x = res_conv(x, strides = 2, filters = (512, 2048))\n",
        "  x = identity(x, filters = (512, 2048))\n",
        "  x = identity(x, filters = (512, 2048))\n",
        "\n",
        "  #model concludes with average pooling and dense connection\n",
        "\n",
        "  x = AveragePooling2D((2,2), padding = 'same')(x)\n",
        "\n",
        "  #add a flatten layer as dense required this input shape\n",
        "  x = Flatten()(x)\n",
        "  x = Dense(10, activation = 'softmax', kernel_initializer = tf.keras.initializers.he_normal)(x)\n",
        "\n",
        "  model = Model(inputs = input_image, outputs = x, name = 'Resnet50')\n",
        "\n",
        "  return model\n"
      ],
      "execution_count": 124,
      "outputs": []
    },
    {
      "cell_type": "code",
      "metadata": {
        "id": "dwBvZNClFDKE"
      },
      "source": [
        "class EarlyStoppingAtMinLoss(keras.callbacks.Callback):\n",
        "    \"\"\"Stop training when the loss is at its min, i.e. the loss stops decreasing.\"\"\"\n",
        "    def on_epoch_end(self, epoch, logs=None):\n",
        "        current = logs.get(\"loss\")\n",
        "        if np.less(current, self.best):\n",
        "            self.best = current\n",
        "            self.wait = 0\n",
        "            # Record the best weights if current results is better (less).\n",
        "            self.best_weights = self.model.get_weights()\n",
        "        else:\n",
        "            self.wait += 1\n",
        "            if self.wait >= self.patience:\n",
        "                self.stopped_epoch = epoch\n",
        "                self.model.stop_training = True\n",
        "                print(\"Restoring model weights from the end of the best epoch.\")\n",
        "                self.model.set_weights(self.best_weights)\n",
        "\n",
        "earlyStopping = EarlyStoppingAtMinLoss()"
      ],
      "execution_count": 125,
      "outputs": []
    },
    {
      "cell_type": "code",
      "metadata": {
        "colab": {
          "base_uri": "https://localhost:8080/"
        },
        "id": "6DfdDy56ERqp",
        "outputId": "90310280-b42d-4b93-b1d9-b8396ba8c7f9"
      },
      "source": [
        "model = resnet50()\n",
        "model.summary()"
      ],
      "execution_count": 126,
      "outputs": [
        {
          "output_type": "stream",
          "text": [
            "Model: \"Resnet50\"\n",
            "__________________________________________________________________________________________________\n",
            "Layer (type)                    Output Shape         Param #     Connected to                     \n",
            "==================================================================================================\n",
            "input_4 (InputLayer)            [(None, 32, 32, 3)]  0                                            \n",
            "__________________________________________________________________________________________________\n",
            "up_sampling2d_3 (UpSampling2D)  (None, 224, 224, 3)  0           input_4[0][0]                    \n",
            "__________________________________________________________________________________________________\n",
            "tf.image.random_flip_left_right (None, 224, 224, 3)  0           up_sampling2d_3[0][0]            \n",
            "__________________________________________________________________________________________________\n",
            "zero_padding2d_3 (ZeroPadding2D (None, 230, 230, 3)  0           tf.image.random_flip_left_right_3\n",
            "__________________________________________________________________________________________________\n",
            "conv2d_159 (Conv2D)             (None, 112, 112, 64) 9472        zero_padding2d_3[0][0]           \n",
            "__________________________________________________________________________________________________\n",
            "batch_normalization_159 (BatchN (None, 112, 112, 64) 256         conv2d_159[0][0]                 \n",
            "__________________________________________________________________________________________________\n",
            "activation_147 (Activation)     (None, 112, 112, 64) 0           batch_normalization_159[0][0]    \n",
            "__________________________________________________________________________________________________\n",
            "max_pooling2d_3 (MaxPooling2D)  (None, 55, 55, 64)   0           activation_147[0][0]             \n",
            "__________________________________________________________________________________________________\n",
            "conv2d_160 (Conv2D)             (None, 55, 55, 64)   4160        max_pooling2d_3[0][0]            \n",
            "__________________________________________________________________________________________________\n",
            "batch_normalization_160 (BatchN (None, 55, 55, 64)   256         conv2d_160[0][0]                 \n",
            "__________________________________________________________________________________________________\n",
            "activation_148 (Activation)     (None, 55, 55, 64)   0           batch_normalization_160[0][0]    \n",
            "__________________________________________________________________________________________________\n",
            "conv2d_161 (Conv2D)             (None, 55, 55, 64)   36928       activation_148[0][0]             \n",
            "__________________________________________________________________________________________________\n",
            "batch_normalization_161 (BatchN (None, 55, 55, 64)   256         conv2d_161[0][0]                 \n",
            "__________________________________________________________________________________________________\n",
            "activation_149 (Activation)     (None, 55, 55, 64)   0           batch_normalization_161[0][0]    \n",
            "__________________________________________________________________________________________________\n",
            "conv2d_162 (Conv2D)             (None, 55, 55, 256)  16640       activation_149[0][0]             \n",
            "__________________________________________________________________________________________________\n",
            "conv2d_163 (Conv2D)             (None, 55, 55, 256)  16640       max_pooling2d_3[0][0]            \n",
            "__________________________________________________________________________________________________\n",
            "batch_normalization_162 (BatchN (None, 55, 55, 256)  1024        conv2d_162[0][0]                 \n",
            "__________________________________________________________________________________________________\n",
            "batch_normalization_163 (BatchN (None, 55, 55, 256)  1024        conv2d_163[0][0]                 \n",
            "__________________________________________________________________________________________________\n",
            "add_48 (Add)                    (None, 55, 55, 256)  0           batch_normalization_162[0][0]    \n",
            "                                                                 batch_normalization_163[0][0]    \n",
            "__________________________________________________________________________________________________\n",
            "activation_150 (Activation)     (None, 55, 55, 256)  0           add_48[0][0]                     \n",
            "__________________________________________________________________________________________________\n",
            "conv2d_164 (Conv2D)             (None, 55, 55, 64)   16448       activation_150[0][0]             \n",
            "__________________________________________________________________________________________________\n",
            "batch_normalization_164 (BatchN (None, 55, 55, 64)   256         conv2d_164[0][0]                 \n",
            "__________________________________________________________________________________________________\n",
            "activation_151 (Activation)     (None, 55, 55, 64)   0           batch_normalization_164[0][0]    \n",
            "__________________________________________________________________________________________________\n",
            "conv2d_165 (Conv2D)             (None, 55, 55, 64)   36928       activation_151[0][0]             \n",
            "__________________________________________________________________________________________________\n",
            "batch_normalization_165 (BatchN (None, 55, 55, 64)   256         conv2d_165[0][0]                 \n",
            "__________________________________________________________________________________________________\n",
            "activation_152 (Activation)     (None, 55, 55, 64)   0           batch_normalization_165[0][0]    \n",
            "__________________________________________________________________________________________________\n",
            "conv2d_166 (Conv2D)             (None, 55, 55, 256)  16640       activation_152[0][0]             \n",
            "__________________________________________________________________________________________________\n",
            "batch_normalization_166 (BatchN (None, 55, 55, 256)  1024        conv2d_166[0][0]                 \n",
            "__________________________________________________________________________________________________\n",
            "add_49 (Add)                    (None, 55, 55, 256)  0           batch_normalization_166[0][0]    \n",
            "                                                                 activation_150[0][0]             \n",
            "__________________________________________________________________________________________________\n",
            "activation_153 (Activation)     (None, 55, 55, 256)  0           add_49[0][0]                     \n",
            "__________________________________________________________________________________________________\n",
            "conv2d_167 (Conv2D)             (None, 55, 55, 64)   16448       activation_153[0][0]             \n",
            "__________________________________________________________________________________________________\n",
            "batch_normalization_167 (BatchN (None, 55, 55, 64)   256         conv2d_167[0][0]                 \n",
            "__________________________________________________________________________________________________\n",
            "activation_154 (Activation)     (None, 55, 55, 64)   0           batch_normalization_167[0][0]    \n",
            "__________________________________________________________________________________________________\n",
            "conv2d_168 (Conv2D)             (None, 55, 55, 64)   36928       activation_154[0][0]             \n",
            "__________________________________________________________________________________________________\n",
            "batch_normalization_168 (BatchN (None, 55, 55, 64)   256         conv2d_168[0][0]                 \n",
            "__________________________________________________________________________________________________\n",
            "activation_155 (Activation)     (None, 55, 55, 64)   0           batch_normalization_168[0][0]    \n",
            "__________________________________________________________________________________________________\n",
            "conv2d_169 (Conv2D)             (None, 55, 55, 256)  16640       activation_155[0][0]             \n",
            "__________________________________________________________________________________________________\n",
            "batch_normalization_169 (BatchN (None, 55, 55, 256)  1024        conv2d_169[0][0]                 \n",
            "__________________________________________________________________________________________________\n",
            "add_50 (Add)                    (None, 55, 55, 256)  0           batch_normalization_169[0][0]    \n",
            "                                                                 activation_153[0][0]             \n",
            "__________________________________________________________________________________________________\n",
            "activation_156 (Activation)     (None, 55, 55, 256)  0           add_50[0][0]                     \n",
            "__________________________________________________________________________________________________\n",
            "conv2d_170 (Conv2D)             (None, 28, 28, 128)  32896       activation_156[0][0]             \n",
            "__________________________________________________________________________________________________\n",
            "batch_normalization_170 (BatchN (None, 28, 28, 128)  512         conv2d_170[0][0]                 \n",
            "__________________________________________________________________________________________________\n",
            "activation_157 (Activation)     (None, 28, 28, 128)  0           batch_normalization_170[0][0]    \n",
            "__________________________________________________________________________________________________\n",
            "conv2d_171 (Conv2D)             (None, 28, 28, 128)  147584      activation_157[0][0]             \n",
            "__________________________________________________________________________________________________\n",
            "batch_normalization_171 (BatchN (None, 28, 28, 128)  512         conv2d_171[0][0]                 \n",
            "__________________________________________________________________________________________________\n",
            "activation_158 (Activation)     (None, 28, 28, 128)  0           batch_normalization_171[0][0]    \n",
            "__________________________________________________________________________________________________\n",
            "conv2d_172 (Conv2D)             (None, 28, 28, 512)  66048       activation_158[0][0]             \n",
            "__________________________________________________________________________________________________\n",
            "conv2d_173 (Conv2D)             (None, 28, 28, 512)  131584      activation_156[0][0]             \n",
            "__________________________________________________________________________________________________\n",
            "batch_normalization_172 (BatchN (None, 28, 28, 512)  2048        conv2d_172[0][0]                 \n",
            "__________________________________________________________________________________________________\n",
            "batch_normalization_173 (BatchN (None, 28, 28, 512)  2048        conv2d_173[0][0]                 \n",
            "__________________________________________________________________________________________________\n",
            "add_51 (Add)                    (None, 28, 28, 512)  0           batch_normalization_172[0][0]    \n",
            "                                                                 batch_normalization_173[0][0]    \n",
            "__________________________________________________________________________________________________\n",
            "activation_159 (Activation)     (None, 28, 28, 512)  0           add_51[0][0]                     \n",
            "__________________________________________________________________________________________________\n",
            "conv2d_174 (Conv2D)             (None, 28, 28, 128)  65664       activation_159[0][0]             \n",
            "__________________________________________________________________________________________________\n",
            "batch_normalization_174 (BatchN (None, 28, 28, 128)  512         conv2d_174[0][0]                 \n",
            "__________________________________________________________________________________________________\n",
            "activation_160 (Activation)     (None, 28, 28, 128)  0           batch_normalization_174[0][0]    \n",
            "__________________________________________________________________________________________________\n",
            "conv2d_175 (Conv2D)             (None, 28, 28, 128)  147584      activation_160[0][0]             \n",
            "__________________________________________________________________________________________________\n",
            "batch_normalization_175 (BatchN (None, 28, 28, 128)  512         conv2d_175[0][0]                 \n",
            "__________________________________________________________________________________________________\n",
            "activation_161 (Activation)     (None, 28, 28, 128)  0           batch_normalization_175[0][0]    \n",
            "__________________________________________________________________________________________________\n",
            "conv2d_176 (Conv2D)             (None, 28, 28, 512)  66048       activation_161[0][0]             \n",
            "__________________________________________________________________________________________________\n",
            "batch_normalization_176 (BatchN (None, 28, 28, 512)  2048        conv2d_176[0][0]                 \n",
            "__________________________________________________________________________________________________\n",
            "add_52 (Add)                    (None, 28, 28, 512)  0           batch_normalization_176[0][0]    \n",
            "                                                                 activation_159[0][0]             \n",
            "__________________________________________________________________________________________________\n",
            "activation_162 (Activation)     (None, 28, 28, 512)  0           add_52[0][0]                     \n",
            "__________________________________________________________________________________________________\n",
            "conv2d_177 (Conv2D)             (None, 28, 28, 128)  65664       activation_162[0][0]             \n",
            "__________________________________________________________________________________________________\n",
            "batch_normalization_177 (BatchN (None, 28, 28, 128)  512         conv2d_177[0][0]                 \n",
            "__________________________________________________________________________________________________\n",
            "activation_163 (Activation)     (None, 28, 28, 128)  0           batch_normalization_177[0][0]    \n",
            "__________________________________________________________________________________________________\n",
            "conv2d_178 (Conv2D)             (None, 28, 28, 128)  147584      activation_163[0][0]             \n",
            "__________________________________________________________________________________________________\n",
            "batch_normalization_178 (BatchN (None, 28, 28, 128)  512         conv2d_178[0][0]                 \n",
            "__________________________________________________________________________________________________\n",
            "activation_164 (Activation)     (None, 28, 28, 128)  0           batch_normalization_178[0][0]    \n",
            "__________________________________________________________________________________________________\n",
            "conv2d_179 (Conv2D)             (None, 28, 28, 512)  66048       activation_164[0][0]             \n",
            "__________________________________________________________________________________________________\n",
            "batch_normalization_179 (BatchN (None, 28, 28, 512)  2048        conv2d_179[0][0]                 \n",
            "__________________________________________________________________________________________________\n",
            "add_53 (Add)                    (None, 28, 28, 512)  0           batch_normalization_179[0][0]    \n",
            "                                                                 activation_162[0][0]             \n",
            "__________________________________________________________________________________________________\n",
            "activation_165 (Activation)     (None, 28, 28, 512)  0           add_53[0][0]                     \n",
            "__________________________________________________________________________________________________\n",
            "conv2d_180 (Conv2D)             (None, 28, 28, 128)  65664       activation_165[0][0]             \n",
            "__________________________________________________________________________________________________\n",
            "batch_normalization_180 (BatchN (None, 28, 28, 128)  512         conv2d_180[0][0]                 \n",
            "__________________________________________________________________________________________________\n",
            "activation_166 (Activation)     (None, 28, 28, 128)  0           batch_normalization_180[0][0]    \n",
            "__________________________________________________________________________________________________\n",
            "conv2d_181 (Conv2D)             (None, 28, 28, 128)  147584      activation_166[0][0]             \n",
            "__________________________________________________________________________________________________\n",
            "batch_normalization_181 (BatchN (None, 28, 28, 128)  512         conv2d_181[0][0]                 \n",
            "__________________________________________________________________________________________________\n",
            "activation_167 (Activation)     (None, 28, 28, 128)  0           batch_normalization_181[0][0]    \n",
            "__________________________________________________________________________________________________\n",
            "conv2d_182 (Conv2D)             (None, 28, 28, 512)  66048       activation_167[0][0]             \n",
            "__________________________________________________________________________________________________\n",
            "batch_normalization_182 (BatchN (None, 28, 28, 512)  2048        conv2d_182[0][0]                 \n",
            "__________________________________________________________________________________________________\n",
            "add_54 (Add)                    (None, 28, 28, 512)  0           batch_normalization_182[0][0]    \n",
            "                                                                 activation_165[0][0]             \n",
            "__________________________________________________________________________________________________\n",
            "activation_168 (Activation)     (None, 28, 28, 512)  0           add_54[0][0]                     \n",
            "__________________________________________________________________________________________________\n",
            "conv2d_183 (Conv2D)             (None, 14, 14, 256)  131328      activation_168[0][0]             \n",
            "__________________________________________________________________________________________________\n",
            "batch_normalization_183 (BatchN (None, 14, 14, 256)  1024        conv2d_183[0][0]                 \n",
            "__________________________________________________________________________________________________\n",
            "activation_169 (Activation)     (None, 14, 14, 256)  0           batch_normalization_183[0][0]    \n",
            "__________________________________________________________________________________________________\n",
            "conv2d_184 (Conv2D)             (None, 14, 14, 256)  590080      activation_169[0][0]             \n",
            "__________________________________________________________________________________________________\n",
            "batch_normalization_184 (BatchN (None, 14, 14, 256)  1024        conv2d_184[0][0]                 \n",
            "__________________________________________________________________________________________________\n",
            "activation_170 (Activation)     (None, 14, 14, 256)  0           batch_normalization_184[0][0]    \n",
            "__________________________________________________________________________________________________\n",
            "conv2d_185 (Conv2D)             (None, 14, 14, 1024) 263168      activation_170[0][0]             \n",
            "__________________________________________________________________________________________________\n",
            "conv2d_186 (Conv2D)             (None, 14, 14, 1024) 525312      activation_168[0][0]             \n",
            "__________________________________________________________________________________________________\n",
            "batch_normalization_185 (BatchN (None, 14, 14, 1024) 4096        conv2d_185[0][0]                 \n",
            "__________________________________________________________________________________________________\n",
            "batch_normalization_186 (BatchN (None, 14, 14, 1024) 4096        conv2d_186[0][0]                 \n",
            "__________________________________________________________________________________________________\n",
            "add_55 (Add)                    (None, 14, 14, 1024) 0           batch_normalization_185[0][0]    \n",
            "                                                                 batch_normalization_186[0][0]    \n",
            "__________________________________________________________________________________________________\n",
            "activation_171 (Activation)     (None, 14, 14, 1024) 0           add_55[0][0]                     \n",
            "__________________________________________________________________________________________________\n",
            "conv2d_187 (Conv2D)             (None, 14, 14, 256)  262400      activation_171[0][0]             \n",
            "__________________________________________________________________________________________________\n",
            "batch_normalization_187 (BatchN (None, 14, 14, 256)  1024        conv2d_187[0][0]                 \n",
            "__________________________________________________________________________________________________\n",
            "activation_172 (Activation)     (None, 14, 14, 256)  0           batch_normalization_187[0][0]    \n",
            "__________________________________________________________________________________________________\n",
            "conv2d_188 (Conv2D)             (None, 14, 14, 256)  590080      activation_172[0][0]             \n",
            "__________________________________________________________________________________________________\n",
            "batch_normalization_188 (BatchN (None, 14, 14, 256)  1024        conv2d_188[0][0]                 \n",
            "__________________________________________________________________________________________________\n",
            "activation_173 (Activation)     (None, 14, 14, 256)  0           batch_normalization_188[0][0]    \n",
            "__________________________________________________________________________________________________\n",
            "conv2d_189 (Conv2D)             (None, 14, 14, 1024) 263168      activation_173[0][0]             \n",
            "__________________________________________________________________________________________________\n",
            "batch_normalization_189 (BatchN (None, 14, 14, 1024) 4096        conv2d_189[0][0]                 \n",
            "__________________________________________________________________________________________________\n",
            "add_56 (Add)                    (None, 14, 14, 1024) 0           batch_normalization_189[0][0]    \n",
            "                                                                 activation_171[0][0]             \n",
            "__________________________________________________________________________________________________\n",
            "activation_174 (Activation)     (None, 14, 14, 1024) 0           add_56[0][0]                     \n",
            "__________________________________________________________________________________________________\n",
            "conv2d_190 (Conv2D)             (None, 14, 14, 256)  262400      activation_174[0][0]             \n",
            "__________________________________________________________________________________________________\n",
            "batch_normalization_190 (BatchN (None, 14, 14, 256)  1024        conv2d_190[0][0]                 \n",
            "__________________________________________________________________________________________________\n",
            "activation_175 (Activation)     (None, 14, 14, 256)  0           batch_normalization_190[0][0]    \n",
            "__________________________________________________________________________________________________\n",
            "conv2d_191 (Conv2D)             (None, 14, 14, 256)  590080      activation_175[0][0]             \n",
            "__________________________________________________________________________________________________\n",
            "batch_normalization_191 (BatchN (None, 14, 14, 256)  1024        conv2d_191[0][0]                 \n",
            "__________________________________________________________________________________________________\n",
            "activation_176 (Activation)     (None, 14, 14, 256)  0           batch_normalization_191[0][0]    \n",
            "__________________________________________________________________________________________________\n",
            "conv2d_192 (Conv2D)             (None, 14, 14, 1024) 263168      activation_176[0][0]             \n",
            "__________________________________________________________________________________________________\n",
            "batch_normalization_192 (BatchN (None, 14, 14, 1024) 4096        conv2d_192[0][0]                 \n",
            "__________________________________________________________________________________________________\n",
            "add_57 (Add)                    (None, 14, 14, 1024) 0           batch_normalization_192[0][0]    \n",
            "                                                                 activation_174[0][0]             \n",
            "__________________________________________________________________________________________________\n",
            "activation_177 (Activation)     (None, 14, 14, 1024) 0           add_57[0][0]                     \n",
            "__________________________________________________________________________________________________\n",
            "conv2d_193 (Conv2D)             (None, 14, 14, 256)  262400      activation_177[0][0]             \n",
            "__________________________________________________________________________________________________\n",
            "batch_normalization_193 (BatchN (None, 14, 14, 256)  1024        conv2d_193[0][0]                 \n",
            "__________________________________________________________________________________________________\n",
            "activation_178 (Activation)     (None, 14, 14, 256)  0           batch_normalization_193[0][0]    \n",
            "__________________________________________________________________________________________________\n",
            "conv2d_194 (Conv2D)             (None, 14, 14, 256)  590080      activation_178[0][0]             \n",
            "__________________________________________________________________________________________________\n",
            "batch_normalization_194 (BatchN (None, 14, 14, 256)  1024        conv2d_194[0][0]                 \n",
            "__________________________________________________________________________________________________\n",
            "activation_179 (Activation)     (None, 14, 14, 256)  0           batch_normalization_194[0][0]    \n",
            "__________________________________________________________________________________________________\n",
            "conv2d_195 (Conv2D)             (None, 14, 14, 1024) 263168      activation_179[0][0]             \n",
            "__________________________________________________________________________________________________\n",
            "batch_normalization_195 (BatchN (None, 14, 14, 1024) 4096        conv2d_195[0][0]                 \n",
            "__________________________________________________________________________________________________\n",
            "add_58 (Add)                    (None, 14, 14, 1024) 0           batch_normalization_195[0][0]    \n",
            "                                                                 activation_177[0][0]             \n",
            "__________________________________________________________________________________________________\n",
            "activation_180 (Activation)     (None, 14, 14, 1024) 0           add_58[0][0]                     \n",
            "__________________________________________________________________________________________________\n",
            "conv2d_196 (Conv2D)             (None, 14, 14, 256)  262400      activation_180[0][0]             \n",
            "__________________________________________________________________________________________________\n",
            "batch_normalization_196 (BatchN (None, 14, 14, 256)  1024        conv2d_196[0][0]                 \n",
            "__________________________________________________________________________________________________\n",
            "activation_181 (Activation)     (None, 14, 14, 256)  0           batch_normalization_196[0][0]    \n",
            "__________________________________________________________________________________________________\n",
            "conv2d_197 (Conv2D)             (None, 14, 14, 256)  590080      activation_181[0][0]             \n",
            "__________________________________________________________________________________________________\n",
            "batch_normalization_197 (BatchN (None, 14, 14, 256)  1024        conv2d_197[0][0]                 \n",
            "__________________________________________________________________________________________________\n",
            "activation_182 (Activation)     (None, 14, 14, 256)  0           batch_normalization_197[0][0]    \n",
            "__________________________________________________________________________________________________\n",
            "conv2d_198 (Conv2D)             (None, 14, 14, 1024) 263168      activation_182[0][0]             \n",
            "__________________________________________________________________________________________________\n",
            "batch_normalization_198 (BatchN (None, 14, 14, 1024) 4096        conv2d_198[0][0]                 \n",
            "__________________________________________________________________________________________________\n",
            "add_59 (Add)                    (None, 14, 14, 1024) 0           batch_normalization_198[0][0]    \n",
            "                                                                 activation_180[0][0]             \n",
            "__________________________________________________________________________________________________\n",
            "activation_183 (Activation)     (None, 14, 14, 1024) 0           add_59[0][0]                     \n",
            "__________________________________________________________________________________________________\n",
            "conv2d_199 (Conv2D)             (None, 14, 14, 256)  262400      activation_183[0][0]             \n",
            "__________________________________________________________________________________________________\n",
            "batch_normalization_199 (BatchN (None, 14, 14, 256)  1024        conv2d_199[0][0]                 \n",
            "__________________________________________________________________________________________________\n",
            "activation_184 (Activation)     (None, 14, 14, 256)  0           batch_normalization_199[0][0]    \n",
            "__________________________________________________________________________________________________\n",
            "conv2d_200 (Conv2D)             (None, 14, 14, 256)  590080      activation_184[0][0]             \n",
            "__________________________________________________________________________________________________\n",
            "batch_normalization_200 (BatchN (None, 14, 14, 256)  1024        conv2d_200[0][0]                 \n",
            "__________________________________________________________________________________________________\n",
            "activation_185 (Activation)     (None, 14, 14, 256)  0           batch_normalization_200[0][0]    \n",
            "__________________________________________________________________________________________________\n",
            "conv2d_201 (Conv2D)             (None, 14, 14, 1024) 263168      activation_185[0][0]             \n",
            "__________________________________________________________________________________________________\n",
            "batch_normalization_201 (BatchN (None, 14, 14, 1024) 4096        conv2d_201[0][0]                 \n",
            "__________________________________________________________________________________________________\n",
            "add_60 (Add)                    (None, 14, 14, 1024) 0           batch_normalization_201[0][0]    \n",
            "                                                                 activation_183[0][0]             \n",
            "__________________________________________________________________________________________________\n",
            "activation_186 (Activation)     (None, 14, 14, 1024) 0           add_60[0][0]                     \n",
            "__________________________________________________________________________________________________\n",
            "conv2d_202 (Conv2D)             (None, 7, 7, 512)    524800      activation_186[0][0]             \n",
            "__________________________________________________________________________________________________\n",
            "batch_normalization_202 (BatchN (None, 7, 7, 512)    2048        conv2d_202[0][0]                 \n",
            "__________________________________________________________________________________________________\n",
            "activation_187 (Activation)     (None, 7, 7, 512)    0           batch_normalization_202[0][0]    \n",
            "__________________________________________________________________________________________________\n",
            "conv2d_203 (Conv2D)             (None, 7, 7, 512)    2359808     activation_187[0][0]             \n",
            "__________________________________________________________________________________________________\n",
            "batch_normalization_203 (BatchN (None, 7, 7, 512)    2048        conv2d_203[0][0]                 \n",
            "__________________________________________________________________________________________________\n",
            "activation_188 (Activation)     (None, 7, 7, 512)    0           batch_normalization_203[0][0]    \n",
            "__________________________________________________________________________________________________\n",
            "conv2d_204 (Conv2D)             (None, 7, 7, 2048)   1050624     activation_188[0][0]             \n",
            "__________________________________________________________________________________________________\n",
            "conv2d_205 (Conv2D)             (None, 7, 7, 2048)   2099200     activation_186[0][0]             \n",
            "__________________________________________________________________________________________________\n",
            "batch_normalization_204 (BatchN (None, 7, 7, 2048)   8192        conv2d_204[0][0]                 \n",
            "__________________________________________________________________________________________________\n",
            "batch_normalization_205 (BatchN (None, 7, 7, 2048)   8192        conv2d_205[0][0]                 \n",
            "__________________________________________________________________________________________________\n",
            "add_61 (Add)                    (None, 7, 7, 2048)   0           batch_normalization_204[0][0]    \n",
            "                                                                 batch_normalization_205[0][0]    \n",
            "__________________________________________________________________________________________________\n",
            "activation_189 (Activation)     (None, 7, 7, 2048)   0           add_61[0][0]                     \n",
            "__________________________________________________________________________________________________\n",
            "conv2d_206 (Conv2D)             (None, 7, 7, 512)    1049088     activation_189[0][0]             \n",
            "__________________________________________________________________________________________________\n",
            "batch_normalization_206 (BatchN (None, 7, 7, 512)    2048        conv2d_206[0][0]                 \n",
            "__________________________________________________________________________________________________\n",
            "activation_190 (Activation)     (None, 7, 7, 512)    0           batch_normalization_206[0][0]    \n",
            "__________________________________________________________________________________________________\n",
            "conv2d_207 (Conv2D)             (None, 7, 7, 512)    2359808     activation_190[0][0]             \n",
            "__________________________________________________________________________________________________\n",
            "batch_normalization_207 (BatchN (None, 7, 7, 512)    2048        conv2d_207[0][0]                 \n",
            "__________________________________________________________________________________________________\n",
            "activation_191 (Activation)     (None, 7, 7, 512)    0           batch_normalization_207[0][0]    \n",
            "__________________________________________________________________________________________________\n",
            "conv2d_208 (Conv2D)             (None, 7, 7, 2048)   1050624     activation_191[0][0]             \n",
            "__________________________________________________________________________________________________\n",
            "batch_normalization_208 (BatchN (None, 7, 7, 2048)   8192        conv2d_208[0][0]                 \n",
            "__________________________________________________________________________________________________\n",
            "add_62 (Add)                    (None, 7, 7, 2048)   0           batch_normalization_208[0][0]    \n",
            "                                                                 activation_189[0][0]             \n",
            "__________________________________________________________________________________________________\n",
            "activation_192 (Activation)     (None, 7, 7, 2048)   0           add_62[0][0]                     \n",
            "__________________________________________________________________________________________________\n",
            "conv2d_209 (Conv2D)             (None, 7, 7, 512)    1049088     activation_192[0][0]             \n",
            "__________________________________________________________________________________________________\n",
            "batch_normalization_209 (BatchN (None, 7, 7, 512)    2048        conv2d_209[0][0]                 \n",
            "__________________________________________________________________________________________________\n",
            "activation_193 (Activation)     (None, 7, 7, 512)    0           batch_normalization_209[0][0]    \n",
            "__________________________________________________________________________________________________\n",
            "conv2d_210 (Conv2D)             (None, 7, 7, 512)    2359808     activation_193[0][0]             \n",
            "__________________________________________________________________________________________________\n",
            "batch_normalization_210 (BatchN (None, 7, 7, 512)    2048        conv2d_210[0][0]                 \n",
            "__________________________________________________________________________________________________\n",
            "activation_194 (Activation)     (None, 7, 7, 512)    0           batch_normalization_210[0][0]    \n",
            "__________________________________________________________________________________________________\n",
            "conv2d_211 (Conv2D)             (None, 7, 7, 2048)   1050624     activation_194[0][0]             \n",
            "__________________________________________________________________________________________________\n",
            "batch_normalization_211 (BatchN (None, 7, 7, 2048)   8192        conv2d_211[0][0]                 \n",
            "__________________________________________________________________________________________________\n",
            "add_63 (Add)                    (None, 7, 7, 2048)   0           batch_normalization_211[0][0]    \n",
            "                                                                 activation_192[0][0]             \n",
            "__________________________________________________________________________________________________\n",
            "activation_195 (Activation)     (None, 7, 7, 2048)   0           add_63[0][0]                     \n",
            "__________________________________________________________________________________________________\n",
            "average_pooling2d_3 (AveragePoo (None, 4, 4, 2048)   0           activation_195[0][0]             \n",
            "__________________________________________________________________________________________________\n",
            "flatten_3 (Flatten)             (None, 32768)        0           average_pooling2d_3[0][0]        \n",
            "__________________________________________________________________________________________________\n",
            "dense_3 (Dense)                 (None, 10)           327690      flatten_3[0][0]                  \n",
            "==================================================================================================\n",
            "Total params: 23,915,402\n",
            "Trainable params: 23,862,282\n",
            "Non-trainable params: 53,120\n",
            "__________________________________________________________________________________________________\n"
          ],
          "name": "stdout"
        }
      ]
    },
    {
      "cell_type": "code",
      "metadata": {
        "id": "9xzpjwLtEcdZ"
      },
      "source": [
        "model.compile(loss = 'categorical_crossentropy',\n",
        "             optimizer = tf.keras.optimizers.Adam(), \n",
        "             metrics = ['accuracy'])"
      ],
      "execution_count": 127,
      "outputs": []
    },
    {
      "cell_type": "code",
      "metadata": {
        "colab": {
          "base_uri": "https://localhost:8080/"
        },
        "id": "vrx4XJ88FN6g",
        "outputId": "195e3e6e-c019-4660-f1c3-e4bf2508d356"
      },
      "source": [
        "model_history = model.fit(train_dataset, steps_per_epoch = int(len(train_dataset)*0.1), \n",
        "                          validation_data = val_dataset, \n",
        "                          validation_steps = int(len(val_dataset)*0.1) ,\n",
        "                          epochs = 10, \n",
        "                          callbacks = [earlyStopping])"
      ],
      "execution_count": null,
      "outputs": [
        {
          "output_type": "stream",
          "text": [
            "Epoch 1/25\n",
            "1230/1500 [=======================>......] - ETA: 1:34:42 - loss: 16.2579 - accuracy: 0.2980"
          ],
          "name": "stdout"
        }
      ]
    },
    {
      "cell_type": "code",
      "metadata": {
        "id": "F-_Uy2s0FvaL"
      },
      "source": [
        ""
      ],
      "execution_count": null,
      "outputs": []
    }
  ]
}