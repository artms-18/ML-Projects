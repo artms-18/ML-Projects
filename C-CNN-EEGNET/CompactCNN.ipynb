{
  "nbformat": 4,
  "nbformat_minor": 0,
  "metadata": {
    "colab": {
      "name": "CompactCNN.ipynb",
      "provenance": [],
      "machine_shape": "hm",
      "authorship_tag": "ABX9TyMWMCSWaknGV80FC4qTAaLR",
      "include_colab_link": true
    },
    "kernelspec": {
      "name": "python3",
      "display_name": "Python 3"
    },
    "language_info": {
      "name": "python"
    }
  },
  "cells": [
    {
      "cell_type": "markdown",
      "metadata": {
        "id": "view-in-github",
        "colab_type": "text"
      },
      "source": [
        "<a href=\"https://colab.research.google.com/github/mikashaw/ML-Projects/blob/main/C-CNN-EEGNET/CompactCNN.ipynb\" target=\"_parent\"><img src=\"https://colab.research.google.com/assets/colab-badge.svg\" alt=\"Open In Colab\"/></a>"
      ]
    },
    {
      "cell_type": "code",
      "execution_count": 4,
      "metadata": {
        "id": "Cfy6sr8s8Dl4"
      },
      "outputs": [],
      "source": [
        "import tensorflow as tf\n",
        "import numpy as np\n",
        "import scipy.io"
      ]
    },
    {
      "cell_type": "code",
      "source": [
        "# build tensorflow model from scratch\n",
        "# use tensorflow  "
      ],
      "metadata": {
        "id": "MZnbhBRP8bkt"
      },
      "execution_count": 2,
      "outputs": []
    },
    {
      "cell_type": "code",
      "source": [
        "!git clone https://github.com/aliasvishnu/EEGNet.git"
      ],
      "metadata": {
        "colab": {
          "base_uri": "https://localhost:8080/"
        },
        "id": "lWFhK7QC9AKp",
        "outputId": "b0843880-1946-41ac-b512-7abd7489f68b"
      },
      "execution_count": 3,
      "outputs": [
        {
          "output_type": "stream",
          "name": "stdout",
          "text": [
            "Cloning into 'EEGNet'...\n",
            "remote: Enumerating objects: 33, done.\u001b[K\n",
            "remote: Total 33 (delta 0), reused 0 (delta 0), pack-reused 33\u001b[K\n",
            "Unpacking objects: 100% (33/33), done.\n"
          ]
        }
      ]
    },
    {
      "cell_type": "code",
      "source": [
        "!git clone https://github.com/mnakanishi/12JFPM_SSVEP.git"
      ],
      "metadata": {
        "colab": {
          "base_uri": "https://localhost:8080/"
        },
        "id": "giOk-6N8hSAB",
        "outputId": "bb3b8b6c-4132-4a03-a2b1-b484109b9cab"
      },
      "execution_count": 4,
      "outputs": [
        {
          "output_type": "stream",
          "name": "stdout",
          "text": [
            "Cloning into '12JFPM_SSVEP'...\n",
            "remote: Enumerating objects: 43, done.\u001b[K\n",
            "remote: Total 43 (delta 0), reused 0 (delta 0), pack-reused 43\u001b[K\n",
            "Unpacking objects: 100% (43/43), done.\n",
            "Checking out files: 100% (13/13), done.\n"
          ]
        }
      ]
    },
    {
      "cell_type": "code",
      "source": [
        "# load in data for one user\n",
        "\n",
        "data = scipy.io.loadmat(\"/content/12JFPM_SSVEP/data/s1.mat\")"
      ],
      "metadata": {
        "id": "U9gYIOqmiXcO"
      },
      "execution_count": 5,
      "outputs": []
    },
    {
      "cell_type": "code",
      "source": [
        "\n",
        "# preprocess and reshaoe the data\n",
        "\n",
        "#make a different class if want to split into train and test\n",
        "\n",
        "\n",
        "class Preprocess:\n",
        "\n",
        "  \"\"\"preprocesses data with shape [Number of targets, Number of channels, Number of sampling points, Number of trials] \n",
        "  returning x_train and y_train dataset\"\"\"\n",
        "\n",
        "  def __init__(self, data):\n",
        "\n",
        "    self.data = data\n",
        "\n",
        "    self._num_targets = None\n",
        "    self._num_channels = None\n",
        "    self._num_sampling_points = None\n",
        "    self._num_trials = None \n",
        "\n",
        "  def process(self):\n",
        "    \"\"\"\n",
        "    main public function: \n",
        "    Returns: reshaped data to shape [trials, samples, channels] in the form of a numpy array\n",
        "    \"\"\"\n",
        "\n",
        "    # get data in the form of an numpy array\n",
        "    np_data = self._to_numpy_array(self.data)\n",
        "    #reshape the array to the desired format\n",
        "    reshaped_arr = self._reshape_data(np_data)\n",
        "    # get the training labels from the dataset and strip off labels from the data\n",
        "    np_data, labels = self._get_labels(reshaped_arr)\n",
        "\n",
        "    return np_data, labels\n",
        "\n",
        "  def _to_numpy_array(self, data):\n",
        "\n",
        "    data= np.array(data['eeg'], dtype='float32')\n",
        "\n",
        "    #set properties\n",
        "    self._num_targets = data.shape[0]\n",
        "    self._num_channels = data.shape[1]\n",
        "    self._num_sampling_points = data.shape[2]\n",
        "    self._num_trials = data.shape[3]\n",
        "\n",
        "    return data\n",
        "\n",
        "  def _reshape_data(self, data):\n",
        "\n",
        "    reshaped_data = data.reshape(self._num_targets, self._num_trials,1, self._num_sampling_points, self._num_channels)\n",
        "    return reshaped_data\n",
        "    \n",
        "\n",
        "  def _get_labels(self, data):\n",
        "\n",
        "    #get a labels for every sample in a trial there are 8 chennels \n",
        "\n",
        "    labels = []\n",
        "    \n",
        "    for class_num in range(0, self._num_targets):\n",
        "      labels.append(([class_num]*self._num_trials*self._num_sampling_points))\n",
        "\n",
        "    data= data[0,:,:,:]\n",
        "    \n",
        "    labels = np.array(np.squeeze(labels))\n",
        "\n",
        "    return data, labels \n",
        "\n",
        "\n",
        "\n"
      ],
      "metadata": {
        "id": "rq7l7k50i9ce"
      },
      "execution_count": 43,
      "outputs": []
    },
    {
      "cell_type": "code",
      "source": [
        "preprocessor = Preprocess(data)"
      ],
      "metadata": {
        "id": "CLlmgpflxfco"
      },
      "execution_count": 44,
      "outputs": []
    },
    {
      "cell_type": "code",
      "source": [
        "x_train, y_train = preprocessor.process()"
      ],
      "metadata": {
        "id": "CAFGiiuexr9u"
      },
      "execution_count": 45,
      "outputs": []
    },
    {
      "cell_type": "code",
      "source": [
        "x_train.shape"
      ],
      "metadata": {
        "colab": {
          "base_uri": "https://localhost:8080/"
        },
        "id": "4BPxZjyy22-n",
        "outputId": "6f6c1ab9-10ab-4185-e505-4529b3b69db4"
      },
      "execution_count": 46,
      "outputs": [
        {
          "output_type": "execute_result",
          "data": {
            "text/plain": [
              "(15, 1, 1114, 8)"
            ]
          },
          "metadata": {},
          "execution_count": 46
        }
      ]
    },
    {
      "cell_type": "code",
      "source": [
        "d = [4,5,6,6]"
      ],
      "metadata": {
        "id": "mpeyVgBpi-R1"
      },
      "execution_count": 1,
      "outputs": []
    },
    {
      "cell_type": "code",
      "source": [
        "l = []\n",
        "l.append(([9]*4*5))\n",
        "l.append([8]*4*5)"
      ],
      "metadata": {
        "id": "fP8Qo9bNz_17"
      },
      "execution_count": 14,
      "outputs": []
    },
    {
      "cell_type": "code",
      "source": [
        "l"
      ],
      "metadata": {
        "colab": {
          "base_uri": "https://localhost:8080/"
        },
        "id": "JaXFxPdw0HkY",
        "outputId": "eb5ad60a-8811-475d-c339-2c8b3394edd6"
      },
      "execution_count": 15,
      "outputs": [
        {
          "output_type": "execute_result",
          "data": {
            "text/plain": [
              "[[9, 9, 9, 9, 9, 9, 9, 9, 9, 9, 9, 9, 9, 9, 9, 9, 9, 9, 9, 9],\n",
              " [8, 8, 8, 8, 8, 8, 8, 8, 8, 8, 8, 8, 8, 8, 8, 8, 8, 8, 8, 8]]"
            ]
          },
          "metadata": {},
          "execution_count": 15
        }
      ]
    },
    {
      "cell_type": "code",
      "source": [
        "l = np.array()"
      ],
      "metadata": {
        "colab": {
          "base_uri": "https://localhost:8080/"
        },
        "id": "KQx-nv4h0z5T",
        "outputId": "d5cdea67-77df-4141-e607-94408b7de658"
      },
      "execution_count": 11,
      "outputs": [
        {
          "output_type": "execute_result",
          "data": {
            "text/plain": [
              "array([9, 9, 9, 9, 9, 9, 9, 9, 9, 9, 9, 9, 9, 9, 9, 9, 9, 9, 9, 9])"
            ]
          },
          "metadata": {},
          "execution_count": 11
        }
      ]
    },
    {
      "cell_type": "code",
      "source": [
        "d = np.array(d)"
      ],
      "metadata": {
        "id": "cYU9okN9kszo"
      },
      "execution_count": null,
      "outputs": []
    },
    {
      "cell_type": "code",
      "source": [
        "fat_array = np.array([[[[1]]]])"
      ],
      "metadata": {
        "id": "tws-HwJRkwE2"
      },
      "execution_count": null,
      "outputs": []
    },
    {
      "cell_type": "code",
      "source": [
        "fat_array.shape"
      ],
      "metadata": {
        "colab": {
          "base_uri": "https://localhost:8080/"
        },
        "id": "uNYTfyAVn24Y",
        "outputId": "a3abca32-ec9d-4093-9869-0ec462692c56"
      },
      "execution_count": null,
      "outputs": [
        {
          "output_type": "execute_result",
          "data": {
            "text/plain": [
              "(1, 1, 1, 1)"
            ]
          },
          "metadata": {},
          "execution_count": 16
        }
      ]
    },
    {
      "cell_type": "code",
      "source": [
        "fat_array = fat_array[:,:,:]"
      ],
      "metadata": {
        "id": "RRhCV6NRn7-c"
      },
      "execution_count": null,
      "outputs": []
    },
    {
      "cell_type": "code",
      "source": [
        "fat_array"
      ],
      "metadata": {
        "colab": {
          "base_uri": "https://localhost:8080/"
        },
        "id": "0gWxWu6XoBLR",
        "outputId": "2c40e33e-dfaf-402c-f7c6-0b1dc93d095a"
      },
      "execution_count": null,
      "outputs": [
        {
          "output_type": "execute_result",
          "data": {
            "text/plain": [
              "array([], shape=(0, 1, 1, 1), dtype=int64)"
            ]
          },
          "metadata": {},
          "execution_count": 23
        }
      ]
    },
    {
      "cell_type": "code",
      "source": [
        "arr = np.array([[[4,6,7], [4,5,6]]])\n",
        "arr"
      ],
      "metadata": {
        "colab": {
          "base_uri": "https://localhost:8080/"
        },
        "id": "-BTdW8cBoCcc",
        "outputId": "d4ea7eb7-3568-43fc-fabd-43b1cbc18e54"
      },
      "execution_count": null,
      "outputs": [
        {
          "output_type": "execute_result",
          "data": {
            "text/plain": [
              "array([[[4, 6, 7],\n",
              "        [4, 5, 6]]])"
            ]
          },
          "metadata": {},
          "execution_count": 38
        }
      ]
    },
    {
      "cell_type": "code",
      "source": [
        "arr = np.squeeze(arr)\n",
        "arr"
      ],
      "metadata": {
        "colab": {
          "base_uri": "https://localhost:8080/"
        },
        "id": "7nC0L8EAoXce",
        "outputId": "9eaf63e3-70e8-45a9-dd55-406fb7e5d66f"
      },
      "execution_count": null,
      "outputs": [
        {
          "output_type": "execute_result",
          "data": {
            "text/plain": [
              "array([[4, 6, 7],\n",
              "       [4, 5, 6]])"
            ]
          },
          "metadata": {},
          "execution_count": 39
        }
      ]
    },
    {
      "cell_type": "code",
      "source": [
        ""
      ],
      "metadata": {
        "colab": {
          "base_uri": "https://localhost:8080/"
        },
        "id": "tFPoETdBon8n",
        "outputId": "756db52f-b85d-4fcb-ab3d-716c6ea310b3"
      },
      "execution_count": null,
      "outputs": [
        {
          "output_type": "execute_result",
          "data": {
            "text/plain": [
              "array([[4, 6, 7],\n",
              "       [4, 5, 6]])"
            ]
          },
          "metadata": {},
          "execution_count": 29
        }
      ]
    },
    {
      "cell_type": "code",
      "source": [
        ""
      ],
      "metadata": {
        "id": "drF2Ig4Coo1v"
      },
      "execution_count": null,
      "outputs": []
    }
  ]
}