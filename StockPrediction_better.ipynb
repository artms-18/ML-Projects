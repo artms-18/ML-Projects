{
  "nbformat": 4,
  "nbformat_minor": 0,
  "metadata": {
    "colab": {
      "name": " StockPrediction_better.ipynb",
      "provenance": [],
      "authorship_tag": "ABX9TyMPap4rh9P0Uld1c06VfRjb",
      "include_colab_link": true
    },
    "kernelspec": {
      "name": "python3",
      "display_name": "Python 3"
    },
    "language_info": {
      "name": "python"
    }
  },
  "cells": [
    {
      "cell_type": "markdown",
      "metadata": {
        "id": "view-in-github",
        "colab_type": "text"
      },
      "source": [
        "<a href=\"https://colab.research.google.com/github/artms-18/ML-Projects/blob/main/StockPrediction_better.ipynb\" target=\"_parent\"><img src=\"https://colab.research.google.com/assets/colab-badge.svg\" alt=\"Open In Colab\"/></a>"
      ]
    },
    {
      "cell_type": "markdown",
      "metadata": {
        "id": "k3zcFzsk4e8u"
      },
      "source": [
        "## STOCK PREDICTION WITH TENSORFLOW 2.0!\n",
        "\n",
        "In this notebook, we will be predicting prices of General Electric's stock using a Transformer neural network"
      ]
    },
    {
      "cell_type": "markdown",
      "metadata": {
        "id": "g0H4sS1T40Z0"
      },
      "source": [
        "## Step 1 - Import data"
      ]
    },
    {
      "cell_type": "code",
      "metadata": {
        "id": "0eLGodHf45k-",
        "colab": {
          "base_uri": "https://localhost:8080/"
        },
        "outputId": "385132ac-3327-4f40-a2ef-f29f54d010c4"
      },
      "source": [
        "import numpy as np\n",
        "import matplotlib.pyplot as plt\n",
        "import pandas as pd\n",
        "import os\n",
        "from sklearn.preprocessing import MinMaxScaler\n",
        "from google.colab import files\n",
        "import tensorflow as tf\n",
        "\n",
        "print(tf.__version__)"
      ],
      "execution_count": 7,
      "outputs": [
        {
          "output_type": "stream",
          "text": [
            "2.4.1\n"
          ],
          "name": "stdout"
        }
      ]
    },
    {
      "cell_type": "code",
      "metadata": {
        "colab": {
          "resources": {
            "http://localhost:8080/nbextensions/google.colab/files.js": {
              "data": "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",
              "ok": true,
              "headers": [
                [
                  "content-type",
                  "application/javascript"
                ]
              ],
              "status": 200,
              "status_text": ""
            }
          },
          "base_uri": "https://localhost:8080/",
          "height": 72
        },
        "id": "rOkCpr4C6rpJ",
        "outputId": "7f16ee24-41ca-4900-e972-fc4ff2aafc1b"
      },
      "source": [
        "uploaded = files.upload()\n"
      ],
      "execution_count": 8,
      "outputs": [
        {
          "output_type": "display_data",
          "data": {
            "text/html": [
              "\n",
              "     <input type=\"file\" id=\"files-811f2363-e038-4fc8-9dd8-20e2829fc8c5\" name=\"files[]\" multiple disabled\n",
              "        style=\"border:none\" />\n",
              "     <output id=\"result-811f2363-e038-4fc8-9dd8-20e2829fc8c5\">\n",
              "      Upload widget is only available when the cell has been executed in the\n",
              "      current browser session. Please rerun this cell to enable.\n",
              "      </output>\n",
              "      <script src=\"/nbextensions/google.colab/files.js\"></script> "
            ],
            "text/plain": [
              "<IPython.core.display.HTML object>"
            ]
          },
          "metadata": {
            "tags": []
          }
        },
        {
          "output_type": "stream",
          "text": [
            "Saving GE (1).csv to GE (1) (1).csv\n"
          ],
          "name": "stdout"
        }
      ]
    },
    {
      "cell_type": "code",
      "metadata": {
        "colab": {
          "base_uri": "https://localhost:8080/"
        },
        "id": "OfJuMb-I7Ca4",
        "outputId": "dc0a8b60-1fbf-4f1f-a039-ba36e6450df2"
      },
      "source": [
        "for fn in uploaded.keys():\n",
        "  print(\"User uploaded file {name} with length {length} bytes\".format(name = fn, length = len(uploaded[fn])))"
      ],
      "execution_count": 9,
      "outputs": [
        {
          "output_type": "stream",
          "text": [
            "User uploaded file GE (1).csv with length 884373 bytes\n"
          ],
          "name": "stdout"
        }
      ]
    },
    {
      "cell_type": "code",
      "metadata": {
        "id": "sVoOb6jz7sPO"
      },
      "source": [
        "import io\n",
        "\n",
        "df = pd.read_csv(io.StringIO(uploaded['GE (1).csv'].decode('utf-8')))"
      ],
      "execution_count": 10,
      "outputs": []
    },
    {
      "cell_type": "code",
      "metadata": {
        "colab": {
          "base_uri": "https://localhost:8080/",
          "height": 204
        },
        "id": "SZq1uaGq51Gd",
        "outputId": "e8892cc8-8def-4840-fa3f-493ae093d0e0"
      },
      "source": [
        "df.head()"
      ],
      "execution_count": 11,
      "outputs": [
        {
          "output_type": "execute_result",
          "data": {
            "text/html": [
              "<div>\n",
              "<style scoped>\n",
              "    .dataframe tbody tr th:only-of-type {\n",
              "        vertical-align: middle;\n",
              "    }\n",
              "\n",
              "    .dataframe tbody tr th {\n",
              "        vertical-align: top;\n",
              "    }\n",
              "\n",
              "    .dataframe thead th {\n",
              "        text-align: right;\n",
              "    }\n",
              "</style>\n",
              "<table border=\"1\" class=\"dataframe\">\n",
              "  <thead>\n",
              "    <tr style=\"text-align: right;\">\n",
              "      <th></th>\n",
              "      <th>Date</th>\n",
              "      <th>Open</th>\n",
              "      <th>High</th>\n",
              "      <th>Low</th>\n",
              "      <th>Close</th>\n",
              "      <th>Adj Close</th>\n",
              "      <th>Volume</th>\n",
              "    </tr>\n",
              "  </thead>\n",
              "  <tbody>\n",
              "    <tr>\n",
              "      <th>0</th>\n",
              "      <td>1969-01-06</td>\n",
              "      <td>0.959034</td>\n",
              "      <td>0.959034</td>\n",
              "      <td>0.939002</td>\n",
              "      <td>0.945262</td>\n",
              "      <td>0.190349</td>\n",
              "      <td>2805504</td>\n",
              "    </tr>\n",
              "    <tr>\n",
              "      <th>1</th>\n",
              "      <td>1969-01-07</td>\n",
              "      <td>0.941506</td>\n",
              "      <td>0.941506</td>\n",
              "      <td>0.911458</td>\n",
              "      <td>0.925230</td>\n",
              "      <td>0.186315</td>\n",
              "      <td>4233216</td>\n",
              "    </tr>\n",
              "    <tr>\n",
              "      <th>2</th>\n",
              "      <td>1969-01-08</td>\n",
              "      <td>0.925230</td>\n",
              "      <td>0.930238</td>\n",
              "      <td>0.907702</td>\n",
              "      <td>0.921474</td>\n",
              "      <td>0.185559</td>\n",
              "      <td>3065088</td>\n",
              "    </tr>\n",
              "    <tr>\n",
              "      <th>3</th>\n",
              "      <td>1969-01-09</td>\n",
              "      <td>0.921474</td>\n",
              "      <td>0.931490</td>\n",
              "      <td>0.916466</td>\n",
              "      <td>0.920222</td>\n",
              "      <td>0.185306</td>\n",
              "      <td>3065088</td>\n",
              "    </tr>\n",
              "    <tr>\n",
              "      <th>4</th>\n",
              "      <td>1969-01-10</td>\n",
              "      <td>0.917718</td>\n",
              "      <td>0.917718</td>\n",
              "      <td>0.906450</td>\n",
              "      <td>0.906450</td>\n",
              "      <td>0.182533</td>\n",
              "      <td>2595840</td>\n",
              "    </tr>\n",
              "  </tbody>\n",
              "</table>\n",
              "</div>"
            ],
            "text/plain": [
              "         Date      Open      High       Low     Close  Adj Close   Volume\n",
              "0  1969-01-06  0.959034  0.959034  0.939002  0.945262   0.190349  2805504\n",
              "1  1969-01-07  0.941506  0.941506  0.911458  0.925230   0.186315  4233216\n",
              "2  1969-01-08  0.925230  0.930238  0.907702  0.921474   0.185559  3065088\n",
              "3  1969-01-09  0.921474  0.931490  0.916466  0.920222   0.185306  3065088\n",
              "4  1969-01-10  0.917718  0.917718  0.906450  0.906450   0.182533  2595840"
            ]
          },
          "metadata": {
            "tags": []
          },
          "execution_count": 11
        }
      ]
    },
    {
      "cell_type": "code",
      "metadata": {
        "colab": {
          "base_uri": "https://localhost:8080/",
          "height": 204
        },
        "id": "-W6zzeOo7-rX",
        "outputId": "5b9945c6-1d1b-4ce5-ab3a-936f3f5812f4"
      },
      "source": [
        "# Sort Dataframe by date\n",
        "\n",
        "df = df.sort_values('Date')\n",
        "\n",
        "# Check result\n",
        "\n",
        "df.head()\n",
        "\n"
      ],
      "execution_count": 12,
      "outputs": [
        {
          "output_type": "execute_result",
          "data": {
            "text/html": [
              "<div>\n",
              "<style scoped>\n",
              "    .dataframe tbody tr th:only-of-type {\n",
              "        vertical-align: middle;\n",
              "    }\n",
              "\n",
              "    .dataframe tbody tr th {\n",
              "        vertical-align: top;\n",
              "    }\n",
              "\n",
              "    .dataframe thead th {\n",
              "        text-align: right;\n",
              "    }\n",
              "</style>\n",
              "<table border=\"1\" class=\"dataframe\">\n",
              "  <thead>\n",
              "    <tr style=\"text-align: right;\">\n",
              "      <th></th>\n",
              "      <th>Date</th>\n",
              "      <th>Open</th>\n",
              "      <th>High</th>\n",
              "      <th>Low</th>\n",
              "      <th>Close</th>\n",
              "      <th>Adj Close</th>\n",
              "      <th>Volume</th>\n",
              "    </tr>\n",
              "  </thead>\n",
              "  <tbody>\n",
              "    <tr>\n",
              "      <th>0</th>\n",
              "      <td>1969-01-06</td>\n",
              "      <td>0.959034</td>\n",
              "      <td>0.959034</td>\n",
              "      <td>0.939002</td>\n",
              "      <td>0.945262</td>\n",
              "      <td>0.190349</td>\n",
              "      <td>2805504</td>\n",
              "    </tr>\n",
              "    <tr>\n",
              "      <th>1</th>\n",
              "      <td>1969-01-07</td>\n",
              "      <td>0.941506</td>\n",
              "      <td>0.941506</td>\n",
              "      <td>0.911458</td>\n",
              "      <td>0.925230</td>\n",
              "      <td>0.186315</td>\n",
              "      <td>4233216</td>\n",
              "    </tr>\n",
              "    <tr>\n",
              "      <th>2</th>\n",
              "      <td>1969-01-08</td>\n",
              "      <td>0.925230</td>\n",
              "      <td>0.930238</td>\n",
              "      <td>0.907702</td>\n",
              "      <td>0.921474</td>\n",
              "      <td>0.185559</td>\n",
              "      <td>3065088</td>\n",
              "    </tr>\n",
              "    <tr>\n",
              "      <th>3</th>\n",
              "      <td>1969-01-09</td>\n",
              "      <td>0.921474</td>\n",
              "      <td>0.931490</td>\n",
              "      <td>0.916466</td>\n",
              "      <td>0.920222</td>\n",
              "      <td>0.185306</td>\n",
              "      <td>3065088</td>\n",
              "    </tr>\n",
              "    <tr>\n",
              "      <th>4</th>\n",
              "      <td>1969-01-10</td>\n",
              "      <td>0.917718</td>\n",
              "      <td>0.917718</td>\n",
              "      <td>0.906450</td>\n",
              "      <td>0.906450</td>\n",
              "      <td>0.182533</td>\n",
              "      <td>2595840</td>\n",
              "    </tr>\n",
              "  </tbody>\n",
              "</table>\n",
              "</div>"
            ],
            "text/plain": [
              "         Date      Open      High       Low     Close  Adj Close   Volume\n",
              "0  1969-01-06  0.959034  0.959034  0.939002  0.945262   0.190349  2805504\n",
              "1  1969-01-07  0.941506  0.941506  0.911458  0.925230   0.186315  4233216\n",
              "2  1969-01-08  0.925230  0.930238  0.907702  0.921474   0.185559  3065088\n",
              "3  1969-01-09  0.921474  0.931490  0.916466  0.920222   0.185306  3065088\n",
              "4  1969-01-10  0.917718  0.917718  0.906450  0.906450   0.182533  2595840"
            ]
          },
          "metadata": {
            "tags": []
          },
          "execution_count": 12
        }
      ]
    },
    {
      "cell_type": "code",
      "metadata": {
        "colab": {
          "base_uri": "https://localhost:8080/",
          "height": 589
        },
        "id": "9Y4Esd2Q8MPy",
        "outputId": "cbcfa5e6-3ca8-4448-ea12-6e3bf59877ef"
      },
      "source": [
        "# Visualize data\n",
        "\n",
        "plt.figure(figsize = (18,9))\n",
        "plt.plot(range(df.shape[0]), (df['Low'] + df['High'])/2.0)\n",
        "plt.xticks(range(0, df.shape[0], 500), df['Date'].loc[::500], rotation = 45)\n",
        "plt.xlabel('Date', fontsize = 10)\n",
        "plt.ylabel('Mid Price', fontsize = 10)\n",
        "plt.show()"
      ],
      "execution_count": 13,
      "outputs": [
        {
          "output_type": "display_data",
          "data": {
            "image/png": "[encoded data removed]",
            "text/plain": [
              "<Figure size 1296x648 with 1 Axes>"
            ]
          },
          "metadata": {
            "tags": [],
            "needs_background": "light"
          }
        }
      ]
    },
    {
      "cell_type": "markdown",
      "metadata": {
        "id": "3kG0Rt3K9_HP"
      },
      "source": [
        "## Step 2 - Data preprocessing"
      ]
    },
    {
      "cell_type": "code",
      "metadata": {
        "id": "bSGpy3cq6jQH"
      },
      "source": [
        "df['mid'] = (df['Low'] + df['High'])/2.0"
      ],
      "execution_count": 14,
      "outputs": []
    },
    {
      "cell_type": "code",
      "metadata": {
        "id": "OYgE3qvd6y97"
      },
      "source": [
        "SEQ_LEN = 60 # how long of a preceeding sequence to collect for RNN\n",
        "\n",
        "FUTURE_PERIOD_PREDICT = 1 # how far in the future are we trying to predict?\n",
        "\n",
        "RATIO_TO_PREDICT = 'mid'"
      ],
      "execution_count": 15,
      "outputs": []
    },
    {
      "cell_type": "code",
      "metadata": {
        "id": "4V8yDl617F4b"
      },
      "source": [
        "def classify(current, future):\n",
        "  if float(future) > float(current):\n",
        "    return 1\n",
        "  else:\n",
        "    return 0"
      ],
      "execution_count": 16,
      "outputs": []
    },
    {
      "cell_type": "code",
      "metadata": {
        "id": "QYKRmHxn7Q7S"
      },
      "source": [
        "df['future'] = df[RATIO_TO_PREDICT].shift(-FUTURE_PERIOD_PREDICT) #shifts by 1"
      ],
      "execution_count": 17,
      "outputs": []
    },
    {
      "cell_type": "code",
      "metadata": {
        "id": "NaSqv_637b8L"
      },
      "source": [
        "df['target'] = list(map(classify, df[RATIO_TO_PREDICT], df['future']))"
      ],
      "execution_count": 18,
      "outputs": []
    },
    {
      "cell_type": "code",
      "metadata": {
        "colab": {
          "base_uri": "https://localhost:8080/",
          "height": 204
        },
        "id": "fZVoPwnI8hjh",
        "outputId": "86d2a20e-ddfb-403e-8866-becb14fe9b5e"
      },
      "source": [
        "df.head()"
      ],
      "execution_count": 19,
      "outputs": [
        {
          "output_type": "execute_result",
          "data": {
            "text/html": [
              "<div>\n",
              "<style scoped>\n",
              "    .dataframe tbody tr th:only-of-type {\n",
              "        vertical-align: middle;\n",
              "    }\n",
              "\n",
              "    .dataframe tbody tr th {\n",
              "        vertical-align: top;\n",
              "    }\n",
              "\n",
              "    .dataframe thead th {\n",
              "        text-align: right;\n",
              "    }\n",
              "</style>\n",
              "<table border=\"1\" class=\"dataframe\">\n",
              "  <thead>\n",
              "    <tr style=\"text-align: right;\">\n",
              "      <th></th>\n",
              "      <th>Date</th>\n",
              "      <th>Open</th>\n",
              "      <th>High</th>\n",
              "      <th>Low</th>\n",
              "      <th>Close</th>\n",
              "      <th>Adj Close</th>\n",
              "      <th>Volume</th>\n",
              "      <th>mid</th>\n",
              "      <th>future</th>\n",
              "      <th>target</th>\n",
              "    </tr>\n",
              "  </thead>\n",
              "  <tbody>\n",
              "    <tr>\n",
              "      <th>0</th>\n",
              "      <td>1969-01-06</td>\n",
              "      <td>0.959034</td>\n",
              "      <td>0.959034</td>\n",
              "      <td>0.939002</td>\n",
              "      <td>0.945262</td>\n",
              "      <td>0.190349</td>\n",
              "      <td>2805504</td>\n",
              "      <td>0.949018</td>\n",
              "      <td>0.926482</td>\n",
              "      <td>0</td>\n",
              "    </tr>\n",
              "    <tr>\n",
              "      <th>1</th>\n",
              "      <td>1969-01-07</td>\n",
              "      <td>0.941506</td>\n",
              "      <td>0.941506</td>\n",
              "      <td>0.911458</td>\n",
              "      <td>0.925230</td>\n",
              "      <td>0.186315</td>\n",
              "      <td>4233216</td>\n",
              "      <td>0.926482</td>\n",
              "      <td>0.918970</td>\n",
              "      <td>0</td>\n",
              "    </tr>\n",
              "    <tr>\n",
              "      <th>2</th>\n",
              "      <td>1969-01-08</td>\n",
              "      <td>0.925230</td>\n",
              "      <td>0.930238</td>\n",
              "      <td>0.907702</td>\n",
              "      <td>0.921474</td>\n",
              "      <td>0.185559</td>\n",
              "      <td>3065088</td>\n",
              "      <td>0.918970</td>\n",
              "      <td>0.923978</td>\n",
              "      <td>1</td>\n",
              "    </tr>\n",
              "    <tr>\n",
              "      <th>3</th>\n",
              "      <td>1969-01-09</td>\n",
              "      <td>0.921474</td>\n",
              "      <td>0.931490</td>\n",
              "      <td>0.916466</td>\n",
              "      <td>0.920222</td>\n",
              "      <td>0.185306</td>\n",
              "      <td>3065088</td>\n",
              "      <td>0.923978</td>\n",
              "      <td>0.912084</td>\n",
              "      <td>0</td>\n",
              "    </tr>\n",
              "    <tr>\n",
              "      <th>4</th>\n",
              "      <td>1969-01-10</td>\n",
              "      <td>0.917718</td>\n",
              "      <td>0.917718</td>\n",
              "      <td>0.906450</td>\n",
              "      <td>0.906450</td>\n",
              "      <td>0.182533</td>\n",
              "      <td>2595840</td>\n",
              "      <td>0.912084</td>\n",
              "      <td>0.910832</td>\n",
              "      <td>0</td>\n",
              "    </tr>\n",
              "  </tbody>\n",
              "</table>\n",
              "</div>"
            ],
            "text/plain": [
              "         Date      Open      High  ...       mid    future  target\n",
              "0  1969-01-06  0.959034  0.959034  ...  0.949018  0.926482       0\n",
              "1  1969-01-07  0.941506  0.941506  ...  0.926482  0.918970       0\n",
              "2  1969-01-08  0.925230  0.930238  ...  0.918970  0.923978       1\n",
              "3  1969-01-09  0.921474  0.931490  ...  0.923978  0.912084       0\n",
              "4  1969-01-10  0.917718  0.917718  ...  0.912084  0.910832       0\n",
              "\n",
              "[5 rows x 10 columns]"
            ]
          },
          "metadata": {
            "tags": []
          },
          "execution_count": 19
        }
      ]
    },
    {
      "cell_type": "code",
      "metadata": {
        "colab": {
          "base_uri": "https://localhost:8080/",
          "height": 204
        },
        "id": "_OnMaCoH8jLe",
        "outputId": "3ae51b05-7852-423a-9e92-105a30ed011e"
      },
      "source": [
        "df.tail()"
      ],
      "execution_count": 20,
      "outputs": [
        {
          "output_type": "execute_result",
          "data": {
            "text/html": [
              "<div>\n",
              "<style scoped>\n",
              "    .dataframe tbody tr th:only-of-type {\n",
              "        vertical-align: middle;\n",
              "    }\n",
              "\n",
              "    .dataframe tbody tr th {\n",
              "        vertical-align: top;\n",
              "    }\n",
              "\n",
              "    .dataframe thead th {\n",
              "        text-align: right;\n",
              "    }\n",
              "</style>\n",
              "<table border=\"1\" class=\"dataframe\">\n",
              "  <thead>\n",
              "    <tr style=\"text-align: right;\">\n",
              "      <th></th>\n",
              "      <th>Date</th>\n",
              "      <th>Open</th>\n",
              "      <th>High</th>\n",
              "      <th>Low</th>\n",
              "      <th>Close</th>\n",
              "      <th>Adj Close</th>\n",
              "      <th>Volume</th>\n",
              "      <th>mid</th>\n",
              "      <th>future</th>\n",
              "      <th>target</th>\n",
              "    </tr>\n",
              "  </thead>\n",
              "  <tbody>\n",
              "    <tr>\n",
              "      <th>13193</th>\n",
              "      <td>2021-04-28</td>\n",
              "      <td>13.33</td>\n",
              "      <td>13.35</td>\n",
              "      <td>13.15</td>\n",
              "      <td>13.20</td>\n",
              "      <td>13.20</td>\n",
              "      <td>66095400</td>\n",
              "      <td>13.250</td>\n",
              "      <td>13.185</td>\n",
              "      <td>0</td>\n",
              "    </tr>\n",
              "    <tr>\n",
              "      <th>13194</th>\n",
              "      <td>2021-04-29</td>\n",
              "      <td>13.18</td>\n",
              "      <td>13.29</td>\n",
              "      <td>13.08</td>\n",
              "      <td>13.21</td>\n",
              "      <td>13.21</td>\n",
              "      <td>55157600</td>\n",
              "      <td>13.185</td>\n",
              "      <td>13.215</td>\n",
              "      <td>1</td>\n",
              "    </tr>\n",
              "    <tr>\n",
              "      <th>13195</th>\n",
              "      <td>2021-04-30</td>\n",
              "      <td>13.16</td>\n",
              "      <td>13.35</td>\n",
              "      <td>13.08</td>\n",
              "      <td>13.12</td>\n",
              "      <td>13.12</td>\n",
              "      <td>49863500</td>\n",
              "      <td>13.215</td>\n",
              "      <td>13.350</td>\n",
              "      <td>1</td>\n",
              "    </tr>\n",
              "    <tr>\n",
              "      <th>13196</th>\n",
              "      <td>2021-05-03</td>\n",
              "      <td>13.24</td>\n",
              "      <td>13.53</td>\n",
              "      <td>13.17</td>\n",
              "      <td>13.45</td>\n",
              "      <td>13.45</td>\n",
              "      <td>63472500</td>\n",
              "      <td>13.350</td>\n",
              "      <td>13.230</td>\n",
              "      <td>0</td>\n",
              "    </tr>\n",
              "    <tr>\n",
              "      <th>13197</th>\n",
              "      <td>2021-05-04</td>\n",
              "      <td>13.34</td>\n",
              "      <td>13.39</td>\n",
              "      <td>13.07</td>\n",
              "      <td>13.12</td>\n",
              "      <td>13.12</td>\n",
              "      <td>77489600</td>\n",
              "      <td>13.230</td>\n",
              "      <td>NaN</td>\n",
              "      <td>0</td>\n",
              "    </tr>\n",
              "  </tbody>\n",
              "</table>\n",
              "</div>"
            ],
            "text/plain": [
              "             Date   Open   High    Low  ...    Volume     mid  future  target\n",
              "13193  2021-04-28  13.33  13.35  13.15  ...  66095400  13.250  13.185       0\n",
              "13194  2021-04-29  13.18  13.29  13.08  ...  55157600  13.185  13.215       1\n",
              "13195  2021-04-30  13.16  13.35  13.08  ...  49863500  13.215  13.350       1\n",
              "13196  2021-05-03  13.24  13.53  13.17  ...  63472500  13.350  13.230       0\n",
              "13197  2021-05-04  13.34  13.39  13.07  ...  77489600  13.230     NaN       0\n",
              "\n",
              "[5 rows x 10 columns]"
            ]
          },
          "metadata": {
            "tags": []
          },
          "execution_count": 20
        }
      ]
    },
    {
      "cell_type": "code",
      "metadata": {
        "id": "BAlDdwmN8l_-"
      },
      "source": [
        "times = sorted(df.index.values) # get the times\n",
        "\n",
        "last_10pct = sorted(df.index.values)[-int(0.1*len(times))] # get the last 10% of the times\n",
        "last_20pct = sorted(df.index.values)[-int(0.2*len(times))] # get the last 20% of the times\n",
        "\n",
        "test_df = df[(df.index >= last_10pct)]\n",
        "validation_df = df[(df.index >= last_20pct) & (df.index < last_10pct)]\n",
        "train_df = df[(df.index < last_20pct)] # now the train_df is all the data up to the last 20%"
      ],
      "execution_count": 21,
      "outputs": []
    },
    {
      "cell_type": "code",
      "metadata": {
        "id": "_yq9UB9T9SOd"
      },
      "source": [
        "from collections import deque\n",
        "import numpy as np\n",
        "import random"
      ],
      "execution_count": 22,
      "outputs": []
    },
    {
      "cell_type": "code",
      "metadata": {
        "colab": {
          "base_uri": "https://localhost:8080/"
        },
        "id": "_s7N67__-Qob",
        "outputId": "4ff2c219-6db5-4aab-d9d1-bbdbeffd8e2d"
      },
      "source": [
        "train_df.drop(columns = ['Date', 'future', 'Open', 'High', 'Low', 'Close', 'Volume'], inplace = True)\n",
        "validation_df.drop(columns = ['Date', 'future', 'Open', 'High', 'Low', 'Close', 'Volume'], inplace = True)\n",
        "test_df.drop(columns = ['Date', 'future', 'Open', 'High', 'Low', 'Close','Volume'], inplace = True)\n"
      ],
      "execution_count": 23,
      "outputs": [
        {
          "output_type": "stream",
          "text": [
            "/usr/local/lib/python3.7/dist-packages/pandas/core/frame.py:4174: SettingWithCopyWarning: \n",
            "A value is trying to be set on a copy of a slice from a DataFrame\n",
            "\n",
            "See the caveats in the documentation: https://pandas.pydata.org/pandas-docs/stable/user_guide/indexing.html#returning-a-view-versus-a-copy\n",
            "  errors=errors,\n"
          ],
          "name": "stderr"
        }
      ]
    },
    {
      "cell_type": "code",
      "metadata": {
        "colab": {
          "base_uri": "https://localhost:8080/",
          "height": 204
        },
        "id": "Y_SRDLNg-182",
        "outputId": "88b1a6c9-8c7c-42e0-c6f8-a3b85686ff68"
      },
      "source": [
        "train_df.head()"
      ],
      "execution_count": 24,
      "outputs": [
        {
          "output_type": "execute_result",
          "data": {
            "text/html": [
              "<div>\n",
              "<style scoped>\n",
              "    .dataframe tbody tr th:only-of-type {\n",
              "        vertical-align: middle;\n",
              "    }\n",
              "\n",
              "    .dataframe tbody tr th {\n",
              "        vertical-align: top;\n",
              "    }\n",
              "\n",
              "    .dataframe thead th {\n",
              "        text-align: right;\n",
              "    }\n",
              "</style>\n",
              "<table border=\"1\" class=\"dataframe\">\n",
              "  <thead>\n",
              "    <tr style=\"text-align: right;\">\n",
              "      <th></th>\n",
              "      <th>Adj Close</th>\n",
              "      <th>mid</th>\n",
              "      <th>target</th>\n",
              "    </tr>\n",
              "  </thead>\n",
              "  <tbody>\n",
              "    <tr>\n",
              "      <th>0</th>\n",
              "      <td>0.190349</td>\n",
              "      <td>0.949018</td>\n",
              "      <td>0</td>\n",
              "    </tr>\n",
              "    <tr>\n",
              "      <th>1</th>\n",
              "      <td>0.186315</td>\n",
              "      <td>0.926482</td>\n",
              "      <td>0</td>\n",
              "    </tr>\n",
              "    <tr>\n",
              "      <th>2</th>\n",
              "      <td>0.185559</td>\n",
              "      <td>0.918970</td>\n",
              "      <td>1</td>\n",
              "    </tr>\n",
              "    <tr>\n",
              "      <th>3</th>\n",
              "      <td>0.185306</td>\n",
              "      <td>0.923978</td>\n",
              "      <td>0</td>\n",
              "    </tr>\n",
              "    <tr>\n",
              "      <th>4</th>\n",
              "      <td>0.182533</td>\n",
              "      <td>0.912084</td>\n",
              "      <td>0</td>\n",
              "    </tr>\n",
              "  </tbody>\n",
              "</table>\n",
              "</div>"
            ],
            "text/plain": [
              "   Adj Close       mid  target\n",
              "0   0.190349  0.949018       0\n",
              "1   0.186315  0.926482       0\n",
              "2   0.185559  0.918970       1\n",
              "3   0.185306  0.923978       0\n",
              "4   0.182533  0.912084       0"
            ]
          },
          "metadata": {
            "tags": []
          },
          "execution_count": 24
        }
      ]
    },
    {
      "cell_type": "code",
      "metadata": {
        "id": "vhn92RCa-7k1"
      },
      "source": [
        "# putting data into an array format\n",
        "\n",
        "train_data = train_df[RATIO_TO_PREDICT].to_numpy()\n",
        "valid_data = validation_df[RATIO_TO_PREDICT].to_numpy()\n",
        "test_data  = test_df[RATIO_TO_PREDICT].to_numpy()"
      ],
      "execution_count": 25,
      "outputs": []
    },
    {
      "cell_type": "code",
      "metadata": {
        "id": "8HGc879A_XYY"
      },
      "source": [
        "# reshaping data\n",
        "\n",
        "train_data = train_data.reshape(-1,1) # flattens data along y axis\n",
        "valid_data = valid_data.reshape(-1,1)\n",
        "test_data = test_data.reshape(-1,1)"
      ],
      "execution_count": 26,
      "outputs": []
    },
    {
      "cell_type": "code",
      "metadata": {
        "id": "dDhoK_ZwAGBV"
      },
      "source": [
        "scaler = MinMaxScaler()"
      ],
      "execution_count": 27,
      "outputs": []
    },
    {
      "cell_type": "code",
      "metadata": {
        "id": "a5Bo_nL8A0F-"
      },
      "source": [
        "# Train the scaler with training data and smooth data\n",
        "\n",
        "smoothing_window_size = 2500\n",
        "\n",
        "for di in range(0, 10000, smoothing_window_size):\n",
        "  scaler.fit(train_data[di: di + smoothing_window_size,:])\n",
        "  train_data[di: di+smoothing_window_size:,:] = scaler.transform(train_data[di:di+smoothing_window_size,:])\n",
        "\n",
        "# Normalize the last bit of remaining data\n",
        "\n",
        "scaler.fit(train_data[di+smoothing_window_size:,:])\n",
        "train_data[di + smoothing_window_size:,:] = scaler.transform(train_data[di+smoothing_window_size:,:])"
      ],
      "execution_count": 28,
      "outputs": []
    },
    {
      "cell_type": "code",
      "metadata": {
        "id": "smoiTaFCDCoi"
      },
      "source": [
        "# Reshape both train and test data\n",
        "\n",
        "train_data = train_data.reshape(-1)\n",
        "\n",
        "# Normalize test data and validation data\n",
        "\n",
        "valid_data = scaler.transform(valid_data).reshape(-1)\n",
        "test_data = scaler.transform(test_data).reshape(-1)\n",
        "\n"
      ],
      "execution_count": 29,
      "outputs": []
    },
    {
      "cell_type": "code",
      "metadata": {
        "id": "E5VcLPxe6sBl"
      },
      "source": [
        "# Now perform exponential moving average smoothing\n",
        "# So the data will have a smoother curve than the original ragged data\n",
        "\n",
        "EMA = 0.0\n",
        "gamma = 0.1\n",
        "\n",
        "for ti in range(10559):\n",
        "  EMA = gamma*train_data[ti] + (1-gamma) * EMA #uses previous data to smooth\n",
        "  train_data[ti] = EMA\n",
        "\n",
        "# Used for visualization and test purposes\n",
        "\n",
        "all_mid_data = np.concatenate([train_data, valid_data, test_data], axis = 0)\n"
      ],
      "execution_count": 30,
      "outputs": []
    },
    {
      "cell_type": "code",
      "metadata": {
        "id": "Z3rs_Y3I8IIG"
      },
      "source": [
        "#batching data\n",
        "\n",
        "X_train = []\n",
        "y_train = []\n",
        "\n",
        "for i in range(SEQ_LEN, len(train_data)):\n",
        "  X_train.append(train_data[i-SEQ_LEN:i])\n",
        "  y_train.append(train_data[i + (FUTURE_PERIOD_PREDICT-1)])\n",
        "\n",
        "X_train, y_train = np.array(X_train), np.array(y_train)\n",
        "\n",
        "X_train = np.reshape(X_train, (X_train.shape[0], X_train.shape[1], 1))"
      ],
      "execution_count": 31,
      "outputs": []
    },
    {
      "cell_type": "code",
      "metadata": {
        "id": "ud2Yq_EpFKhz"
      },
      "source": [
        "X_valid = []\n",
        "y_valid = []\n",
        "\n",
        "for i in range(SEQ_LEN, len(valid_data)):\n",
        "  X_valid.append(valid_data[i-SEQ_LEN:i])\n",
        "  y_valid.append(valid_data[i+(FUTURE_PERIOD_PREDICT - 1)])\n",
        "X_valid, y_valid = np.array(X_valid), np.array(y_valid)\n",
        "\n",
        "X_valid = np.reshape(X_valid, (X_valid.shape[0], X_valid.shape[1], 1))"
      ],
      "execution_count": 32,
      "outputs": []
    },
    {
      "cell_type": "code",
      "metadata": {
        "id": "YpG1SXGiFPWT"
      },
      "source": [
        "X_test = []\n",
        "y_test = []\n",
        "\n",
        "for i in range(SEQ_LEN, len(test_data)):\n",
        "  X_test.append(test_data[i-SEQ_LEN:i])\n",
        "  y_test.append(test_data[i + (FUTURE_PERIOD_PREDICT) - 1])\n",
        "X_test, y_test = np.array(X_test), np.array(y_test)\n",
        "\n",
        "X_test = np.reshape(X_test, (X_test.shape[0], X_test.shape[1], 1))\n"
      ],
      "execution_count": 33,
      "outputs": []
    },
    {
      "cell_type": "code",
      "metadata": {
        "id": "TUGB5qeHH3ZI"
      },
      "source": [
        "X_train_2 = []\n",
        "y_train_2 = []\n",
        "\n",
        "for i in range(SEQ_LEN, len(train_data)):\n",
        "  X_train_2.append(train_data[i-SEQ_LEN:i])\n",
        "  y_train_2.append(train_data[i + (FUTURE_PERIOD_PREDICT) - 1])\n",
        "\n",
        "X_train_2, y_train_2 = np.array(X_train_2), np.array(y_train_2)\n",
        "\n",
        "X_train_2 = np.reshape(X_train_2, (X_train_2.shape[0], X_train_2.shape[1], 1))\n",
        "\n"
      ],
      "execution_count": 34,
      "outputs": []
    },
    {
      "cell_type": "code",
      "metadata": {
        "colab": {
          "base_uri": "https://localhost:8080/",
          "height": 367
        },
        "id": "Dqh89ZeqHI-N",
        "outputId": "fd85f61b-f12b-410e-b551-f45de13eee93"
      },
      "source": [
        "# looking at preprocessed data\n",
        "\n",
        "plt.figure(figsize = (15, 5))\n",
        "plt.plot(np.arange(y_train_2.shape[0]), y_train_2, color = 'blue', label = 'train target')\n",
        "plt.plot(np.arange(y_train_2.shape[0], y_train_2.shape[0]+y_valid.shape[0]), y_valid, color = 'gray', label = 'valid target')\n",
        "plt.plot(np.arange(y_train_2.shape[0]+y_valid.shape[0], y_train_2.shape[0]+ y_valid.shape[0]+y_test.shape[0]), y_test, color = 'black', label = 'test target')\n",
        "\n",
        "plt.title(\"separated data\")\n",
        "plt.xlabel('time [days]')\n",
        "plt.ylabel('normalized price')\n",
        "plt.legend(loc = 'best')\n"
      ],
      "execution_count": 35,
      "outputs": [
        {
          "output_type": "execute_result",
          "data": {
            "text/plain": [
              "<matplotlib.legend.Legend at 0x7fb4cf879250>"
            ]
          },
          "metadata": {
            "tags": []
          },
          "execution_count": 35
        },
        {
          "output_type": "display_data",
          "data": {
            "image/png": "[encoded data removed]",
            "text/plain": [
              "<Figure size 1080x360 with 1 Axes>"
            ]
          },
          "metadata": {
            "tags": [],
            "needs_background": "light"
          }
        }
      ]
    },
    {
      "cell_type": "code",
      "metadata": {
        "id": "h_iVt7oXJ92U"
      },
      "source": [
        "from sklearn.utils import shuffle\n",
        "X_train, y_train = shuffle(X_train, y_train)"
      ],
      "execution_count": 36,
      "outputs": []
    },
    {
      "cell_type": "code",
      "metadata": {
        "id": "ITgxVCi5Kl7_"
      },
      "source": [
        "EPOCHS = 10\n",
        "BATCH_SIZE = 1024\n",
        "import time\n",
        "\n",
        "NAME = f\"{SEQ_LEN}-SEQ-{FUTURE_PERIOD_PREDICT}-PRED-{int(time.time())}\""
      ],
      "execution_count": 37,
      "outputs": []
    },
    {
      "cell_type": "code",
      "metadata": {
        "id": "H7s3kvEiLC9H"
      },
      "source": [
        ""
      ],
      "execution_count": 37,
      "outputs": []
    },
    {
      "cell_type": "code",
      "metadata": {
        "id": "x1FoKR4-LDza"
      },
      "source": [
        "import random, os, sys\n",
        "import numpy as np\n",
        "from tensorflow.keras.models import *\n",
        "from tensorflow.keras.layers import *\n",
        "from tensorflow.keras.callbacks import *\n",
        "import tensorflow as tf\n",
        "from tensorflow.keras.initializers import *\n",
        "from tensorflow.python.keras.layers import Layer\n",
        "\n",
        "try:\n",
        "  from dataloader import TokenList, pad_to_longest\n",
        "except: pass\n",
        "\n",
        "\n",
        "\n",
        "from keras import backend as K"
      ],
      "execution_count": 38,
      "outputs": []
    },
    {
      "cell_type": "code",
      "metadata": {
        "id": "9RFYak-0BqPM"
      },
      "source": [
        "embed_size = 60\n",
        "\n",
        "class LayerNormalization(Layer):\n",
        "    def __init__(self, eps=1e-6, **kwargs):\n",
        "        self.eps = eps\n",
        "        super(LayerNormalization, self).__init__(**kwargs)\n",
        "    def build(self, input_shape):\n",
        "        self.gamma = self.add_weight(name='gamma', shape=input_shape[-1:],\n",
        "                                     initializer=Ones(), trainable=True)\n",
        "        self.beta = self.add_weight(name='beta', shape=input_shape[-1:],\n",
        "                                    initializer=Zeros(), trainable=True)\n",
        "        super(LayerNormalization, self).build(input_shape)\n",
        "    def call(self, x):\n",
        "        mean = K.mean(x, axis=-1, keepdims=True)\n",
        "        std = K.std(x, axis=-1, keepdims=True)\n",
        "        return self.gamma * (x - mean) / (std + self.eps) + self.beta\n",
        "    def compute_output_shape(self, input_shape):\n",
        "        return input_shape\n",
        "\n",
        "class ScaledDotProductAttention():\n",
        "    def __init__(self, d_model, attn_dropout=0.1):\n",
        "        self.temper = np.sqrt(d_model)\n",
        "        self.dropout = Dropout(attn_dropout)\n",
        "    def __call__(self, q, k, v, mask):\n",
        "        attn = Lambda(lambda x:K.batch_dot(x[0],x[1],axes=[2,2])/self.temper)([q, k])\n",
        "        if mask is not None:\n",
        "            mmask = Lambda(lambda x:(-1e+10)*(1-x))(mask)\n",
        "            attn = Add()([attn, mmask])\n",
        "        attn = Activation('softmax')(attn)\n",
        "        attn = self.dropout(attn)\n",
        "        output = Lambda(lambda x:K.batch_dot(x[0], x[1]))([attn, v])\n",
        "        return output, attn\n",
        "\n",
        "class MultiHeadAttention():\n",
        "    # mode 0 - big martixes, faster; mode 1 - more clear implementation\n",
        "    def __init__(self, n_head, d_model, d_k, d_v, dropout, mode=0, use_norm=True):\n",
        "        self.mode = mode\n",
        "        self.n_head = n_head\n",
        "        self.d_k = d_k\n",
        "        self.d_v = d_v\n",
        "        self.dropout = dropout\n",
        "        if mode == 0:\n",
        "            self.qs_layer = Dense(n_head*d_k, use_bias=False)\n",
        "            self.ks_layer = Dense(n_head*d_k, use_bias=False)\n",
        "            self.vs_layer = Dense(n_head*d_v, use_bias=False)\n",
        "        elif mode == 1:\n",
        "            self.qs_layers = []\n",
        "            self.ks_layers = []\n",
        "            self.vs_layers = []\n",
        "            for _ in range(n_head):\n",
        "                self.qs_layers.append(TimeDistributed(Dense(d_k, use_bias=False)))\n",
        "                self.ks_layers.append(TimeDistributed(Dense(d_k, use_bias=False)))\n",
        "                self.vs_layers.append(TimeDistributed(Dense(d_v, use_bias=False)))\n",
        "        self.attention = ScaledDotProductAttention(d_model)\n",
        "        self.layer_norm = LayerNormalization() if use_norm else None\n",
        "        self.w_o = TimeDistributed(Dense(d_model))\n",
        "\n",
        "    def __call__(self, q, k, v, mask=None):\n",
        "        d_k, d_v = self.d_k, self.d_v\n",
        "        n_head = self.n_head\n",
        "\n",
        "        if self.mode == 0:\n",
        "            qs = self.qs_layer(q)  # [batch_size, len_q, n_head*d_k]\n",
        "            ks = self.ks_layer(k)\n",
        "            vs = self.vs_layer(v)\n",
        "\n",
        "            def reshape1(x):\n",
        "                s = tf.shape(x)   # [batch_size, len_q, n_head * d_k]\n",
        "                x = tf.reshape(x, [s[0], s[1], n_head, d_k])\n",
        "                x = tf.transpose(x, [2, 0, 1, 3])  \n",
        "                x = tf.reshape(x, [-1, s[1], d_k])  # [n_head * batch_size, len_q, d_k]\n",
        "                return x\n",
        "            qs = Lambda(reshape1)(qs)\n",
        "            ks = Lambda(reshape1)(ks)\n",
        "            vs = Lambda(reshape1)(vs)\n",
        "\n",
        "            if mask is not None:\n",
        "                mask = Lambda(lambda x:K.repeat_elements(x, n_head, 0))(mask)\n",
        "            head, attn = self.attention(qs, ks, vs, mask=mask)  \n",
        "                \n",
        "            def reshape2(x):\n",
        "                s = tf.shape(x)   # [n_head * batch_size, len_v, d_v]\n",
        "                x = tf.reshape(x, [n_head, -1, s[1], s[2]]) \n",
        "                x = tf.transpose(x, [1, 2, 0, 3])\n",
        "                x = tf.reshape(x, [-1, s[1], n_head*d_v])  # [batch_size, len_v, n_head * d_v]\n",
        "                return x\n",
        "            head = Lambda(reshape2)(head)\n",
        "        elif self.mode == 1:\n",
        "            heads = []; attns = []\n",
        "            for i in range(n_head):\n",
        "                qs = self.qs_layers[i](q)   \n",
        "                ks = self.ks_layers[i](k) \n",
        "                vs = self.vs_layers[i](v) \n",
        "                head, attn = self.attention(qs, ks, vs, mask)\n",
        "                heads.append(head); attns.append(attn)\n",
        "            head = Concatenate()(heads) if n_head > 1 else heads[0]\n",
        "            attn = Concatenate()(attns) if n_head > 1 else attns[0]\n",
        "\n",
        "        outputs = self.w_o(head)\n",
        "        outputs = Dropout(self.dropout)(outputs)\n",
        "        if not self.layer_norm: return outputs, attn\n",
        "        # outputs = Add()([outputs, q]) # sl: fix\n",
        "        return self.layer_norm(outputs), attn\n",
        "\n",
        "class PositionwiseFeedForward():\n",
        "    def __init__(self, d_hid, d_inner_hid, dropout=0.1):\n",
        "        self.w_1 = Conv1D(d_inner_hid, 1, activation='relu')\n",
        "        self.w_2 = Conv1D(d_hid, 1)\n",
        "        self.layer_norm = LayerNormalization()\n",
        "        self.dropout = Dropout(dropout)\n",
        "    def __call__(self, x):\n",
        "        output = self.w_1(x) \n",
        "        output = self.w_2(output)\n",
        "        output = self.dropout(output)\n",
        "        output = Add()([output, x])\n",
        "        return self.layer_norm(output)\n",
        "\n",
        "class EncoderLayer():\n",
        "    def __init__(self, d_model, d_inner_hid, n_head, d_k, d_v, dropout=0.1):\n",
        "        self.self_att_layer = MultiHeadAttention(n_head, d_model, d_k, d_v, dropout=dropout)\n",
        "        self.pos_ffn_layer  = PositionwiseFeedForward(d_model, d_inner_hid, dropout=dropout)\n",
        "    def __call__(self, enc_input, mask=None):\n",
        "        output, slf_attn = self.self_att_layer(enc_input, enc_input, enc_input, mask=mask)\n",
        "        output = self.pos_ffn_layer(output)\n",
        "        return output, slf_attn\n",
        "\n",
        "\n",
        "def GetPosEncodingMatrix(max_len, d_emb):\n",
        "    pos_enc = np.array([\n",
        "        [pos / np.power(10000, 2 * (j // 2) / d_emb) for j in range(d_emb)] \n",
        "        if pos != 0 else np.zeros(d_emb) \n",
        "            for pos in range(max_len)\n",
        "            ])\n",
        "    pos_enc[1:, 0::2] = np.sin(pos_enc[1:, 0::2]) # dim 2i\n",
        "    pos_enc[1:, 1::2] = np.cos(pos_enc[1:, 1::2]) # dim 2i+1\n",
        "    return pos_enc\n",
        "\n",
        "def GetPadMask(q, k):\n",
        "    ones = K.expand_dims(K.ones_like(q, 'float32'), -1)\n",
        "    mask = K.cast(K.expand_dims(K.not_equal(k, 0), 1), 'float32')\n",
        "    mask = K.batch_dot(ones, mask, axes=[2,1])\n",
        "    return mask\n",
        "\n",
        "def GetSubMask(s):\n",
        "    len_s = tf.shape(s)[1]\n",
        "    bs = tf.shape(s)[:1]\n",
        "    mask = K.cumsum(tf.eye(len_s, batch_shape=bs), 1)\n",
        "    return mask\n",
        "\n",
        "class Transformer():\n",
        "    def __init__(self, len_limit, embedding_matrix, d_model=embed_size, \\\n",
        "              d_inner_hid=512, n_head=10, d_k=64, d_v=64, layers=2, dropout=0.1, \\\n",
        "              share_word_emb=False, **kwargs):\n",
        "        self.name = 'Transformer'\n",
        "        self.len_limit = len_limit\n",
        "        self.src_loc_info = False # True # sl: fix later\n",
        "        self.d_model = d_model\n",
        "        self.decode_model = None\n",
        "        d_emb = d_model\n",
        "\n",
        "        pos_emb = Embedding(len_limit, d_emb, trainable=False, \\\n",
        "                            weights=[GetPosEncodingMatrix(len_limit, d_emb)])\n",
        "\n",
        "        i_word_emb = Embedding(max_features, d_emb, weights=[embedding_matrix]) # Add Kaggle provided embedding here\n",
        "\n",
        "        self.encoder = Encoder(d_model, d_inner_hid, n_head, d_k, d_v, layers, dropout, \\\n",
        "                               word_emb=i_word_emb, pos_emb=pos_emb)\n",
        "\n",
        "        \n",
        "    def get_pos_seq(self, x):\n",
        "        mask = K.cast(K.not_equal(x, 0), 'int32')\n",
        "        pos = K.cumsum(K.ones_like(x, 'int32'), 1)\n",
        "        return pos * mask\n",
        "\n",
        "    def compile(self, active_layers=999):\n",
        "        src_seq_input = Input(shape=(None, ))\n",
        "        x = Embedding(max_features, embed_size, weights=[embedding_matrix])(src_seq_input)\n",
        "        \n",
        "        # LSTM before attention layers\n",
        "        x = Bidirectional(LSTM(128, return_sequences=True))(x)\n",
        "        x = Bidirectional(LSTM(64, return_sequences=True))(x) \n",
        "        \n",
        "        x, slf_attn = MultiHeadAttention(n_head=3, d_model=300, d_k=64, d_v=64, dropout=0.1)(x, x, x)\n",
        "        \n",
        "        avg_pool = GlobalAveragePooling1D()(x)\n",
        "        max_pool = GlobalMaxPooling1D()(x)\n",
        "        conc = concatenate([avg_pool, max_pool])\n",
        "        conc = Dense(64, activation=\"relu\")(conc)\n",
        "        x = Dense(1, activation=\"sigmoid\")(conc)   \n",
        "        \n",
        "        \n",
        "        self.model = Model(inputs=src_seq_input, outputs=x)\n",
        "        self.model.compile(optimizer = 'adam', loss = 'mean_squared_error', metrics=['accuracy'])"
      ],
      "execution_count": 39,
      "outputs": []
    },
    {
      "cell_type": "code",
      "metadata": {
        "id": "wsxPMvdAE538"
      },
      "source": [
        "def build_model():\n",
        "    inp = Input(shape = (SEQ_LEN, 1))\n",
        "    \n",
        "    # LSTM before attention layers\n",
        "    x = Bidirectional(LSTM(128, return_sequences=True))(inp)\n",
        "    x = Bidirectional(LSTM(64, return_sequences=True))(x) \n",
        "        \n",
        "    x, slf_attn = MultiHeadAttention(n_head=3, d_model=300, d_k=64, d_v=64, dropout=0.1)(x, x, x)\n",
        "        \n",
        "    avg_pool = GlobalAveragePooling1D()(x)\n",
        "    max_pool = GlobalMaxPooling1D()(x)\n",
        "    conc = concatenate([avg_pool, max_pool])\n",
        "    conc = Dense(64, activation=\"relu\")(conc)\n",
        "    x = Dense(1, activation=\"sigmoid\")(conc)      \n",
        "\n",
        "    model = Model(inputs = inp, outputs = x)\n",
        "    model.compile(\n",
        "        loss = \"mean_squared_error\", \n",
        "        #optimizer = Adam(lr = config[\"lr\"], decay = config[\"lr_d\"]), \n",
        "        optimizer = \"adam\")\n",
        "    \n",
        "    # Save entire model to a HDF5 file\n",
        "    #model.save('my_model.h5')\n",
        "    \n",
        "    return model\n",
        "\n",
        "multi_head = build_model()"
      ],
      "execution_count": 40,
      "outputs": []
    },
    {
      "cell_type": "code",
      "metadata": {
        "id": "fWwMIsAICxqb",
        "colab": {
          "base_uri": "https://localhost:8080/"
        },
        "outputId": "1d8fe26a-bd77-4e79-958e-4db88233c7b5"
      },
      "source": [
        "multi_head.summary()"
      ],
      "execution_count": 43,
      "outputs": [
        {
          "output_type": "stream",
          "text": [
            "Model: \"model\"\n",
            "__________________________________________________________________________________________________\n",
            "Layer (type)                    Output Shape         Param #     Connected to                     \n",
            "==================================================================================================\n",
            "input_1 (InputLayer)            [(None, 60, 1)]      0                                            \n",
            "__________________________________________________________________________________________________\n",
            "bidirectional (Bidirectional)   (None, 60, 256)      133120      input_1[0][0]                    \n",
            "__________________________________________________________________________________________________\n",
            "bidirectional_1 (Bidirectional) (None, 60, 128)      164352      bidirectional[0][0]              \n",
            "__________________________________________________________________________________________________\n",
            "dense (Dense)                   (None, 60, 192)      24576       bidirectional_1[0][0]            \n",
            "__________________________________________________________________________________________________\n",
            "dense_1 (Dense)                 (None, 60, 192)      24576       bidirectional_1[0][0]            \n",
            "__________________________________________________________________________________________________\n",
            "lambda (Lambda)                 (None, None, 64)     0           dense[0][0]                      \n",
            "__________________________________________________________________________________________________\n",
            "lambda_1 (Lambda)               (None, None, 64)     0           dense_1[0][0]                    \n",
            "__________________________________________________________________________________________________\n",
            "lambda_3 (Lambda)               (None, None, None)   0           lambda[0][0]                     \n",
            "                                                                 lambda_1[0][0]                   \n",
            "__________________________________________________________________________________________________\n",
            "activation (Activation)         (None, None, None)   0           lambda_3[0][0]                   \n",
            "__________________________________________________________________________________________________\n",
            "dense_2 (Dense)                 (None, 60, 192)      24576       bidirectional_1[0][0]            \n",
            "__________________________________________________________________________________________________\n",
            "dropout (Dropout)               (None, None, None)   0           activation[0][0]                 \n",
            "__________________________________________________________________________________________________\n",
            "lambda_2 (Lambda)               (None, None, 64)     0           dense_2[0][0]                    \n",
            "__________________________________________________________________________________________________\n",
            "lambda_4 (Lambda)               (None, None, 64)     0           dropout[0][0]                    \n",
            "                                                                 lambda_2[0][0]                   \n",
            "__________________________________________________________________________________________________\n",
            "lambda_5 (Lambda)               (None, None, 192)    0           lambda_4[0][0]                   \n",
            "__________________________________________________________________________________________________\n",
            "time_distributed (TimeDistribut (None, None, 300)    57900       lambda_5[0][0]                   \n",
            "__________________________________________________________________________________________________\n",
            "dropout_1 (Dropout)             (None, None, 300)    0           time_distributed[0][0]           \n",
            "__________________________________________________________________________________________________\n",
            "layer_normalization (LayerNorma (None, None, 300)    600         dropout_1[0][0]                  \n",
            "__________________________________________________________________________________________________\n",
            "global_average_pooling1d (Globa (None, 300)          0           layer_normalization[0][0]        \n",
            "__________________________________________________________________________________________________\n",
            "global_max_pooling1d (GlobalMax (None, 300)          0           layer_normalization[0][0]        \n",
            "__________________________________________________________________________________________________\n",
            "concatenate (Concatenate)       (None, 600)          0           global_average_pooling1d[0][0]   \n",
            "                                                                 global_max_pooling1d[0][0]       \n",
            "__________________________________________________________________________________________________\n",
            "dense_4 (Dense)                 (None, 64)           38464       concatenate[0][0]                \n",
            "__________________________________________________________________________________________________\n",
            "dense_5 (Dense)                 (None, 1)            65          dense_4[0][0]                    \n",
            "==================================================================================================\n",
            "Total params: 468,229\n",
            "Trainable params: 468,229\n",
            "Non-trainable params: 0\n",
            "__________________________________________________________________________________________________\n"
          ],
          "name": "stdout"
        }
      ]
    },
    {
      "cell_type": "code",
      "metadata": {
        "id": "1F4uoPc5EkUf",
        "colab": {
          "base_uri": "https://localhost:8080/"
        },
        "outputId": "782f0381-b145-46a5-b9df-697e5f83ced3"
      },
      "source": [
        "multi_head.fit(X_train, y_train, batch_size = BATCH_SIZE, epochs = EPOCHS, validation_data = (X_valid, y_valid))"
      ],
      "execution_count": 44,
      "outputs": [
        {
          "output_type": "stream",
          "text": [
            "Epoch 1/10\n",
            "11/11 [==============================] - 77s 6s/step - loss: 0.1515 - val_loss: 0.2424\n",
            "Epoch 2/10\n",
            "11/11 [==============================] - 65s 6s/step - loss: 0.0725 - val_loss: 0.0369\n",
            "Epoch 3/10\n",
            "11/11 [==============================] - 65s 6s/step - loss: 0.0194 - val_loss: 0.0415\n",
            "Epoch 4/10\n",
            "11/11 [==============================] - 66s 6s/step - loss: 0.0086 - val_loss: 0.0224\n",
            "Epoch 5/10\n",
            "11/11 [==============================] - 65s 6s/step - loss: 0.0082 - val_loss: 0.0359\n",
            "Epoch 6/10\n",
            "11/11 [==============================] - 64s 6s/step - loss: 0.0062 - val_loss: 0.0286\n",
            "Epoch 7/10\n",
            "11/11 [==============================] - 64s 6s/step - loss: 0.0058 - val_loss: 0.0290\n",
            "Epoch 8/10\n",
            "11/11 [==============================] - 64s 6s/step - loss: 0.0050 - val_loss: 0.0279\n",
            "Epoch 9/10\n",
            "11/11 [==============================] - 63s 6s/step - loss: 0.0051 - val_loss: 0.0316\n",
            "Epoch 10/10\n",
            "11/11 [==============================] - 63s 6s/step - loss: 0.0048 - val_loss: 0.0281\n"
          ],
          "name": "stdout"
        },
        {
          "output_type": "execute_result",
          "data": {
            "text/plain": [
              "<tensorflow.python.keras.callbacks.History at 0x7fb4cb6cb650>"
            ]
          },
          "metadata": {
            "tags": []
          },
          "execution_count": 44
        }
      ]
    },
    {
      "cell_type": "code",
      "metadata": {
        "id": "xfJhrvrwEncZ",
        "colab": {
          "base_uri": "https://localhost:8080/",
          "height": 580
        },
        "outputId": "c688c965-2253-4c15-ce33-ccf83540dd20"
      },
      "source": [
        "predicted_stock_price_multi_head = multi_head.predict(X_test)\n",
        "#predicted_stock_price_multi_head.shape()\n",
        "\n",
        "predicted_stock_price_multi_head = np.vstack((np.full((60,1), np.nan), predicted_stock_price_multi_head))\n",
        "\n",
        "plt.figure(figsize = (18,9))\n",
        "plt.plot(test_data, color= 'black', label = 'GE Stock Price')\n",
        "plt.plot(predicted_stock_price_multi_head, color = 'green', label = 'Predicted GE Mid Price')\n",
        "plt.title('GE Mid Price Prediction', fontsize = 30)\n",
        "plt.xlabel('Date')\n",
        "plt.ylabel('GE Mid Price')\n",
        "plt.legend(fontsize = 18)\n",
        "plt.show()\n",
        "\n"
      ],
      "execution_count": 46,
      "outputs": [
        {
          "output_type": "display_data",
          "data": {
            "image/png": "[encoded data removed]",
            "text/plain": [
              "<Figure size 1296x648 with 1 Axes>"
            ]
          },
          "metadata": {
            "tags": [],
            "needs_background": "light"
          }
        }
      ]
    },
    {
      "cell_type": "code",
      "metadata": {
        "id": "023W-7WpLKC_"
      },
      "source": [
        ""
      ],
      "execution_count": null,
      "outputs": []
    }
  ]
}