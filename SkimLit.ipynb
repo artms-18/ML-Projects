{
  "nbformat": 4,
  "nbformat_minor": 0,
  "metadata": {
    "colab": {
      "name": "SkimLit.ipynb",
      "provenance": [],
      "authorship_tag": "ABX9TyOQrMp4GPkeg/Newfd6j0EL",
      "include_colab_link": true
    },
    "kernelspec": {
      "name": "python3",
      "display_name": "Python 3"
    },
    "language_info": {
      "name": "python"
    },
    "accelerator": "GPU"
  },
  "cells": [
    {
      "cell_type": "markdown",
      "metadata": {
        "id": "view-in-github",
        "colab_type": "text"
      },
      "source": [
        "<a href=\"https://colab.research.google.com/github/artms-18/ML-Projects/blob/main/SkimLit.ipynb\" target=\"_parent\"><img src=\"https://colab.research.google.com/assets/colab-badge.svg\" alt=\"Open In Colab\"/></a>"
      ]
    },
    {
      "cell_type": "markdown",
      "metadata": {
        "id": "8oKVI4N8d10u"
      },
      "source": [
        "# SkimLit\n",
        "\n",
        "The purpose of this notebook is to build an NLP model to amke reading medical abstracts easier.\n",
        "\n",
        "The paper we're replicating (the source of the dataset that we'll be using) is available here: \n",
        "https://arxiv.org/abs/1710.06071\n",
        "\n",
        "Reading through the paper above, we see that the model architecture that they use to achieve their best results is available here: https://arxiv.org/abs/1612.05251\n"
      ]
    },
    {
      "cell_type": "markdown",
      "metadata": {
        "id": "5n3o8X7-kY--"
      },
      "source": [
        "## Confirm access to a GPU"
      ]
    },
    {
      "cell_type": "code",
      "metadata": {
        "colab": {
          "base_uri": "https://localhost:8080/"
        },
        "id": "FZFigWkpk9Wj",
        "outputId": "ac232d0b-334e-40f1-cb4e-044ead17d026"
      },
      "source": [
        "!nvidia-smi -L"
      ],
      "execution_count": 1,
      "outputs": [
        {
          "output_type": "stream",
          "text": [
            "GPU 0: Tesla T4 (UUID: GPU-653c6376-2bcd-bd5f-ba42-0af1c846a3fe)\n"
          ],
          "name": "stdout"
        }
      ]
    },
    {
      "cell_type": "markdown",
      "metadata": {
        "id": "gG7QAPwKlCkQ"
      },
      "source": [
        "## Get data\n",
        "\n",
        "Since we'll be replicating the paper above (PubMed 200k RCT), let's download the dataset they used.\n",
        "\n",
        "https://github.com/Franck-Dernoncourt/pubmed-rct"
      ]
    },
    {
      "cell_type": "code",
      "metadata": {
        "colab": {
          "base_uri": "https://localhost:8080/"
        },
        "id": "8Y0aPd3zlSJ1",
        "outputId": "3665d4bd-917d-4936-ee07-a9db9f9f46f7"
      },
      "source": [
        "!git clone https://github.com/Franck-Dernoncourt/pubmed-rct\n",
        "!ls pubmed-rct"
      ],
      "execution_count": 2,
      "outputs": [
        {
          "output_type": "stream",
          "text": [
            "Cloning into 'pubmed-rct'...\n",
            "remote: Enumerating objects: 30, done.\u001b[K\n",
            "remote: Total 30 (delta 0), reused 0 (delta 0), pack-reused 30\u001b[K\n",
            "Unpacking objects: 100% (30/30), done.\n",
            "PubMed_200k_RCT\n",
            "PubMed_200k_RCT_numbers_replaced_with_at_sign\n",
            "PubMed_20k_RCT\n",
            "PubMed_20k_RCT_numbers_replaced_with_at_sign\n",
            "README.md\n"
          ],
          "name": "stdout"
        }
      ]
    },
    {
      "cell_type": "code",
      "metadata": {
        "colab": {
          "base_uri": "https://localhost:8080/"
        },
        "id": "T8viEBsOltdB",
        "outputId": "0077d683-41c5-41fd-ce23-12c478d20c78"
      },
      "source": [
        "# Check what files are in the PubMed_20K dataset\n",
        "\n",
        "!ls pubmed-rct/PubMed_20k_RCT_numbers_replaced_with_at_sign/"
      ],
      "execution_count": 3,
      "outputs": [
        {
          "output_type": "stream",
          "text": [
            "dev.txt  test.txt  train.txt\n"
          ],
          "name": "stdout"
        }
      ]
    },
    {
      "cell_type": "code",
      "metadata": {
        "id": "d9mTdGGgmPZf"
      },
      "source": [
        "# Start our experiments using the 20k dataset\n",
        "data_dir = \"/content/pubmed-rct/PubMed_20k_RCT_numbers_replaced_with_at_sign/\""
      ],
      "execution_count": 4,
      "outputs": []
    },
    {
      "cell_type": "code",
      "metadata": {
        "colab": {
          "base_uri": "https://localhost:8080/"
        },
        "id": "eRUKnITYnQYi",
        "outputId": "ee9ac10e-7cae-4b18-f908-86c51f9e92d7"
      },
      "source": [
        "import os\n",
        "filenames = [data_dir + filename for filename in os.listdir(data_dir)]\n",
        "filenames"
      ],
      "execution_count": 5,
      "outputs": [
        {
          "output_type": "execute_result",
          "data": {
            "text/plain": [
              "['/content/pubmed-rct/PubMed_20k_RCT_numbers_replaced_with_at_sign/test.txt',\n",
              " '/content/pubmed-rct/PubMed_20k_RCT_numbers_replaced_with_at_sign/dev.txt',\n",
              " '/content/pubmed-rct/PubMed_20k_RCT_numbers_replaced_with_at_sign/train.txt']"
            ]
          },
          "metadata": {
            "tags": []
          },
          "execution_count": 5
        }
      ]
    },
    {
      "cell_type": "markdown",
      "metadata": {
        "id": "DaouufNsnYD6"
      },
      "source": [
        "## Preprocess data\n",
        "\n",
        "Now we've got some text data, it's time to become one with it.\n",
        "\n",
        "And one of the best ways to become one with the data is to ...\n",
        "\n",
        "> Visualize, visualize, visualize\n",
        "\n",
        "Let's write a function to read in all of the lines with python"
      ]
    },
    {
      "cell_type": "code",
      "metadata": {
        "id": "w82qVrvtO8hM"
      },
      "source": [
        "# Create a function to read the lines of a document\n",
        "\n",
        "def get_lines(filename):\n",
        "  \"\"\"\n",
        "  Reads filename (a text filename) and returns the lines of text as a list.\n",
        "\n",
        "  Args:\n",
        "    filename: a string containing the target filepath\n",
        "\n",
        "  Returns:\n",
        "    A list of strings woth one string per line from the taget filenmae.\n",
        "  \"\"\"\n",
        "\n",
        "  with open(filename, \"r\") as f:\n",
        "    return f.readlines()"
      ],
      "execution_count": 6,
      "outputs": []
    },
    {
      "cell_type": "code",
      "metadata": {
        "colab": {
          "base_uri": "https://localhost:8080/"
        },
        "id": "nnrr95C4PiRQ",
        "outputId": "a550eb69-da89-451e-a3bb-ab7cabbc2df9"
      },
      "source": [
        "# Let's read in the training lines\n",
        "\n",
        "train_lines = get_lines(data_dir+\"train.txt\")\n",
        "train_lines[:20]"
      ],
      "execution_count": 7,
      "outputs": [
        {
          "output_type": "execute_result",
          "data": {
            "text/plain": [
              "['###24293578\\n',\n",
              " 'OBJECTIVE\\tTo investigate the efficacy of @ weeks of daily low-dose oral prednisolone in improving pain , mobility , and systemic low-grade inflammation in the short term and whether the effect would be sustained at @ weeks in older adults with moderate to severe knee osteoarthritis ( OA ) .\\n',\n",
              " 'METHODS\\tA total of @ patients with primary knee OA were randomized @:@ ; @ received @ mg/day of prednisolone and @ received placebo for @ weeks .\\n',\n",
              " 'METHODS\\tOutcome measures included pain reduction and improvement in function scores and systemic inflammation markers .\\n',\n",
              " 'METHODS\\tPain was assessed using the visual analog pain scale ( @-@ mm ) .\\n',\n",
              " 'METHODS\\tSecondary outcome measures included the Western Ontario and McMaster Universities Osteoarthritis Index scores , patient global assessment ( PGA ) of the severity of knee OA , and @-min walk distance ( @MWD ) .\\n',\n",
              " 'METHODS\\tSerum levels of interleukin @ ( IL-@ ) , IL-@ , tumor necrosis factor ( TNF ) - , and high-sensitivity C-reactive protein ( hsCRP ) were measured .\\n',\n",
              " 'RESULTS\\tThere was a clinically relevant reduction in the intervention group compared to the placebo group for knee pain , physical function , PGA , and @MWD at @ weeks .\\n',\n",
              " 'RESULTS\\tThe mean difference between treatment arms ( @ % CI ) was @ ( @-@ @ ) , p < @ ; @ ( @-@ @ ) , p < @ ; @ ( @-@ @ ) , p < @ ; and @ ( @-@ @ ) , p < @ , respectively .\\n',\n",
              " 'RESULTS\\tFurther , there was a clinically relevant reduction in the serum levels of IL-@ , IL-@ , TNF - , and hsCRP at @ weeks in the intervention group when compared to the placebo group .\\n',\n",
              " 'RESULTS\\tThese differences remained significant at @ weeks .\\n',\n",
              " 'RESULTS\\tThe Outcome Measures in Rheumatology Clinical Trials-Osteoarthritis Research Society International responder rate was @ % in the intervention group and @ % in the placebo group ( p < @ ) .\\n',\n",
              " 'CONCLUSIONS\\tLow-dose oral prednisolone had both a short-term and a longer sustained effect resulting in less knee pain , better physical function , and attenuation of systemic inflammation in older patients with knee OA ( ClinicalTrials.gov identifier NCT@ ) .\\n',\n",
              " '\\n',\n",
              " '###24854809\\n',\n",
              " 'BACKGROUND\\tEmotional eating is associated with overeating and the development of obesity .\\n',\n",
              " 'BACKGROUND\\tYet , empirical evidence for individual ( trait ) differences in emotional eating and cognitive mechanisms that contribute to eating during sad mood remain equivocal .\\n',\n",
              " 'OBJECTIVE\\tThe aim of this study was to test if attention bias for food moderates the effect of self-reported emotional eating during sad mood ( vs neutral mood ) on actual food intake .\\n',\n",
              " 'OBJECTIVE\\tIt was expected that emotional eating is predictive of elevated attention for food and higher food intake after an experimentally induced sad mood and that attentional maintenance on food predicts food intake during a sad versus a neutral mood .\\n',\n",
              " 'METHODS\\tParticipants ( N = @ ) were randomly assigned to one of the two experimental mood induction conditions ( sad/neutral ) .\\n']"
            ]
          },
          "metadata": {
            "tags": []
          },
          "execution_count": 7
        }
      ]
    },
    {
      "cell_type": "code",
      "metadata": {
        "colab": {
          "base_uri": "https://localhost:8080/"
        },
        "id": "Obju1E8XPntF",
        "outputId": "864eb470-2760-4b58-8e10-e008d315f1f4"
      },
      "source": [
        "len(train_lines)"
      ],
      "execution_count": 8,
      "outputs": [
        {
          "output_type": "execute_result",
          "data": {
            "text/plain": [
              "210040"
            ]
          },
          "metadata": {
            "tags": []
          },
          "execution_count": 8
        }
      ]
    },
    {
      "cell_type": "code",
      "metadata": {
        "id": "1-SjGkxkTEnz"
      },
      "source": [
        "test_lines = get_lines(data_dir + \"test.txt\")\n",
        "dev_lines = get_lines(data_dir + \"dev.txt\")"
      ],
      "execution_count": 9,
      "outputs": []
    },
    {
      "cell_type": "code",
      "metadata": {
        "colab": {
          "base_uri": "https://localhost:8080/",
          "height": 52
        },
        "id": "RBCfZpSEUgsb",
        "outputId": "c6a0e1af-6bf5-49ca-c1bd-bc9d50caf3b4"
      },
      "source": [
        "sample_line = train_lines[1]\n",
        "sample_line"
      ],
      "execution_count": 10,
      "outputs": [
        {
          "output_type": "execute_result",
          "data": {
            "application/vnd.google.colaboratory.intrinsic+json": {
              "type": "string"
            },
            "text/plain": [
              "'OBJECTIVE\\tTo investigate the efficacy of @ weeks of daily low-dose oral prednisolone in improving pain , mobility , and systemic low-grade inflammation in the short term and whether the effect would be sustained at @ weeks in older adults with moderate to severe knee osteoarthritis ( OA ) .\\n'"
            ]
          },
          "metadata": {
            "tags": []
          },
          "execution_count": 10
        }
      ]
    },
    {
      "cell_type": "code",
      "metadata": {
        "colab": {
          "base_uri": "https://localhost:8080/"
        },
        "id": "GQ6mlnvBUndl",
        "outputId": "df073e5c-5a7c-4634-d45d-65b4dd91a1bb"
      },
      "source": [
        "import re\n",
        "\n",
        "temp_list = re.split(r'\\t', sample_line)\n",
        "len(temp_list[1].split())\n",
        "\n"
      ],
      "execution_count": 11,
      "outputs": [
        {
          "output_type": "execute_result",
          "data": {
            "text/plain": [
              "49"
            ]
          },
          "metadata": {
            "tags": []
          },
          "execution_count": 11
        }
      ]
    },
    {
      "cell_type": "markdown",
      "metadata": {
        "id": "FlBDL5HtQhCs"
      },
      "source": [
        "Let's think about how we want our data to look...\n",
        "\n",
        "How I think our data would be best represented...\n",
        "\n",
        "```\n",
        "[{'line_number': 0,\n",
        "  'target': 'BACKGROUND',\n",
        "  'text': 'Emotional eating is associated with overeating and the development of obesity .\\n'\n",
        "  'total_lines: 11},\n",
        "  ]\n",
        "```\n"
      ]
    },
    {
      "cell_type": "code",
      "metadata": {
        "id": "iRm0NP3lSNdo"
      },
      "source": [
        "## My preprocessing function\n",
        "\n",
        "def preprocess(lines):\n",
        "\n",
        "  '''\n",
        "  Takes a list of lines and reformats them as shown above.\n",
        "\n",
        "  Args:\n",
        "    Lines: a list containing the target value and text\n",
        "\n",
        "  Returns:\n",
        "    A structured dictionary\n",
        "\n",
        "  '''\n",
        "\n",
        "  formatted_list = []\n",
        "\n",
        "  for i, line in enumerate(lines):\n",
        "\n",
        "    temp = re.split(r'\\t', line)\n",
        "    target = temp[0]\n",
        "\n",
        "    try: \n",
        "      text = temp[1]\n",
        "    except IndexError:\n",
        "      text = 'None'\n",
        "\n",
        "    length = len(text.split())\n",
        "\n",
        "    small_dict = {'line_number': i,\n",
        "                  'target': target,\n",
        "                  'text': text,\n",
        "                  'total_lines': length}\n",
        "\n",
        "    formatted_list.append(small_dict)\n",
        "\n",
        "  return formatted_list\n"
      ],
      "execution_count": 12,
      "outputs": []
    },
    {
      "cell_type": "code",
      "metadata": {
        "id": "Fcl67D2GW1a2"
      },
      "source": [
        "train_lines = train_lines[1:]\n",
        "train_lines[:20]\n",
        "\n",
        "preprocessed_train = preprocess(train_lines)"
      ],
      "execution_count": 13,
      "outputs": []
    },
    {
      "cell_type": "code",
      "metadata": {
        "colab": {
          "base_uri": "https://localhost:8080/"
        },
        "id": "0USmF2TgW7Ih",
        "outputId": "7be8a22f-c503-45bb-c1e4-dc7ab16819ad"
      },
      "source": [
        "preprocessed_train[:10]"
      ],
      "execution_count": 14,
      "outputs": [
        {
          "output_type": "execute_result",
          "data": {
            "text/plain": [
              "[{'line_number': 0,\n",
              "  'target': 'OBJECTIVE',\n",
              "  'text': 'To investigate the efficacy of @ weeks of daily low-dose oral prednisolone in improving pain , mobility , and systemic low-grade inflammation in the short term and whether the effect would be sustained at @ weeks in older adults with moderate to severe knee osteoarthritis ( OA ) .\\n',\n",
              "  'total_lines': 49},\n",
              " {'line_number': 1,\n",
              "  'target': 'METHODS',\n",
              "  'text': 'A total of @ patients with primary knee OA were randomized @:@ ; @ received @ mg/day of prednisolone and @ received placebo for @ weeks .\\n',\n",
              "  'total_lines': 27},\n",
              " {'line_number': 2,\n",
              "  'target': 'METHODS',\n",
              "  'text': 'Outcome measures included pain reduction and improvement in function scores and systemic inflammation markers .\\n',\n",
              "  'total_lines': 15},\n",
              " {'line_number': 3,\n",
              "  'target': 'METHODS',\n",
              "  'text': 'Pain was assessed using the visual analog pain scale ( @-@ mm ) .\\n',\n",
              "  'total_lines': 14},\n",
              " {'line_number': 4,\n",
              "  'target': 'METHODS',\n",
              "  'text': 'Secondary outcome measures included the Western Ontario and McMaster Universities Osteoarthritis Index scores , patient global assessment ( PGA ) of the severity of knee OA , and @-min walk distance ( @MWD ) .\\n',\n",
              "  'total_lines': 35},\n",
              " {'line_number': 5,\n",
              "  'target': 'METHODS',\n",
              "  'text': 'Serum levels of interleukin @ ( IL-@ ) , IL-@ , tumor necrosis factor ( TNF ) - , and high-sensitivity C-reactive protein ( hsCRP ) were measured .\\n',\n",
              "  'total_lines': 29},\n",
              " {'line_number': 6,\n",
              "  'target': 'RESULTS',\n",
              "  'text': 'There was a clinically relevant reduction in the intervention group compared to the placebo group for knee pain , physical function , PGA , and @MWD at @ weeks .\\n',\n",
              "  'total_lines': 30},\n",
              " {'line_number': 7,\n",
              "  'target': 'RESULTS',\n",
              "  'text': 'The mean difference between treatment arms ( @ % CI ) was @ ( @-@ @ ) , p < @ ; @ ( @-@ @ ) , p < @ ; @ ( @-@ @ ) , p < @ ; and @ ( @-@ @ ) , p < @ , respectively .\\n',\n",
              "  'total_lines': 55},\n",
              " {'line_number': 8,\n",
              "  'target': 'RESULTS',\n",
              "  'text': 'Further , there was a clinically relevant reduction in the serum levels of IL-@ , IL-@ , TNF - , and hsCRP at @ weeks in the intervention group when compared to the placebo group .\\n',\n",
              "  'total_lines': 36},\n",
              " {'line_number': 9,\n",
              "  'target': 'RESULTS',\n",
              "  'text': 'These differences remained significant at @ weeks .\\n',\n",
              "  'total_lines': 8}]"
            ]
          },
          "metadata": {
            "tags": []
          },
          "execution_count": 14
        }
      ]
    },
    {
      "cell_type": "code",
      "metadata": {
        "id": "O9WtXWu0Ymvc"
      },
      "source": [
        "# Not my preprocessing function\n",
        "\n",
        "def preprocess_text_with_line_numbers(filename):\n",
        "  \"\"\"\n",
        "  Returns a list of dictionaries of abstract line data.\n",
        "\n",
        "  Takes in filename, reads its contents and sorts through each line,\n",
        "  extracting things like the target label, the text of the sentence,\n",
        "  how many sentences are in the current abstract and what sentence \n",
        "  number the target line is.\n",
        "  \"\"\"\n",
        "  input_lines = get_lines(filename) # get all lines from filename\n",
        "  abstract_lines = \"\" # create an empty abstract\n",
        "  abstract_samples = [] #create an empty list of acstracts\n",
        "\n",
        "  # Loop through each line in target file\n",
        "  for line in input_lines:\n",
        "    if line.startswith(\"###\"): # check to see if the is an ID line\n",
        "       abstract_id = line\n",
        "       abstract_lines = \"\" # reset the abstract string if the line is an ID line\n",
        "\n",
        "    elif line.isspace(): # check to see if line. isa new line\n",
        "       abstract_line_split = abstract_lines.splitlines() # split abstract into separate\n",
        "\n",
        "       # Iterate through each line in a single abstract and count them at the same time\n",
        "    \n",
        "       for abstract_line_number, abstract_line in enumerate(abstract_line_split):\n",
        "          line_data = {} # create an empty dict for each line\n",
        "          target_text_split = abstract_line.split(\"\\t\") # split target label from text\n",
        "          line_data[\"target\"] = target_text_split[0]\n",
        "          line_data[\"text\"] = target_text_split[1].lower() # get target text and lower it\n",
        "          line_data[\"line_number\"] = abstract_line_number # what number line does the line appear in\n",
        "          line_data[\"total_lines\"] = len(abstract_line_split) - 1 # how many total lines are there in the target abstract\n",
        "          abstract_samples.append(line_data)\n",
        "\n",
        "    else: # if the above conditions aren't fulfilled, the line contains a labelled sentence\n",
        "      abstract_lines += line \n",
        "\n",
        "  return abstract_samples\n",
        "\n",
        "    \n"
      ],
      "execution_count": 15,
      "outputs": []
    },
    {
      "cell_type": "code",
      "metadata": {
        "colab": {
          "base_uri": "https://localhost:8080/"
        },
        "id": "AEOql-q9eWK1",
        "outputId": "cfaa6b06-5d1e-4e2f-f264-c0b8b3c33a8d"
      },
      "source": [
        "# Get data from file and preprocess it\n",
        "%%time\n",
        "train_samples = preprocess_text_with_line_numbers(data_dir + \"train.txt\")\n",
        "val_samples = preprocess_text_with_line_numbers(data_dir + \"dev.txt\")\n",
        "test_samples = preprocess_text_with_line_numbers(data_dir+ \"test.txt\")\n"
      ],
      "execution_count": 16,
      "outputs": [
        {
          "output_type": "stream",
          "text": [
            "CPU times: user 384 ms, sys: 89 ms, total: 473 ms\n",
            "Wall time: 477 ms\n"
          ],
          "name": "stdout"
        }
      ]
    },
    {
      "cell_type": "code",
      "metadata": {
        "colab": {
          "base_uri": "https://localhost:8080/"
        },
        "id": "WdW0IH96exQC",
        "outputId": "a87f7854-4c9e-4824-c83d-d90f7f7fa7ef"
      },
      "source": [
        "train_samples[:10]"
      ],
      "execution_count": 17,
      "outputs": [
        {
          "output_type": "execute_result",
          "data": {
            "text/plain": [
              "[{'line_number': 0,\n",
              "  'target': 'OBJECTIVE',\n",
              "  'text': 'to investigate the efficacy of @ weeks of daily low-dose oral prednisolone in improving pain , mobility , and systemic low-grade inflammation in the short term and whether the effect would be sustained at @ weeks in older adults with moderate to severe knee osteoarthritis ( oa ) .',\n",
              "  'total_lines': 11},\n",
              " {'line_number': 1,\n",
              "  'target': 'METHODS',\n",
              "  'text': 'a total of @ patients with primary knee oa were randomized @:@ ; @ received @ mg/day of prednisolone and @ received placebo for @ weeks .',\n",
              "  'total_lines': 11},\n",
              " {'line_number': 2,\n",
              "  'target': 'METHODS',\n",
              "  'text': 'outcome measures included pain reduction and improvement in function scores and systemic inflammation markers .',\n",
              "  'total_lines': 11},\n",
              " {'line_number': 3,\n",
              "  'target': 'METHODS',\n",
              "  'text': 'pain was assessed using the visual analog pain scale ( @-@ mm ) .',\n",
              "  'total_lines': 11},\n",
              " {'line_number': 4,\n",
              "  'target': 'METHODS',\n",
              "  'text': 'secondary outcome measures included the western ontario and mcmaster universities osteoarthritis index scores , patient global assessment ( pga ) of the severity of knee oa , and @-min walk distance ( @mwd ) .',\n",
              "  'total_lines': 11},\n",
              " {'line_number': 5,\n",
              "  'target': 'METHODS',\n",
              "  'text': 'serum levels of interleukin @ ( il-@ ) , il-@ , tumor necrosis factor ( tnf ) - , and high-sensitivity c-reactive protein ( hscrp ) were measured .',\n",
              "  'total_lines': 11},\n",
              " {'line_number': 6,\n",
              "  'target': 'RESULTS',\n",
              "  'text': 'there was a clinically relevant reduction in the intervention group compared to the placebo group for knee pain , physical function , pga , and @mwd at @ weeks .',\n",
              "  'total_lines': 11},\n",
              " {'line_number': 7,\n",
              "  'target': 'RESULTS',\n",
              "  'text': 'the mean difference between treatment arms ( @ % ci ) was @ ( @-@ @ ) , p < @ ; @ ( @-@ @ ) , p < @ ; @ ( @-@ @ ) , p < @ ; and @ ( @-@ @ ) , p < @ , respectively .',\n",
              "  'total_lines': 11},\n",
              " {'line_number': 8,\n",
              "  'target': 'RESULTS',\n",
              "  'text': 'further , there was a clinically relevant reduction in the serum levels of il-@ , il-@ , tnf - , and hscrp at @ weeks in the intervention group when compared to the placebo group .',\n",
              "  'total_lines': 11},\n",
              " {'line_number': 9,\n",
              "  'target': 'RESULTS',\n",
              "  'text': 'these differences remained significant at @ weeks .',\n",
              "  'total_lines': 11}]"
            ]
          },
          "metadata": {
            "tags": []
          },
          "execution_count": 17
        }
      ]
    },
    {
      "cell_type": "markdown",
      "metadata": {
        "id": "BWeot4CPhdqs"
      },
      "source": [
        "Now that our data is in the format of a list of dictionaries, how about we turn it into a DataFrame to futher Visualize it"
      ]
    },
    {
      "cell_type": "code",
      "metadata": {
        "id": "H233O4x_FwBw"
      },
      "source": [
        "import pandas as pd\n",
        "\n",
        "train_df = pd.DataFrame(train_samples)\n",
        "val_df = pd.DataFrame(val_samples)\n",
        "test_df = pd.DataFrame(test_samples)"
      ],
      "execution_count": 18,
      "outputs": []
    },
    {
      "cell_type": "code",
      "metadata": {
        "colab": {
          "base_uri": "https://localhost:8080/",
          "height": 204
        },
        "id": "V5TcFo8IF9Kf",
        "outputId": "fb1df70a-4046-4f79-cf3e-fca5aefcb2b1"
      },
      "source": [
        "train_df.head()"
      ],
      "execution_count": 19,
      "outputs": [
        {
          "output_type": "execute_result",
          "data": {
            "text/html": [
              "<div>\n",
              "<style scoped>\n",
              "    .dataframe tbody tr th:only-of-type {\n",
              "        vertical-align: middle;\n",
              "    }\n",
              "\n",
              "    .dataframe tbody tr th {\n",
              "        vertical-align: top;\n",
              "    }\n",
              "\n",
              "    .dataframe thead th {\n",
              "        text-align: right;\n",
              "    }\n",
              "</style>\n",
              "<table border=\"1\" class=\"dataframe\">\n",
              "  <thead>\n",
              "    <tr style=\"text-align: right;\">\n",
              "      <th></th>\n",
              "      <th>target</th>\n",
              "      <th>text</th>\n",
              "      <th>line_number</th>\n",
              "      <th>total_lines</th>\n",
              "    </tr>\n",
              "  </thead>\n",
              "  <tbody>\n",
              "    <tr>\n",
              "      <th>0</th>\n",
              "      <td>OBJECTIVE</td>\n",
              "      <td>to investigate the efficacy of @ weeks of dail...</td>\n",
              "      <td>0</td>\n",
              "      <td>11</td>\n",
              "    </tr>\n",
              "    <tr>\n",
              "      <th>1</th>\n",
              "      <td>METHODS</td>\n",
              "      <td>a total of @ patients with primary knee oa wer...</td>\n",
              "      <td>1</td>\n",
              "      <td>11</td>\n",
              "    </tr>\n",
              "    <tr>\n",
              "      <th>2</th>\n",
              "      <td>METHODS</td>\n",
              "      <td>outcome measures included pain reduction and i...</td>\n",
              "      <td>2</td>\n",
              "      <td>11</td>\n",
              "    </tr>\n",
              "    <tr>\n",
              "      <th>3</th>\n",
              "      <td>METHODS</td>\n",
              "      <td>pain was assessed using the visual analog pain...</td>\n",
              "      <td>3</td>\n",
              "      <td>11</td>\n",
              "    </tr>\n",
              "    <tr>\n",
              "      <th>4</th>\n",
              "      <td>METHODS</td>\n",
              "      <td>secondary outcome measures included the wester...</td>\n",
              "      <td>4</td>\n",
              "      <td>11</td>\n",
              "    </tr>\n",
              "  </tbody>\n",
              "</table>\n",
              "</div>"
            ],
            "text/plain": [
              "      target  ... total_lines\n",
              "0  OBJECTIVE  ...          11\n",
              "1    METHODS  ...          11\n",
              "2    METHODS  ...          11\n",
              "3    METHODS  ...          11\n",
              "4    METHODS  ...          11\n",
              "\n",
              "[5 rows x 4 columns]"
            ]
          },
          "metadata": {
            "tags": []
          },
          "execution_count": 19
        }
      ]
    },
    {
      "cell_type": "code",
      "metadata": {
        "colab": {
          "base_uri": "https://localhost:8080/"
        },
        "id": "8JIGr_rqGFSc",
        "outputId": "caa1f8f3-2974-4e18-b470-b680e53f5457"
      },
      "source": [
        "# Distribution of labels in training data\n",
        "\n",
        "train_df.target.value_counts()"
      ],
      "execution_count": 20,
      "outputs": [
        {
          "output_type": "execute_result",
          "data": {
            "text/plain": [
              "METHODS        59353\n",
              "RESULTS        57953\n",
              "CONCLUSIONS    27168\n",
              "BACKGROUND     21727\n",
              "OBJECTIVE      13839\n",
              "Name: target, dtype: int64"
            ]
          },
          "metadata": {
            "tags": []
          },
          "execution_count": 20
        }
      ]
    },
    {
      "cell_type": "code",
      "metadata": {
        "colab": {
          "base_uri": "https://localhost:8080/",
          "height": 267
        },
        "id": "CGv9gBKwGWbK",
        "outputId": "a121e40a-eda7-4602-acc1-05aa0c9a1c0a"
      },
      "source": [
        "# Let's check the length of different lines\n",
        "\n",
        "train_df.total_lines.plot.hist();"
      ],
      "execution_count": 21,
      "outputs": [
        {
          "output_type": "display_data",
          "data": {
            "image/png": "[encoded data removed]",
            "text/plain": [
              "<Figure size 432x288 with 1 Axes>"
            ]
          },
          "metadata": {
            "tags": [],
            "needs_background": "light"
          }
        }
      ]
    },
    {
      "cell_type": "markdown",
      "metadata": {
        "id": "qKadMXlgGhQ2"
      },
      "source": [
        "### Get lists of sentences"
      ]
    },
    {
      "cell_type": "code",
      "metadata": {
        "colab": {
          "base_uri": "https://localhost:8080/"
        },
        "id": "O7nXoDDuGtso",
        "outputId": "10ccbd2f-1740-4fce-c5ce-66e6233554a0"
      },
      "source": [
        "# Convert abstract text lines into lists\n",
        "\n",
        "train_sentences = train_df['text'].tolist()\n",
        "val_sentences = val_df['text'].tolist()\n",
        "test_sentences = test_df['text'].tolist()\n",
        "\n",
        "len(train_sentences), len(val_sentences), len(test_sentences)"
      ],
      "execution_count": 22,
      "outputs": [
        {
          "output_type": "execute_result",
          "data": {
            "text/plain": [
              "(180040, 30212, 30135)"
            ]
          },
          "metadata": {
            "tags": []
          },
          "execution_count": 22
        }
      ]
    },
    {
      "cell_type": "code",
      "metadata": {
        "colab": {
          "base_uri": "https://localhost:8080/"
        },
        "id": "NwuSiPUgHAvh",
        "outputId": "2eabfa0d-daf4-4264-f3bb-5ca26d8b2bc2"
      },
      "source": [
        "train_sentences[:10]"
      ],
      "execution_count": 23,
      "outputs": [
        {
          "output_type": "execute_result",
          "data": {
            "text/plain": [
              "['to investigate the efficacy of @ weeks of daily low-dose oral prednisolone in improving pain , mobility , and systemic low-grade inflammation in the short term and whether the effect would be sustained at @ weeks in older adults with moderate to severe knee osteoarthritis ( oa ) .',\n",
              " 'a total of @ patients with primary knee oa were randomized @:@ ; @ received @ mg/day of prednisolone and @ received placebo for @ weeks .',\n",
              " 'outcome measures included pain reduction and improvement in function scores and systemic inflammation markers .',\n",
              " 'pain was assessed using the visual analog pain scale ( @-@ mm ) .',\n",
              " 'secondary outcome measures included the western ontario and mcmaster universities osteoarthritis index scores , patient global assessment ( pga ) of the severity of knee oa , and @-min walk distance ( @mwd ) .',\n",
              " 'serum levels of interleukin @ ( il-@ ) , il-@ , tumor necrosis factor ( tnf ) - , and high-sensitivity c-reactive protein ( hscrp ) were measured .',\n",
              " 'there was a clinically relevant reduction in the intervention group compared to the placebo group for knee pain , physical function , pga , and @mwd at @ weeks .',\n",
              " 'the mean difference between treatment arms ( @ % ci ) was @ ( @-@ @ ) , p < @ ; @ ( @-@ @ ) , p < @ ; @ ( @-@ @ ) , p < @ ; and @ ( @-@ @ ) , p < @ , respectively .',\n",
              " 'further , there was a clinically relevant reduction in the serum levels of il-@ , il-@ , tnf - , and hscrp at @ weeks in the intervention group when compared to the placebo group .',\n",
              " 'these differences remained significant at @ weeks .']"
            ]
          },
          "metadata": {
            "tags": []
          },
          "execution_count": 23
        }
      ]
    },
    {
      "cell_type": "markdown",
      "metadata": {
        "id": "TgiVlNFcHONJ"
      },
      "source": [
        "## Make numeric labels (ML models require numeric labels)"
      ]
    },
    {
      "cell_type": "code",
      "metadata": {
        "colab": {
          "base_uri": "https://localhost:8080/"
        },
        "id": "Opoy9pz-HzA_",
        "outputId": "e0818fca-c7b1-40a6-aaf7-bdbd4e81494c"
      },
      "source": [
        "# One hot encode labels\n",
        "\n",
        "from sklearn.preprocessing import OneHotEncoder\n",
        "\n",
        "one_hot_encoder = OneHotEncoder(sparse = False) # we want non-sparse matrix\n",
        "train_labels_one_hot = one_hot_encoder.fit_transform(train_df['target'].to_numpy().reshape(-1,1))\n",
        "val_labels_one_hot = one_hot_encoder.transform(val_df[\"target\"].to_numpy().reshape(-1, 1))\n",
        "test_labels_one_hot = one_hot_encoder.transform(test_df['target'].to_numpy().reshape(-1,1))\n",
        "\n",
        "# check\n",
        "train_labels_one_hot"
      ],
      "execution_count": 24,
      "outputs": [
        {
          "output_type": "execute_result",
          "data": {
            "text/plain": [
              "array([[0., 0., 0., 1., 0.],\n",
              "       [0., 0., 1., 0., 0.],\n",
              "       [0., 0., 1., 0., 0.],\n",
              "       ...,\n",
              "       [0., 0., 0., 0., 1.],\n",
              "       [0., 1., 0., 0., 0.],\n",
              "       [0., 1., 0., 0., 0.]])"
            ]
          },
          "metadata": {
            "tags": []
          },
          "execution_count": 24
        }
      ]
    },
    {
      "cell_type": "markdown",
      "metadata": {
        "id": "RUTJha0dKSmy"
      },
      "source": [
        "## Label encode labels"
      ]
    },
    {
      "cell_type": "code",
      "metadata": {
        "colab": {
          "base_uri": "https://localhost:8080/"
        },
        "id": "QYXy8yebKVKH",
        "outputId": "ab6a69ba-db7f-4b0e-813f-2ef0b1486928"
      },
      "source": [
        "# Extract labels (\"target\" columns) and encode them into integers\n",
        "\n",
        "from sklearn.preprocessing import LabelEncoder\n",
        "\n",
        "label_encoder = LabelEncoder()\n",
        "train_labels_encoded = label_encoder.fit_transform(train_df['target'].to_numpy())\n",
        "val_labels_encoded = label_encoder.transform(val_df['target'].to_numpy())\n",
        "test_labels_encoded = label_encoder.transform(test_df['target'].to_numpy())\n",
        "\n",
        "# Check what training labels look like\n",
        "\n",
        "train_labels_encoded\n"
      ],
      "execution_count": 25,
      "outputs": [
        {
          "output_type": "execute_result",
          "data": {
            "text/plain": [
              "array([3, 2, 2, ..., 4, 1, 1])"
            ]
          },
          "metadata": {
            "tags": []
          },
          "execution_count": 25
        }
      ]
    },
    {
      "cell_type": "code",
      "metadata": {
        "colab": {
          "base_uri": "https://localhost:8080/"
        },
        "id": "VRb7WezvLCXN",
        "outputId": "b2ea271e-4564-4b6f-b29a-b537f9e68e5b"
      },
      "source": [
        "# Get class names and number of classes from Label Encoder instance\n",
        "num_classes = len(label_encoder.classes_)\n",
        "class_names = label_encoder.classes_\n",
        "num_classes, class_names"
      ],
      "execution_count": 26,
      "outputs": [
        {
          "output_type": "execute_result",
          "data": {
            "text/plain": [
              "(5, array(['BACKGROUND', 'CONCLUSIONS', 'METHODS', 'OBJECTIVE', 'RESULTS'],\n",
              "       dtype=object))"
            ]
          },
          "metadata": {
            "tags": []
          },
          "execution_count": 26
        }
      ]
    },
    {
      "cell_type": "markdown",
      "metadata": {
        "id": "0AwyDNaOQenY"
      },
      "source": [
        "## Starting a series of modelling experiments...\n",
        "\n",
        "We will be trying out a bunch of different models and seeing which one works best.\n",
        "\n",
        "And as always, we're going to start with a baseline(TF-IDF Multinomial Naive Bayes classifier)."
      ]
    },
    {
      "cell_type": "code",
      "metadata": {
        "colab": {
          "base_uri": "https://localhost:8080/"
        },
        "id": "nTfhpi0sIuOs",
        "outputId": "dc23281e-d709-45cd-e3fd-3bb5ad0852d9"
      },
      "source": [
        "from sklearn.pipeline import Pipeline\n",
        "from sklearn.naive_bayes import MultinomialNB\n",
        "from sklearn.feature_extraction.text import TfidfVectorizer\n",
        "\n",
        "baseline = Pipeline([\n",
        "      ('tfidf', TfidfVectorizer()),\n",
        "      ('clf', MultinomialNB())\n",
        "])\n",
        "\n",
        "baseline.fit(train_sentences, train_labels_encoded)"
      ],
      "execution_count": 27,
      "outputs": [
        {
          "output_type": "execute_result",
          "data": {
            "text/plain": [
              "Pipeline(memory=None,\n",
              "         steps=[('tfidf',\n",
              "                 TfidfVectorizer(analyzer='word', binary=False,\n",
              "                                 decode_error='strict',\n",
              "                                 dtype=<class 'numpy.float64'>,\n",
              "                                 encoding='utf-8', input='content',\n",
              "                                 lowercase=True, max_df=1.0, max_features=None,\n",
              "                                 min_df=1, ngram_range=(1, 1), norm='l2',\n",
              "                                 preprocessor=None, smooth_idf=True,\n",
              "                                 stop_words=None, strip_accents=None,\n",
              "                                 sublinear_tf=False,\n",
              "                                 token_pattern='(?u)\\\\b\\\\w\\\\w+\\\\b',\n",
              "                                 tokenizer=None, use_idf=True,\n",
              "                                 vocabulary=None)),\n",
              "                ('clf',\n",
              "                 MultinomialNB(alpha=1.0, class_prior=None, fit_prior=True))],\n",
              "         verbose=False)"
            ]
          },
          "metadata": {
            "tags": []
          },
          "execution_count": 27
        }
      ]
    },
    {
      "cell_type": "code",
      "metadata": {
        "colab": {
          "base_uri": "https://localhost:8080/"
        },
        "id": "42qPuWQnPk8p",
        "outputId": "2a36d2af-2b79-4d56-bf91-4b751abbc357"
      },
      "source": [
        "baseline.score(X = val_sentences, y = val_labels_encoded)"
      ],
      "execution_count": 28,
      "outputs": [
        {
          "output_type": "execute_result",
          "data": {
            "text/plain": [
              "0.7218323844829869"
            ]
          },
          "metadata": {
            "tags": []
          },
          "execution_count": 28
        }
      ]
    },
    {
      "cell_type": "code",
      "metadata": {
        "colab": {
          "base_uri": "https://localhost:8080/"
        },
        "id": "5YWMdonLPo0E",
        "outputId": "af8dface-6261-45b1-8fdc-ce63921aab39"
      },
      "source": [
        "# Make predictions using our baseline model\n",
        "\n",
        "baseline_preds = baseline.predict(val_sentences)\n",
        "baseline_preds"
      ],
      "execution_count": 29,
      "outputs": [
        {
          "output_type": "execute_result",
          "data": {
            "text/plain": [
              "array([4, 1, 3, ..., 4, 4, 1])"
            ]
          },
          "metadata": {
            "tags": []
          },
          "execution_count": 29
        }
      ]
    },
    {
      "cell_type": "code",
      "metadata": {
        "colab": {
          "base_uri": "https://localhost:8080/"
        },
        "id": "G6JSHf_7RvL_",
        "outputId": "cbba41cb-e92c-4b23-f6a1-5d10f393609a"
      },
      "source": [
        "val_labels_encoded"
      ],
      "execution_count": 30,
      "outputs": [
        {
          "output_type": "execute_result",
          "data": {
            "text/plain": [
              "array([0, 0, 3, ..., 4, 1, 1])"
            ]
          },
          "metadata": {
            "tags": []
          },
          "execution_count": 30
        }
      ]
    },
    {
      "cell_type": "markdown",
      "metadata": {
        "id": "LlhJOUSpRy-Q"
      },
      "source": [
        "### Download helper function script"
      ]
    },
    {
      "cell_type": "code",
      "metadata": {
        "colab": {
          "base_uri": "https://localhost:8080/"
        },
        "id": "JlbO-mv5SJy2",
        "outputId": "a3f4a725-862b-4ce2-efe4-d9e595c06dc6"
      },
      "source": [
        "!wget https://raw.githubusercontent.com/mrdbourke/tensorflow-deep-learning/main/extras/helper_functions.py"
      ],
      "execution_count": 31,
      "outputs": [
        {
          "output_type": "stream",
          "text": [
            "--2021-06-01 23:42:02--  https://raw.githubusercontent.com/mrdbourke/tensorflow-deep-learning/main/extras/helper_functions.py\n",
            "Resolving raw.githubusercontent.com (raw.githubusercontent.com)... 185.199.108.133, 185.199.109.133, 185.199.110.133, ...\n",
            "Connecting to raw.githubusercontent.com (raw.githubusercontent.com)|185.199.108.133|:443... connected.\n",
            "HTTP request sent, awaiting response... 200 OK\n",
            "Length: 10246 (10K) [text/plain]\n",
            "Saving to: ‘helper_functions.py’\n",
            "\n",
            "\rhelper_functions.py   0%[                    ]       0  --.-KB/s               \rhelper_functions.py 100%[===================>]  10.01K  --.-KB/s    in 0s      \n",
            "\n",
            "2021-06-01 23:42:02 (92.7 MB/s) - ‘helper_functions.py’ saved [10246/10246]\n",
            "\n"
          ],
          "name": "stdout"
        }
      ]
    },
    {
      "cell_type": "code",
      "metadata": {
        "id": "ndhfppBASOgL"
      },
      "source": [
        "from helper_functions import calculate_results"
      ],
      "execution_count": 32,
      "outputs": []
    },
    {
      "cell_type": "code",
      "metadata": {
        "colab": {
          "base_uri": "https://localhost:8080/"
        },
        "id": "i1pzNQJ7SVO2",
        "outputId": "abecfbde-ec69-4164-fcaa-fb7a94776ba8"
      },
      "source": [
        "# Calculate baseline results\n",
        "baseline_results = calculate_results(y_true = val_labels_encoded,\n",
        "                                      y_pred = baseline_preds)\n",
        "baseline_results"
      ],
      "execution_count": 33,
      "outputs": [
        {
          "output_type": "execute_result",
          "data": {
            "text/plain": [
              "{'accuracy': 72.1832384482987,\n",
              " 'f1': 0.6989250353450294,\n",
              " 'precision': 0.7186466952323352,\n",
              " 'recall': 0.7218323844829869}"
            ]
          },
          "metadata": {
            "tags": []
          },
          "execution_count": 33
        }
      ]
    },
    {
      "cell_type": "markdown",
      "metadata": {
        "id": "2YPUH9w_Sdjs"
      },
      "source": [
        "## Preparing our data (the text) for deep sequence models\n",
        "\n",
        "---\n",
        "\n",
        "\n",
        "\n",
        "Before we start building deeper models, we've got to createvectorization and embedding layers"
      ]
    },
    {
      "cell_type": "code",
      "metadata": {
        "id": "f6trrM1cTMR-"
      },
      "source": [
        "import numpy as np\n",
        "import tensorflow as tf\n",
        "from tensorflow.keras import layers"
      ],
      "execution_count": 34,
      "outputs": []
    },
    {
      "cell_type": "code",
      "metadata": {
        "colab": {
          "base_uri": "https://localhost:8080/"
        },
        "id": "9EbMSFLqTSWi",
        "outputId": "5730f49e-3462-40ed-c6f0-3b96f011bc25"
      },
      "source": [
        "# how long is each sentence on average?\n",
        "sent_lens = [len(sentence.split()) for sentence in train_sentences]\n",
        "avg_sent_len = np.mean(sent_lens)\n",
        "avg_sent_len"
      ],
      "execution_count": 35,
      "outputs": [
        {
          "output_type": "execute_result",
          "data": {
            "text/plain": [
              "26.338269273494777"
            ]
          },
          "metadata": {
            "tags": []
          },
          "execution_count": 35
        }
      ]
    },
    {
      "cell_type": "code",
      "metadata": {
        "colab": {
          "base_uri": "https://localhost:8080/",
          "height": 401
        },
        "id": "NwNGejzETtka",
        "outputId": "c2dc9377-b56e-4748-955b-c8cd5e543b18"
      },
      "source": [
        "import matplotlib.pyplot as plt\n",
        "plt.hist(sent_lens, bins = 20)"
      ],
      "execution_count": 36,
      "outputs": [
        {
          "output_type": "execute_result",
          "data": {
            "text/plain": [
              "(array([4.2075e+04, 8.3771e+04, 3.6877e+04, 1.0945e+04, 3.9310e+03,\n",
              "        1.4450e+03, 5.6000e+02, 2.2600e+02, 1.0100e+02, 4.5000e+01,\n",
              "        2.0000e+01, 1.2000e+01, 9.0000e+00, 1.0000e+01, 6.0000e+00,\n",
              "        2.0000e+00, 3.0000e+00, 0.0000e+00, 1.0000e+00, 1.0000e+00]),\n",
              " array([  1.  ,  15.75,  30.5 ,  45.25,  60.  ,  74.75,  89.5 , 104.25,\n",
              "        119.  , 133.75, 148.5 , 163.25, 178.  , 192.75, 207.5 , 222.25,\n",
              "        237.  , 251.75, 266.5 , 281.25, 296.  ]),\n",
              " <a list of 20 Patch objects>)"
            ]
          },
          "metadata": {
            "tags": []
          },
          "execution_count": 36
        },
        {
          "output_type": "display_data",
          "data": {
            "image/png": "[encoded data removed]",
            "text/plain": [
              "<Figure size 432x288 with 1 Axes>"
            ]
          },
          "metadata": {
            "tags": [],
            "needs_background": "light"
          }
        }
      ]
    },
    {
      "cell_type": "code",
      "metadata": {
        "colab": {
          "base_uri": "https://localhost:8080/"
        },
        "id": "o4ELe-B5UFUI",
        "outputId": "64732b04-d03c-48b7-ffe7-32f74176056a"
      },
      "source": [
        "# How long of a sentence length covers 95% of examples?\n",
        "output_seq_len = int(np.percentile(sent_lens, 95))\n",
        "output_seq_len"
      ],
      "execution_count": 37,
      "outputs": [
        {
          "output_type": "execute_result",
          "data": {
            "text/plain": [
              "55"
            ]
          },
          "metadata": {
            "tags": []
          },
          "execution_count": 37
        }
      ]
    },
    {
      "cell_type": "code",
      "metadata": {
        "colab": {
          "base_uri": "https://localhost:8080/"
        },
        "id": "jAYyUT2fUtXW",
        "outputId": "0d7fcf40-61b9-4e25-916e-c71414f65a0a"
      },
      "source": [
        "# Maximum sequence length in the training set\n",
        "\n",
        "max(sent_lens)"
      ],
      "execution_count": 38,
      "outputs": [
        {
          "output_type": "execute_result",
          "data": {
            "text/plain": [
              "296"
            ]
          },
          "metadata": {
            "tags": []
          },
          "execution_count": 38
        }
      ]
    },
    {
      "cell_type": "markdown",
      "metadata": {
        "id": "kOP1NjpcU7DM"
      },
      "source": [
        "### Create text vecotrizer layer\n",
        "\n",
        "We want to make a layer which maps our texts from words to numbers"
      ]
    },
    {
      "cell_type": "code",
      "metadata": {
        "id": "q46jwvce3X6G"
      },
      "source": [
        "# How many words are in our vocab? (taken from table 2 in: paper)\n",
        "\n",
        "max_tokens = 68000\n"
      ],
      "execution_count": 39,
      "outputs": []
    },
    {
      "cell_type": "code",
      "metadata": {
        "id": "k6U5UtIi4PCC"
      },
      "source": [
        "from tensorflow.keras.layers.experimental.preprocessing import TextVectorization\n",
        "\n",
        "text_vectorizer = TextVectorization(max_tokens = max_tokens, output_sequence_length = output_seq_len)"
      ],
      "execution_count": 40,
      "outputs": []
    },
    {
      "cell_type": "code",
      "metadata": {
        "id": "lTHF95Nz4hAB"
      },
      "source": [
        "# Adapt text vectorizer to training sentences\n",
        "\n",
        "text_vectorizer.adapt(train_sentences)"
      ],
      "execution_count": 41,
      "outputs": []
    },
    {
      "cell_type": "code",
      "metadata": {
        "colab": {
          "base_uri": "https://localhost:8080/"
        },
        "id": "lVnAiJNW42BX",
        "outputId": "0de0c6c2-5bcd-46aa-fbfe-dc9798845e7e"
      },
      "source": [
        "# Text out text viectorizer on random sentneces\n",
        "\n",
        "import random\n",
        "\n",
        "target_sentence = random.choice(train_sentences)\n",
        "print(f\"Text:\\n{target_sentence}\")\n",
        "print(f\"\\nLength of text: {len(target_sentence)}\")\n",
        "print(f\"\\nVectorized text: {text_vectorizer([target_sentence])}\")"
      ],
      "execution_count": 42,
      "outputs": [
        {
          "output_type": "stream",
          "text": [
            "Text:\n",
            "significantly fewer patients in the pc arm experienced drug-related grade @/@ toxicities , @ ( @ % ) versus @ ( @ % ) for gc ( p = @ ) , with significantly lower rates of leukocytopenia , thrombocytopenia , and fatigue .\n",
            "\n",
            "Length of text: 220\n",
            "\n",
            "Vectorized text: [[   39   704    12     5     2  1884   207   581  4329   445  2942   110\n",
            "     11  4781    14     7    39   105   162     4 53737  3392     3   648\n",
            "      0     0     0     0     0     0     0     0     0     0     0     0\n",
            "      0     0     0     0     0     0     0     0     0     0     0     0\n",
            "      0     0     0     0     0     0     0]]\n"
          ],
          "name": "stdout"
        }
      ]
    },
    {
      "cell_type": "code",
      "metadata": {
        "colab": {
          "base_uri": "https://localhost:8080/"
        },
        "id": "bMVtmX3B5uji",
        "outputId": "3d95d203-72f6-4dec-c0fb-29ecee8c7119"
      },
      "source": [
        "# How many words in our training vocabulary\n",
        "\n",
        "rct_20k_text_vocab = text_vectorizer.get_vocabulary()\n",
        "print(f\"Number of words in vocab: {len(rct_20k_text_vocab)}\")\n",
        "print(f\"Most common words in vocab: {rct_20k_text_vocab[:5]}\")\n",
        "print(f\"Least common words in vocab: {rct_20k_text_vocab[-5:]}\")"
      ],
      "execution_count": 43,
      "outputs": [
        {
          "output_type": "stream",
          "text": [
            "Number of words in vocab: 64841\n",
            "Most common words in vocab: ['', '[UNK]', 'the', 'and', 'of']\n",
            "Least common words in vocab: ['aainduced', 'aaigroup', 'aachener', 'aachen', 'aaacp']\n"
          ],
          "name": "stdout"
        }
      ]
    },
    {
      "cell_type": "code",
      "metadata": {
        "colab": {
          "base_uri": "https://localhost:8080/"
        },
        "id": "cNw9004d6xkV",
        "outputId": "5d145080-4c84-498e-dec9-aa79f0fe0e14"
      },
      "source": [
        "text_vectorizer.get_config()"
      ],
      "execution_count": 44,
      "outputs": [
        {
          "output_type": "execute_result",
          "data": {
            "text/plain": [
              "{'dtype': 'string',\n",
              " 'max_tokens': 68000,\n",
              " 'name': 'text_vectorization',\n",
              " 'ngrams': None,\n",
              " 'output_mode': 'int',\n",
              " 'output_sequence_length': 55,\n",
              " 'pad_to_max_tokens': False,\n",
              " 'split': 'whitespace',\n",
              " 'standardize': 'lower_and_strip_punctuation',\n",
              " 'trainable': True,\n",
              " 'vocabulary_size': 64841}"
            ]
          },
          "metadata": {
            "tags": []
          },
          "execution_count": 44
        }
      ]
    },
    {
      "cell_type": "markdown",
      "metadata": {
        "id": "vLrRKhje7_jV"
      },
      "source": [
        "## Creating an embedding Layer"
      ]
    },
    {
      "cell_type": "code",
      "metadata": {
        "id": "GDSP713o8Vuy"
      },
      "source": [
        "from tensorflow.keras.layers import Embedding\n",
        "\n",
        "embedding_layer = Embedding(input_dim = len(rct_20k_text_vocab),\n",
        "                            output_dim = 128,\n",
        "                            mask_zero = True, # use masking to handle variable sequence length,\n",
        "                            name = \"token_embedding\")"
      ],
      "execution_count": 45,
      "outputs": []
    },
    {
      "cell_type": "code",
      "metadata": {
        "colab": {
          "base_uri": "https://localhost:8080/"
        },
        "id": "QbbUW5_x9uaK",
        "outputId": "4d94ff8f-d4fb-409d-c48a-5d7984619463"
      },
      "source": [
        "print(f\"Sentence before vectorization:\\n {target_sentence}\\n\")\n",
        "vectorized_sentence = text_vectorizer([target_sentence])\n",
        "print(f\"Sentence after vectorization (before embedding): \\n {vectorized_sentence}\")\n",
        "embedded_sentence = embedding_layer(vectorized_sentence)\n",
        "print(f\"\\nEmbedded sentence: \\n{embedded_sentence}\")"
      ],
      "execution_count": 46,
      "outputs": [
        {
          "output_type": "stream",
          "text": [
            "Sentence before vectorization:\n",
            " significantly fewer patients in the pc arm experienced drug-related grade @/@ toxicities , @ ( @ % ) versus @ ( @ % ) for gc ( p = @ ) , with significantly lower rates of leukocytopenia , thrombocytopenia , and fatigue .\n",
            "\n",
            "Sentence after vectorization (before embedding): \n",
            " [[   39   704    12     5     2  1884   207   581  4329   445  2942   110\n",
            "     11  4781    14     7    39   105   162     4 53737  3392     3   648\n",
            "      0     0     0     0     0     0     0     0     0     0     0     0\n",
            "      0     0     0     0     0     0     0     0     0     0     0     0\n",
            "      0     0     0     0     0     0     0]]\n",
            "\n",
            "Embedded sentence: \n",
            "[[[ 0.01403153  0.00751072 -0.01567858 ... -0.02468711  0.03250047\n",
            "    0.01112922]\n",
            "  [-0.00165194 -0.02950676  0.04868438 ... -0.01533119 -0.02463036\n",
            "    0.01845257]\n",
            "  [ 0.04608284  0.02937592  0.0123779  ... -0.03032423  0.01176871\n",
            "    0.0155414 ]\n",
            "  ...\n",
            "  [-0.04569836  0.04874729  0.02487189 ...  0.04913015  0.01028864\n",
            "   -0.00858118]\n",
            "  [-0.04569836  0.04874729  0.02487189 ...  0.04913015  0.01028864\n",
            "   -0.00858118]\n",
            "  [-0.04569836  0.04874729  0.02487189 ...  0.04913015  0.01028864\n",
            "   -0.00858118]]]\n"
          ],
          "name": "stdout"
        }
      ]
    },
    {
      "cell_type": "markdown",
      "metadata": {
        "id": "val1VWe6-gey"
      },
      "source": [
        "## Creating datasets (making sure our data loads as fast as possible)\n",
        "\n",
        "We're going to setup our data to run as fast as possible with the TensorFlow tf.data API"
      ]
    },
    {
      "cell_type": "code",
      "metadata": {
        "colab": {
          "base_uri": "https://localhost:8080/"
        },
        "id": "27b6thRV_koU",
        "outputId": "8bfbdb10-ce56-4446-eb4f-8fa90e684eff"
      },
      "source": [
        "# Turn our data into TensorFlow Datasets\n",
        "\n",
        "\n",
        "train_dataset = tf.data.Dataset.from_tensor_slices((train_sentences, train_labels_one_hot))\n",
        "val_dataset = tf.data.Dataset.from_tensor_slices((val_sentences, val_labels_one_hot))\n",
        "test_dataset = tf.data.Dataset.from_tensor_slices((test_sentences, test_labels_one_hot))\n",
        "\n",
        "train_dataset"
      ],
      "execution_count": 47,
      "outputs": [
        {
          "output_type": "execute_result",
          "data": {
            "text/plain": [
              "<TensorSliceDataset shapes: ((), (5,)), types: (tf.string, tf.float64)>"
            ]
          },
          "metadata": {
            "tags": []
          },
          "execution_count": 47
        }
      ]
    },
    {
      "cell_type": "code",
      "metadata": {
        "colab": {
          "base_uri": "https://localhost:8080/"
        },
        "id": "sVDGNlenABwj",
        "outputId": "dd380f8f-bc11-422d-cb35-52f143844111"
      },
      "source": [
        "# Take the TensorSliceDataset's and turn them into prefetched datasets\n",
        "\n",
        "train_dataset = train_dataset.batch(32).prefetch(tf.data.AUTOTUNE)\n",
        "valid_dataset = val_dataset.batch(32).prefetch(tf.data.AUTOTUNE)\n",
        "test_dataset = test_dataset.batch(32).prefetch(tf.data.AUTOTUNE)\n",
        "train_dataset"
      ],
      "execution_count": 48,
      "outputs": [
        {
          "output_type": "execute_result",
          "data": {
            "text/plain": [
              "<PrefetchDataset shapes: ((None,), (None, 5)), types: (tf.string, tf.float64)>"
            ]
          },
          "metadata": {
            "tags": []
          },
          "execution_count": 48
        }
      ]
    },
    {
      "cell_type": "markdown",
      "metadata": {
        "id": "JShVNU09EvbN"
      },
      "source": [
        "## Model 1: Conv1D with token embeddings"
      ]
    },
    {
      "cell_type": "code",
      "metadata": {
        "id": "rrF0P5-lBo0Y"
      },
      "source": [
        "inputs = layers.Input(shape = (1,), dtype = tf.string)\n",
        "text_vectors = text_vectorizer(inputs)\n",
        "token_embeddings = embedding_layer(text_vectors)\n",
        "x = layers.Conv1D(64, kernel_size = 5, padding = \"same\", activation = 'relu')(token_embeddings)\n",
        "x = layers.GlobalAveragePooling1D()(x)\n",
        "outputs = layers.Dense(num_classes, activation = 'softmax')(x)\n",
        "model_1 = tf.keras.Model(inputs, outputs)\n",
        "\n",
        "#Compile\n",
        "\n",
        "model_1.compile(loss = 'categorical_crossentropy', optimizer = tf.keras.optimizers.Adam(), metrics = ['accuracy'])"
      ],
      "execution_count": 49,
      "outputs": []
    },
    {
      "cell_type": "code",
      "metadata": {
        "colab": {
          "base_uri": "https://localhost:8080/"
        },
        "id": "zyYEItt3DF-C",
        "outputId": "9f1f8df6-d043-4f7e-fca8-510011f4834b"
      },
      "source": [
        "model_1.summary()"
      ],
      "execution_count": 50,
      "outputs": [
        {
          "output_type": "stream",
          "text": [
            "Model: \"model\"\n",
            "_________________________________________________________________\n",
            "Layer (type)                 Output Shape              Param #   \n",
            "=================================================================\n",
            "input_1 (InputLayer)         [(None, 1)]               0         \n",
            "_________________________________________________________________\n",
            "text_vectorization (TextVect (None, 55)                0         \n",
            "_________________________________________________________________\n",
            "token_embedding (Embedding)  (None, 55, 128)           8299648   \n",
            "_________________________________________________________________\n",
            "conv1d (Conv1D)              (None, 55, 64)            41024     \n",
            "_________________________________________________________________\n",
            "global_average_pooling1d (Gl (None, 64)                0         \n",
            "_________________________________________________________________\n",
            "dense (Dense)                (None, 5)                 325       \n",
            "=================================================================\n",
            "Total params: 8,340,997\n",
            "Trainable params: 8,340,997\n",
            "Non-trainable params: 0\n",
            "_________________________________________________________________\n"
          ],
          "name": "stdout"
        }
      ]
    },
    {
      "cell_type": "code",
      "metadata": {
        "colab": {
          "base_uri": "https://localhost:8080/",
          "height": 130
        },
        "id": "oqs4NyfTDOMS",
        "outputId": "64df852d-e0b8-4078-e919-66bdcc4875f3"
      },
      "source": [
        "#history_model_1 = model_1.fit(train_dataset, \n",
        "                              steps_per_epoch=int(0.1*len(train_dataset)),\n",
        "                              epochs = 3,\n",
        "                              validation_data = valid_dataset,\n",
        "                              validation_steps = int(0.1 * len(valid_dataset))) # only validate on 10% of batches"
      ],
      "execution_count": 51,
      "outputs": [
        {
          "output_type": "error",
          "ename": "IndentationError",
          "evalue": "ignored",
          "traceback": [
            "\u001b[0;36m  File \u001b[0;32m\"<ipython-input-51-896e573aad91>\"\u001b[0;36m, line \u001b[0;32m2\u001b[0m\n\u001b[0;31m    steps_per_epoch=int(0.1*len(train_dataset)),\u001b[0m\n\u001b[0m    ^\u001b[0m\n\u001b[0;31mIndentationError\u001b[0m\u001b[0;31m:\u001b[0m unexpected indent\n"
          ]
        }
      ]
    },
    {
      "cell_type": "code",
      "metadata": {
        "id": "2_eNUy-5ENAV"
      },
      "source": [
        "#model_1.evaluate(valid_dataset)"
      ],
      "execution_count": null,
      "outputs": []
    },
    {
      "cell_type": "code",
      "metadata": {
        "id": "qTxopEKyE4eb"
      },
      "source": [
        "#model_1_pred_probs = model_1.predict(valid_dataset)\n",
        "#model_1_pred_probs, model_1_pred_probs.shape"
      ],
      "execution_count": null,
      "outputs": []
    },
    {
      "cell_type": "code",
      "metadata": {
        "id": "F5Rx-xQYFG-8"
      },
      "source": [
        "# Convert pred probs to classes\n",
        "#model_1_preds = tf.argmax(model_1_pred_probs, axis = 1)\n",
        "#model_1_preds"
      ],
      "execution_count": null,
      "outputs": []
    },
    {
      "cell_type": "code",
      "metadata": {
        "id": "EsspjOjcFVLc"
      },
      "source": [
        "#model_1_results = calculate_results (y_true = val_labels_encoded,\n",
        "                                     y_pred = model_1_preds)"
      ],
      "execution_count": null,
      "outputs": []
    },
    {
      "cell_type": "code",
      "metadata": {
        "id": "Jk4_E9C6FdYj"
      },
      "source": [
        "#model_1_results"
      ],
      "execution_count": null,
      "outputs": []
    },
    {
      "cell_type": "code",
      "metadata": {
        "id": "myL4yHsGFhrm"
      },
      "source": [
        ""
      ],
      "execution_count": null,
      "outputs": []
    },
    {
      "cell_type": "markdown",
      "metadata": {
        "id": "Pd4fAiOnUBnK"
      },
      "source": [
        "## Universal Sentence Encoder"
      ]
    },
    {
      "cell_type": "code",
      "metadata": {
        "id": "-LcSAwWRUGwx"
      },
      "source": [
        "import tensorflow_hub as hub\n",
        "\n",
        "#embed = hub.load(https://tfhub.dev/google/universal-sentence-encoder/4)\n",
        "\n",
        "embedding_layer = hub.KerasLayer('https://tfhub.dev/google/universal-sentence-encoder/4',\n",
        "                                 input_shape = [],\n",
        "                                 dtype = tf.string,\n",
        "                                 trainable = False,\n",
        "                                 name = 'USE'\n",
        "                                 )"
      ],
      "execution_count": null,
      "outputs": []
    },
    {
      "cell_type": "code",
      "metadata": {
        "id": "LaULIxbTU-U_"
      },
      "source": [
        "model_2 = tf.keras.Sequential([\n",
        "    embedding_layer,\n",
        "    #tf.keras.layers.Conv1D(32, 5, padding = 'same', activation = 'relu'),\n",
        "    #tf.keras.layers.\n",
        "    tf.keras.layers.Dense(512, activation = 'relu'),\n",
        "    tf.keras.layers.Dropout(0.45),\n",
        "    tf.keras.layers.Dense(32, activation = 'relu'),\n",
        "    tf.keras.layers.Dense(5, activation = 'softmax')\n",
        "])"
      ],
      "execution_count": null,
      "outputs": []
    },
    {
      "cell_type": "code",
      "metadata": {
        "id": "s87pJQ9AXYY3"
      },
      "source": [
        "inputs = layers.Input(shape = [], dtype = tf.string)\n",
        "pretrained_embedding = embedding_layer(inputs)\n",
        "x = layers.Dense(128, activation = 'relu')(pretrained_embedding)\n",
        "outputs = layers.Dense(5, activation = 'softmax')(x)\n",
        "model_3 = tf.keras.Model(inputs = inputs, outputs = outputs)\n",
        "\n",
        "model_3.compile(loss = 'categorical_crossentropy',\n",
        "                optimizer = tf.keras.optimizers.Adam(),\n",
        "                metrics = ['accuracy'])"
      ],
      "execution_count": null,
      "outputs": []
    },
    {
      "cell_type": "code",
      "metadata": {
        "id": "5V2SgyTvV1Qo"
      },
      "source": [
        "model_2.compile(loss= 'categorical_crossentropy',\n",
        "                optimizer = tf.keras.optimizers.Adam(),\n",
        "                metrics = ['accuracy'])"
      ],
      "execution_count": null,
      "outputs": []
    },
    {
      "cell_type": "code",
      "metadata": {
        "id": "u1r35AKDWFLE"
      },
      "source": [
        "#model_3.fit(train_dataset, steps_per_epoch = (0.1*len(train_dataset)), epochs = 3, validation_data = valid_dataset, validation_steps=(0.1*len(valid_dataset)))"
      ],
      "execution_count": null,
      "outputs": []
    },
    {
      "cell_type": "code",
      "metadata": {
        "id": "As0N5nPFWghM"
      },
      "source": [
        "#model_3.evaluate(valid_dataset)"
      ],
      "execution_count": null,
      "outputs": []
    },
    {
      "cell_type": "code",
      "metadata": {
        "id": "R_oH5gzVYQS5"
      },
      "source": [
        "#model_2_pred_probs = model_3.predict(valid_dataset)\n"
      ],
      "execution_count": null,
      "outputs": []
    },
    {
      "cell_type": "code",
      "metadata": {
        "id": "q1Xmst6DYbHL"
      },
      "source": [
        "#model_2_preds = tf.argmax(model_2_pred_probs, axis = 1)\n",
        "#model_2_preds"
      ],
      "execution_count": null,
      "outputs": []
    },
    {
      "cell_type": "code",
      "metadata": {
        "id": "y5NHf6rDYpNM"
      },
      "source": [
        "#model_2_results = calculate_results(val_labels_encoded, model_2_preds)\n",
        "#model_2_results"
      ],
      "execution_count": null,
      "outputs": []
    },
    {
      "cell_type": "markdown",
      "metadata": {
        "id": "xmWYOSYLY3my"
      },
      "source": [
        "## Model 3: Conv1D with character embeddings\n",
        "\n",
        "The paper we're replicating shows they used a combination of token and character-level embeddings.\n",
        "\n",
        "Now let's use character level embeddings"
      ]
    },
    {
      "cell_type": "markdown",
      "metadata": {
        "id": "PpVQ0FiOZyaP"
      },
      "source": [
        "### Creating a charaxcter-level tokenuzer"
      ]
    },
    {
      "cell_type": "code",
      "metadata": {
        "colab": {
          "base_uri": "https://localhost:8080/"
        },
        "id": "kuXZFRRhaT1H",
        "outputId": "ab09eb54-9bf6-4452-8bec-0a5b702cca53"
      },
      "source": [
        "train_sentences[:5]"
      ],
      "execution_count": 53,
      "outputs": [
        {
          "output_type": "execute_result",
          "data": {
            "text/plain": [
              "['to investigate the efficacy of @ weeks of daily low-dose oral prednisolone in improving pain , mobility , and systemic low-grade inflammation in the short term and whether the effect would be sustained at @ weeks in older adults with moderate to severe knee osteoarthritis ( oa ) .',\n",
              " 'a total of @ patients with primary knee oa were randomized @:@ ; @ received @ mg/day of prednisolone and @ received placebo for @ weeks .',\n",
              " 'outcome measures included pain reduction and improvement in function scores and systemic inflammation markers .',\n",
              " 'pain was assessed using the visual analog pain scale ( @-@ mm ) .',\n",
              " 'secondary outcome measures included the western ontario and mcmaster universities osteoarthritis index scores , patient global assessment ( pga ) of the severity of knee oa , and @-min walk distance ( @mwd ) .']"
            ]
          },
          "metadata": {
            "tags": []
          },
          "execution_count": 53
        }
      ]
    },
    {
      "cell_type": "code",
      "metadata": {
        "colab": {
          "base_uri": "https://localhost:8080/",
          "height": 52
        },
        "id": "2H60feZ7aVda",
        "outputId": "e6cccce2-14fd-4826-aa91-ed15ecdde965"
      },
      "source": [
        "# make function to split sentences into characters\n",
        "\n",
        "def split_chars(text):\n",
        "  return \" \".join(list(text))\n",
        "\n",
        "#Text splitting non-character-;eve; sequence intp characters\n",
        "\n",
        "split_chars(train_sentences[2])\n"
      ],
      "execution_count": 54,
      "outputs": [
        {
          "output_type": "execute_result",
          "data": {
            "application/vnd.google.colaboratory.intrinsic+json": {
              "type": "string"
            },
            "text/plain": [
              "'o u t c o m e   m e a s u r e s   i n c l u d e d   p a i n   r e d u c t i o n   a n d   i m p r o v e m e n t   i n   f u n c t i o n   s c o r e s   a n d   s y s t e m i c   i n f l a m m a t i o n   m a r k e r s   .'"
            ]
          },
          "metadata": {
            "tags": []
          },
          "execution_count": 54
        }
      ]
    },
    {
      "cell_type": "code",
      "metadata": {
        "id": "F3O5ldtHamVs"
      },
      "source": [
        "train_chars = [split_chars(sentence) for sentence in train_sentences]\n",
        "val_chars = [split_chars(sentence) for sentence in val_sentences]\n",
        "test_chars = [split_chars(sentence) for sentence in test_sentences]\n"
      ],
      "execution_count": 55,
      "outputs": []
    },
    {
      "cell_type": "code",
      "metadata": {
        "colab": {
          "base_uri": "https://localhost:8080/"
        },
        "id": "iyo0DoLBbk7T",
        "outputId": "0ce8a376-c689-4d60-ab53-aaef8bf916c9"
      },
      "source": [
        "# What's the average character length?\n",
        "\n",
        "char_lens = [len(sentence) for sentence in train_sentences]\n",
        "mean_char_len = np.mean(char_lens)\n",
        "mean_char_len"
      ],
      "execution_count": 56,
      "outputs": [
        {
          "output_type": "execute_result",
          "data": {
            "text/plain": [
              "149.3662574983337"
            ]
          },
          "metadata": {
            "tags": []
          },
          "execution_count": 56
        }
      ]
    },
    {
      "cell_type": "code",
      "metadata": {
        "colab": {
          "base_uri": "https://localhost:8080/",
          "height": 265
        },
        "id": "__PsbA5Db6os",
        "outputId": "3b4b6f3b-42cf-4093-b89e-e7a1551bdae3"
      },
      "source": [
        "import matplotlib.pyplot as plt\n",
        "\n",
        "plt.hist(char_lens, bins = 7);"
      ],
      "execution_count": 57,
      "outputs": [
        {
          "output_type": "display_data",
          "data": {
            "image/png": "[encoded data removed]",
            "text/plain": [
              "<Figure size 432x288 with 1 Axes>"
            ]
          },
          "metadata": {
            "tags": [],
            "needs_background": "light"
          }
        }
      ]
    },
    {
      "cell_type": "code",
      "metadata": {
        "colab": {
          "base_uri": "https://localhost:8080/"
        },
        "id": "GNz15KCAcPfw",
        "outputId": "d0c17788-0d9c-4953-8aae-dcb67b2de0cd"
      },
      "source": [
        "# Find what character length covers 95% of sequences\n",
        "output_seq_char_len = int(np.percentile(char_lens, 95))\n",
        "output_seq_char_len"
      ],
      "execution_count": 58,
      "outputs": [
        {
          "output_type": "execute_result",
          "data": {
            "text/plain": [
              "290"
            ]
          },
          "metadata": {
            "tags": []
          },
          "execution_count": 58
        }
      ]
    },
    {
      "cell_type": "code",
      "metadata": {
        "id": "JFwdzot6cekn"
      },
      "source": [
        "# Get all keyboard characters"
      ],
      "execution_count": 59,
      "outputs": []
    },
    {
      "cell_type": "code",
      "metadata": {
        "colab": {
          "base_uri": "https://localhost:8080/",
          "height": 35
        },
        "id": "Tks44qZDcu6N",
        "outputId": "cd9ce24b-33b3-446a-875f-bbd54493ff35"
      },
      "source": [
        "random.choice(train_sentences)"
      ],
      "execution_count": 60,
      "outputs": [
        {
          "output_type": "execute_result",
          "data": {
            "application/vnd.google.colaboratory.intrinsic+json": {
              "type": "string"
            },
            "text/plain": [
              "'some subjects had virologic responses to tdf plus obr , and tdf resistance was rare .'"
            ]
          },
          "metadata": {
            "tags": []
          },
          "execution_count": 60
        }
      ]
    },
    {
      "cell_type": "code",
      "metadata": {
        "colab": {
          "base_uri": "https://localhost:8080/",
          "height": 35
        },
        "id": "dIEr4DgZcxBn",
        "outputId": "53870b64-659b-45d1-eb7b-bdd635748aa6"
      },
      "source": [
        "import string\n",
        "\n",
        "alphabet = string.ascii_lowercase + string.digits + string.punctuation\n",
        "alphabet"
      ],
      "execution_count": 61,
      "outputs": [
        {
          "output_type": "execute_result",
          "data": {
            "application/vnd.google.colaboratory.intrinsic+json": {
              "type": "string"
            },
            "text/plain": [
              "'abcdefghijklmnopqrstuvwxyz0123456789!\"#$%&\\'()*+,-./:;<=>?@[\\\\]^_`{|}~'"
            ]
          },
          "metadata": {
            "tags": []
          },
          "execution_count": 61
        }
      ]
    },
    {
      "cell_type": "code",
      "metadata": {
        "id": "675fQbYtc9YF"
      },
      "source": [
        "# Create char-level token vecotrizer instance\n",
        "\n",
        "NUM_CHAR_TOKENS = len(alphabet) + 2 # add 2 for space and OOV token\n",
        "char_vectorizer = TextVectorization(max_tokens = NUM_CHAR_TOKENS,\n",
        "                                    output_sequence_length = output_seq_char_len,\n",
        "                                    #standardize = None,\n",
        "                                    name = \"char_vectorizer\")"
      ],
      "execution_count": 62,
      "outputs": []
    },
    {
      "cell_type": "code",
      "metadata": {
        "id": "agrGTI3sdHtK"
      },
      "source": [
        "# Adapt charaxter vecotrizer to training characters\n",
        "\n",
        "char_vectorizer.adapt(train_chars)"
      ],
      "execution_count": 63,
      "outputs": []
    },
    {
      "cell_type": "code",
      "metadata": {
        "colab": {
          "base_uri": "https://localhost:8080/"
        },
        "id": "T-IrUUfCdroM",
        "outputId": "69ac6034-7151-4e4a-a844-c7d935f7c315"
      },
      "source": [
        "char_vocab = char_vectorizer.get_vocabulary()\n",
        "print(f\"Number of different characters in character vocab: {len(char_vocab)}\")\n",
        "print(f\"5 most common characters: {char_vocab[:5]}\")\n",
        "random_train_chars = random.choice(train_chars)\n",
        "\n",
        "vectorized_chars = char_vectorizer([random_train_chars])\n",
        "print(vectorized_chars)"
      ],
      "execution_count": 64,
      "outputs": [
        {
          "output_type": "stream",
          "text": [
            "Number of different characters in character vocab: 28\n",
            "5 most common characters: ['', '[UNK]', 'e', 't', 'i']\n",
            "tf.Tensor(\n",
            "[[ 5  8  3  2  8  4  5 12  7 24 19 18  2  6  3  2  6  9  4  7  6  7 21  2\n",
            "   8  5 12 12 15  2  5  6  9 10 15 15 13 18 20  5  9 12  7 20  0  0  0  0\n",
            "   0  0  0  0  0  0  0  0  0  0  0  0  0  0  0  0  0  0  0  0  0  0  0  0\n",
            "   0  0  0  0  0  0  0  0  0  0  0  0  0  0  0  0  0  0  0  0  0  0  0  0\n",
            "   0  0  0  0  0  0  0  0  0  0  0  0  0  0  0  0  0  0  0  0  0  0  0  0\n",
            "   0  0  0  0  0  0  0  0  0  0  0  0  0  0  0  0  0  0  0  0  0  0  0  0\n",
            "   0  0  0  0  0  0  0  0  0  0  0  0  0  0  0  0  0  0  0  0  0  0  0  0\n",
            "   0  0  0  0  0  0  0  0  0  0  0  0  0  0  0  0  0  0  0  0  0  0  0  0\n",
            "   0  0  0  0  0  0  0  0  0  0  0  0  0  0  0  0  0  0  0  0  0  0  0  0\n",
            "   0  0  0  0  0  0  0  0  0  0  0  0  0  0  0  0  0  0  0  0  0  0  0  0\n",
            "   0  0  0  0  0  0  0  0  0  0  0  0  0  0  0  0  0  0  0  0  0  0  0  0\n",
            "   0  0  0  0  0  0  0  0  0  0  0  0  0  0  0  0  0  0  0  0  0  0  0  0\n",
            "   0  0]], shape=(1, 290), dtype=int64)\n"
          ],
          "name": "stdout"
        }
      ]
    },
    {
      "cell_type": "markdown",
      "metadata": {
        "id": "MttDxa8Ud-FP"
      },
      "source": [
        "# Creating a character level embedding layer"
      ]
    },
    {
      "cell_type": "code",
      "metadata": {
        "id": "pnm9J4ne98eK"
      },
      "source": [
        "char_embed = tf.keras.layers.Embedding(len(char_vocab), 128, mask_zero = True, name = 'character_embedding')"
      ],
      "execution_count": 65,
      "outputs": []
    },
    {
      "cell_type": "code",
      "metadata": {
        "colab": {
          "base_uri": "https://localhost:8080/"
        },
        "id": "QUMUslQW-1iy",
        "outputId": "8a1844a4-76ac-4389-ae8c-05503121aad1"
      },
      "source": [
        "# let's look at an example\n",
        "\n",
        "embedded_sample_sent = char_embed(vectorized_chars)\n",
        "\n",
        "print(f\"Embedded sentence using a character level embedding: \\n\\n{embedded_sample_sent}\")"
      ],
      "execution_count": 71,
      "outputs": [
        {
          "output_type": "stream",
          "text": [
            "Embedded sentence using a character level embedding: \n",
            "\n",
            "[[[ 0.03684522  0.02524854 -0.04547096 ...  0.02355155  0.01830909\n",
            "   -0.00315737]\n",
            "  [-0.03272667  0.04705549 -0.02742672 ...  0.01774975  0.0043975\n",
            "   -0.04882928]\n",
            "  [ 0.03140172  0.03299082  0.04896284 ...  0.01195087  0.00957154\n",
            "    0.02686975]\n",
            "  ...\n",
            "  [ 0.01942987  0.01981607 -0.00059237 ...  0.01759449  0.00023402\n",
            "   -0.03894896]\n",
            "  [ 0.01942987  0.01981607 -0.00059237 ...  0.01759449  0.00023402\n",
            "   -0.03894896]\n",
            "  [ 0.01942987  0.01981607 -0.00059237 ...  0.01759449  0.00023402\n",
            "   -0.03894896]]]\n"
          ],
          "name": "stdout"
        }
      ]
    },
    {
      "cell_type": "markdown",
      "metadata": {
        "id": "3bajcCcF_fZo"
      },
      "source": [
        "## Building a Conv1D Model on Character Embeddings"
      ]
    },
    {
      "cell_type": "code",
      "metadata": {
        "id": "ZWYcvGSa_x69"
      },
      "source": [
        "inputs = tf.keras.layers.Input(shape = (1,), dtype = tf.string)\n",
        "x = char_vectorizer(inputs)\n",
        "x = char_embed(x)\n",
        "x = tf.keras.layers.Conv1D(128, 5, padding = 'same', activation = 'relu')(x)\n",
        "x = tf.keras.layers.GlobalMaxPool1D()(x)\n",
        "x = tf.keras.layers.Dense(64, activation = 'relu')(x)\n",
        "outputs = tf.keras.layers.Dense(5, activation = 'softmax')(x)\n",
        "\n",
        "model_4 = tf.keras.Model(inputs = inputs, outputs = outputs, name = 'model_4')\n",
        "\n"
      ],
      "execution_count": 78,
      "outputs": []
    },
    {
      "cell_type": "code",
      "metadata": {
        "id": "4K3cULXPA7CH"
      },
      "source": [
        "model_4.compile(loss= 'categorical_crossentropy',\n",
        "                optimizer = tf.keras.optimizers.Adam(),\n",
        "                metrics = ['accuracy'])"
      ],
      "execution_count": 79,
      "outputs": []
    },
    {
      "cell_type": "code",
      "metadata": {
        "colab": {
          "base_uri": "https://localhost:8080/"
        },
        "id": "ZlFfl8hpBFJR",
        "outputId": "67d7052f-88f3-405e-bd5f-7e1b393663fc"
      },
      "source": [
        "model_4.summary()"
      ],
      "execution_count": 80,
      "outputs": [
        {
          "output_type": "stream",
          "text": [
            "Model: \"model_4\"\n",
            "_________________________________________________________________\n",
            "Layer (type)                 Output Shape              Param #   \n",
            "=================================================================\n",
            "input_4 (InputLayer)         [(None, 1)]               0         \n",
            "_________________________________________________________________\n",
            "char_vectorizer (TextVectori (None, 290)               0         \n",
            "_________________________________________________________________\n",
            "character_embedding (Embeddi (None, 290, 128)          3584      \n",
            "_________________________________________________________________\n",
            "conv1d_3 (Conv1D)            (None, 290, 128)          82048     \n",
            "_________________________________________________________________\n",
            "global_max_pooling1d (Global (None, 128)               0         \n",
            "_________________________________________________________________\n",
            "dense_5 (Dense)              (None, 64)                8256      \n",
            "_________________________________________________________________\n",
            "dense_6 (Dense)              (None, 5)                 325       \n",
            "=================================================================\n",
            "Total params: 94,213\n",
            "Trainable params: 94,213\n",
            "Non-trainable params: 0\n",
            "_________________________________________________________________\n"
          ],
          "name": "stdout"
        }
      ]
    },
    {
      "cell_type": "code",
      "metadata": {
        "colab": {
          "base_uri": "https://localhost:8080/"
        },
        "id": "3ZFzuTFmC5eS",
        "outputId": "e5bf6fb0-bcbf-47d4-bf1f-f314c3e4666e"
      },
      "source": [
        "#look\n",
        "\n",
        "train_sentences[:5]"
      ],
      "execution_count": 83,
      "outputs": [
        {
          "output_type": "execute_result",
          "data": {
            "text/plain": [
              "['to investigate the efficacy of @ weeks of daily low-dose oral prednisolone in improving pain , mobility , and systemic low-grade inflammation in the short term and whether the effect would be sustained at @ weeks in older adults with moderate to severe knee osteoarthritis ( oa ) .',\n",
              " 'a total of @ patients with primary knee oa were randomized @:@ ; @ received @ mg/day of prednisolone and @ received placebo for @ weeks .',\n",
              " 'outcome measures included pain reduction and improvement in function scores and systemic inflammation markers .',\n",
              " 'pain was assessed using the visual analog pain scale ( @-@ mm ) .',\n",
              " 'secondary outcome measures included the western ontario and mcmaster universities osteoarthritis index scores , patient global assessment ( pga ) of the severity of knee oa , and @-min walk distance ( @mwd ) .']"
            ]
          },
          "metadata": {
            "tags": []
          },
          "execution_count": 83
        }
      ]
    },
    {
      "cell_type": "markdown",
      "metadata": {
        "id": "MhrsAx1QDYIN"
      },
      "source": [
        "## Make datasets"
      ]
    },
    {
      "cell_type": "code",
      "metadata": {
        "id": "tNWNcyYeDckI"
      },
      "source": [
        "x_train = tf.data.Dataset.from_tensor_slices((train_chars, train_labels_one_hot))\n",
        "x_val = tf.data.Dataset.from_tensor_slices((val_chars, val_labels_one_hot))\n",
        "x_test = tf.data.Dataset.from_tensor_slices((test_chars, test_labels_one_hot))"
      ],
      "execution_count": 85,
      "outputs": []
    },
    {
      "cell_type": "code",
      "metadata": {
        "id": "bfRiaGmoD9_r"
      },
      "source": [
        "dataset_train = x_train.batch(32).prefetch(tf.data.AUTOTUNE)\n",
        "dataset_val = x_val.batch(32).prefetch(tf.data.AUTOTUNE)\n",
        "dataset_test = x_test.batch(32).prefetch(tf.data.AUTOTUNE)"
      ],
      "execution_count": 86,
      "outputs": []
    },
    {
      "cell_type": "markdown",
      "metadata": {
        "id": "PAWNp1T0Et56"
      },
      "source": [
        "## Fit the model"
      ]
    },
    {
      "cell_type": "code",
      "metadata": {
        "colab": {
          "base_uri": "https://localhost:8080/"
        },
        "id": "SLLj-e6KBGqY",
        "outputId": "649a0270-7738-48f1-d389-97c364cfd646"
      },
      "source": [
        "model_4.fit(dataset_train, epochs = 3, validation_data = dataset_val)"
      ],
      "execution_count": 87,
      "outputs": [
        {
          "output_type": "stream",
          "text": [
            "Epoch 1/3\n",
            "5627/5627 [==============================] - 96s 11ms/step - loss: 0.7865 - accuracy: 0.6932 - val_loss: 0.6628 - val_accuracy: 0.7514\n",
            "Epoch 2/3\n",
            "5627/5627 [==============================] - 65s 11ms/step - loss: 0.6585 - accuracy: 0.7516 - val_loss: 0.6271 - val_accuracy: 0.7659\n",
            "Epoch 3/3\n",
            "5627/5627 [==============================] - 65s 11ms/step - loss: 0.6135 - accuracy: 0.7701 - val_loss: 0.6185 - val_accuracy: 0.7682\n"
          ],
          "name": "stdout"
        },
        {
          "output_type": "execute_result",
          "data": {
            "text/plain": [
              "<tensorflow.python.keras.callbacks.History at 0x7f691340ee10>"
            ]
          },
          "metadata": {
            "tags": []
          },
          "execution_count": 87
        }
      ]
    },
    {
      "cell_type": "code",
      "metadata": {
        "colab": {
          "base_uri": "https://localhost:8080/"
        },
        "id": "ASeb2qvrCc3j",
        "outputId": "23f15e97-d354-44f8-e855-d84ca707b25f"
      },
      "source": [
        "model_4.evaluate(dataset_val)"
      ],
      "execution_count": 95,
      "outputs": [
        {
          "output_type": "stream",
          "text": [
            "945/945 [==============================] - 6s 6ms/step - loss: 0.6185 - accuracy: 0.7682\n"
          ],
          "name": "stdout"
        },
        {
          "output_type": "execute_result",
          "data": {
            "text/plain": [
              "[0.6185213923454285, 0.7682046890258789]"
            ]
          },
          "metadata": {
            "tags": []
          },
          "execution_count": 95
        }
      ]
    },
    {
      "cell_type": "code",
      "metadata": {
        "colab": {
          "base_uri": "https://localhost:8080/"
        },
        "id": "KLjlTRofKQmu",
        "outputId": "08e778b2-df7b-4f4c-a773-6baca8ce3b70"
      },
      "source": [
        "model_4.predict(val_chars)"
      ],
      "execution_count": 96,
      "outputs": [
        {
          "output_type": "execute_result",
          "data": {
            "text/plain": [
              "array([[3.05920959e-01, 4.58005756e-01, 8.42511430e-02, 1.05453305e-01,\n",
              "        4.63688374e-02],\n",
              "       [1.54150456e-01, 7.97440767e-01, 3.69069679e-03, 3.27971727e-02,\n",
              "        1.19209392e-02],\n",
              "       [3.71478796e-01, 1.46171656e-02, 2.09014378e-02, 5.88643730e-01,\n",
              "        4.35884343e-03],\n",
              "       ...,\n",
              "       [1.84895543e-05, 3.91641050e-04, 8.85026064e-04, 6.31695366e-06,\n",
              "        9.98698473e-01],\n",
              "       [1.64593067e-02, 5.17329991e-01, 1.14477620e-01, 5.35232062e-03,\n",
              "        3.46380740e-01],\n",
              "       [3.06195710e-02, 9.62734938e-01, 4.72615985e-03, 3.79964622e-04,\n",
              "        1.53933163e-03]], dtype=float32)"
            ]
          },
          "metadata": {
            "tags": []
          },
          "execution_count": 96
        }
      ]
    },
    {
      "cell_type": "code",
      "metadata": {
        "id": "noOTrzF-NdCD"
      },
      "source": [
        "model_4_pred_probs = model_4.predict(val_chars)\n",
        "model_4_preds = tf.argmax(model_4_pred_probs, axis = 1)"
      ],
      "execution_count": 101,
      "outputs": []
    },
    {
      "cell_type": "code",
      "metadata": {
        "colab": {
          "base_uri": "https://localhost:8080/"
        },
        "id": "Gr81lxFXOI7Z",
        "outputId": "bc291b0b-e349-4993-ced0-3ff09d61954e"
      },
      "source": [
        "model_4_preds[:5]"
      ],
      "execution_count": 102,
      "outputs": [
        {
          "output_type": "execute_result",
          "data": {
            "text/plain": [
              "<tf.Tensor: shape=(5,), dtype=int64, numpy=array([1, 1, 3, 2, 2])>"
            ]
          },
          "metadata": {
            "tags": []
          },
          "execution_count": 102
        }
      ]
    },
    {
      "cell_type": "code",
      "metadata": {
        "colab": {
          "base_uri": "https://localhost:8080/"
        },
        "id": "KQyJwn7tQU35",
        "outputId": "35d8aaca-9c8d-4e7d-af36-c17b1d30a6b9"
      },
      "source": [
        "calculate_results(val_labels_encoded, model_4_preds)"
      ],
      "execution_count": 103,
      "outputs": [
        {
          "output_type": "execute_result",
          "data": {
            "text/plain": [
              "{'accuracy': 76.82046868793857,\n",
              " 'f1': 0.7608040047188412,\n",
              " 'precision': 0.7658848963846241,\n",
              " 'recall': 0.7682046868793857}"
            ]
          },
          "metadata": {
            "tags": []
          },
          "execution_count": 103
        }
      ]
    },
    {
      "cell_type": "markdown",
      "metadata": {
        "id": "A6TfrFeTQeyN"
      },
      "source": [
        "## Model 4: Combining pretrained token embeddings + characters embeddings (hybrid)\n",
        "\n",
        "1. Create a token-level embedding model (similar `model_1`)\n",
        "2. Create a character-level model (similar to `model_4` with a s;ight modification)\n",
        "3. "
      ]
    },
    {
      "cell_type": "code",
      "metadata": {
        "id": "f3RXoMlZTJS6"
      },
      "source": [
        ""
      ],
      "execution_count": null,
      "outputs": []
    }
  ]
}