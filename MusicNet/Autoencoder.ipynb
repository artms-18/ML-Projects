{
  "nbformat": 4,
  "nbformat_minor": 0,
  "metadata": {
    "colab": {
      "name": "Autoencoder.ipynb",
      "provenance": [],
      "collapsed_sections": [],
      "authorship_tag": "ABX9TyOmk6p8JAPcmtZ2fM6vwuls",
      "include_colab_link": true
    },
    "kernelspec": {
      "name": "python3",
      "display_name": "Python 3"
    },
    "language_info": {
      "name": "python"
    },
    "accelerator": "GPU"
  },
  "cells": [
    {
      "cell_type": "markdown",
      "metadata": {
        "id": "view-in-github",
        "colab_type": "text"
      },
      "source": [
        "<a href=\"https://colab.research.google.com/github/mikashaw/ML-Projects/blob/main/MusicNet/Autoencoder.ipynb\" target=\"_parent\"><img src=\"https://colab.research.google.com/assets/colab-badge.svg\" alt=\"Open In Colab\"/></a>"
      ]
    },
    {
      "cell_type": "code",
      "source": [
        "import tensorflow as tf\n",
        "from tensorflow.keras import Model\n",
        "from tensorflow.keras.layers import Input, Conv2D, ReLU, BatchNormalization, Flatten, Dense, Reshape, Conv2DTranspose, Activation, Lambda\n",
        "from tensorflow.keras import backend as K\n",
        "from tensorflow.keras.optimizers import Adam\n",
        "from tensorflow.keras.losses import mse\n",
        "\n",
        "\n",
        "import numpy as np\n",
        "import os\n",
        "import pickle"
      ],
      "metadata": {
        "id": "GSwgDRVo83g_"
      },
      "execution_count": 1,
      "outputs": []
    },
    {
      "cell_type": "code",
      "source": [
        "tf.compat.v1.disable_eager_execution()"
      ],
      "metadata": {
        "id": "BltzYdu6jqQw"
      },
      "execution_count": 19,
      "outputs": []
    },
    {
      "cell_type": "code",
      "execution_count": 23,
      "metadata": {
        "id": "sYwT7kx96fKR"
      },
      "outputs": [],
      "source": [
        "from tensorflow.python.keras.losses import MeanSquaredError\n",
        "class Autoencoder:\n",
        "  \"\"\"\n",
        "  Autoencoder represents a Deep Convolutional autoencoder architecture with mirrored encoder and decoder components\n",
        "  \"\"\"\n",
        "\n",
        "  def __init__(self, \n",
        "               input_shape,\n",
        "               conv_filters,\n",
        "               conv_kernels,\n",
        "               conv_strides,\n",
        "               latent_space_dim):\n",
        "    self.input_shape = input_shape # [28, 28, 1]\n",
        "    self.conv_filters = conv_filters # [2,4,8]\n",
        "    self.conv_kernels = conv_kernels # [3,5,3]\n",
        "    self.conv_strides = conv_strides # [1,2,2]\n",
        "    self.latent_space_dim = latent_space_dim # 2\n",
        "    self._shape_before_bottleneck = None\n",
        "    self.reconstruction_loss_weight = 1000\n",
        "\n",
        "    self.encoder = None\n",
        "    self.decoder = None\n",
        "    self.model = None\n",
        "    self.mu = None \n",
        "    self.log_variance = None\n",
        "\n",
        "    self._num_conv_layers = len(conv_filters)\n",
        "    self._model_input = None\n",
        "\n",
        "    self._build()\n",
        "\n",
        "  def summary(self):\n",
        "    self.encoder.summary()\n",
        "    self.decoder.summary()\n",
        "    self.model.summary()\n",
        "\n",
        "  def compile(self, learning_rate=0.0001):\n",
        "    optimizer = Adam(learning_rate= learning_rate)\n",
        "    \n",
        "    self.model.compile(optimizer=optimizer, \n",
        "                       loss = self._calculate_combined_loss, \n",
        "                       metrics = ['accuracy'])#self._calculate_reconstruction_loss])\n",
        "                                 # self._calculate_kl_loss])\n",
        "\n",
        "  def train(self, x_train, batch_size, num_epochs):\n",
        "    self.model.fit(x_train, \n",
        "                   x_train,\n",
        "                   batch_size=batch_size,\n",
        "                   epochs = num_epochs,\n",
        "                   shuffle=True)\n",
        "    \n",
        "  def save(self, save_folder=os.getcwd()):\n",
        "    self._create_folder_if_it_doesnt_exist(save_folder)\n",
        "    self._save_parameters(save_folder)\n",
        "    self._save_weights(save_folder)\n",
        "\n",
        "  def _create_folder_if_it_doesnt_exist(self, folder):\n",
        "    if not os.path.exists(os.path.join(os.getcwd(),folder)):\n",
        "      os.makedirs(folder)\n",
        "\n",
        "  def _save_parameters(self, save_folder):\n",
        "    parameters = [\n",
        "      self.input_shape, # [28, 28, 1]\n",
        "      self.conv_filters, # [2,4,8]\n",
        "      self.conv_kernels, # [3,5,3]\n",
        "      self.conv_strides,# [1,2,2]\n",
        "      self.latent_space_dim# 2       \n",
        "    ]\n",
        "    save_path = os.path.join(save_folder, \"parameters.pkl\")\n",
        "    with open(save_path, \"wb\") as f:\n",
        "      pickle.dump(parameters, f)\n",
        "\n",
        "  def _save_weights(self, save_folder):\n",
        "    save_path = os.path.join(save_folder, \"weights.h5\")\n",
        "    self.model.save_weights(save_path)\n",
        "\n",
        "  def load_weights(self, weights_path):\n",
        "    self.model.load_weights(weights_path)\n",
        "\n",
        "  @classmethod \n",
        "  def load(cls, save_folder=\".\"):\n",
        "    parameters_path = os.path.join(save_folder, \"parameters.pkl\")\n",
        "    with open(parameters_path, \"rb\") as f:\n",
        "      parameters = pickle.load(f)\n",
        "    autoencoder = Autoencoder(*parameters)\n",
        "    weights_path = os.path.join(save_folder, \"weights.h5\")\n",
        "    autoencoder.load_weights(weights_path)\n",
        "    return autoencoder\n",
        "\n",
        "  def _calculate_reconstruction_loss(self, y_target, y_predicted):\n",
        "    error = y_target - y_predicted \n",
        "    reconstruction_loss = K.mean(K.square(error), axis=[1,2,3])\n",
        "    return reconstruction_loss\n",
        "\n",
        "  def _calculate_kl_loss(self, y_target, y_predicted):\n",
        "    kl_loss = -0.5 * K.sum(1+self.log_variance - K.square(self.mu) - K.exp(self.log_variance), axis= 1)\n",
        "    return kl_loss\n",
        "\n",
        "  def _calculate_combined_loss(self, y_target, y_predicted):\n",
        "    reconstruction_loss = self._calculate_reconstruction_loss(y_target, y_predicted)\n",
        "    kl_loss = self._calculate_kl_loss(y_target, y_predicted)\n",
        "    combined_loss = self.reconstruction_loss_weight * reconstruction_loss + kl_loss \n",
        "    return combined_loss \n",
        "\n",
        "\n",
        "  def _build(self):\n",
        "    self._build_encoder()\n",
        "    self._build_decoder()\n",
        "    self._build_autoencoder()\n",
        "\n",
        "  def _build_autoencoder(self):\n",
        "    model_input = self._model_input\n",
        "    model_output = self.decoder(self.encoder(model_input))\n",
        "    self.model = Model(model_input, model_output, name=\"Autoencoder\")\n",
        "\n",
        "  def _build_decoder(self):\n",
        "    decoder_input = self._add_decoder_input()\n",
        "    dense_layer = self._add_dense_layer(decoder_input)\n",
        "    reshape_layer = self._add_reshape_layer(dense_layer)\n",
        "    conv_transpose_layers = self._add_conv_transpose_layers(reshape_layer)\n",
        "    decoder_output = self._add_decoder_output(conv_transpose_layers)\n",
        "    self.decoder = Model(decoder_input, decoder_output, name =\"decoder\")\n",
        "\n",
        "  def _add_decoder_input(self):\n",
        "    return Input(shape=self.latent_space_dim, name = \"decoder_input\")\n",
        "\n",
        "  def _add_dense_layer(self, decoder_input):\n",
        "    num_neurons = np.prod(self._shape_before_bottleneck) #[1,2,4] -> 8\n",
        "    dense_layer = Dense(num_neurons, name = \"decoder_dense\")(decoder_input)\n",
        "    return dense_layer\n",
        "\n",
        "  def _add_reshape_layer(self, dense_layer):\n",
        "    reshape_layer = Reshape(self._shape_before_bottleneck)(dense_layer)\n",
        "    return reshape_layer\n",
        "\n",
        "  def _add_conv_transpose_layers(self, x):\n",
        "    \"\"\"Add conv transpose blocks\"\"\"\n",
        "    # loop through all the conv later in reverse order and stop at the first layer\n",
        "    for layer_index in reversed(range(1, self._num_conv_layers)):\n",
        "      # [0,1,2] -> [2,1,0]\n",
        "      x = self._add_conv_transpose_layer(layer_index, x)\n",
        "    return x\n",
        "\n",
        "  def _add_conv_transpose_layer(self, layer_index, x):\n",
        "    layer_num = self._num_conv_layers - layer_index\n",
        "    conv_transpose_layer = Conv2DTranspose(\n",
        "        filters = self.conv_filters[layer_index],\n",
        "        kernel_size = self.conv_kernels[layer_index],\n",
        "        strides = self.conv_strides[layer_index],\n",
        "        padding=\"same\",\n",
        "        name=f\"decoder_conv_transpose_layer_{layer_num}\"\n",
        "    )\n",
        "\n",
        "    x = conv_transpose_layer(x)\n",
        "    x = ReLU(name=f\"decoder_relu_{layer_num}\")(x)\n",
        "    x = BatchNormalization(name=f\"decoder_bn_{layer_num}\")(x)\n",
        "    return x\n",
        "\n",
        "  def _add_decoder_output(self, x):\n",
        "    conv_transpose_layer = Conv2DTranspose(\n",
        "        filters = 1,\n",
        "        kernel_size = self.conv_kernels[0],\n",
        "        strides = self.conv_strides[0],\n",
        "        padding = \"same\",\n",
        "        name=f\"decoder_conv_transpose_layer_{self._num_conv_layers}\"\n",
        "    )\n",
        "    x = conv_transpose_layer(x)\n",
        "    output_layer = Activation(\"sigmoid\", name = \"sigmoid_layer\")(x)\n",
        "    return output_layer\n",
        "\n",
        "  def _build_encoder(self):\n",
        "    encoder_input = self._add_encoder_input()\n",
        "    conv_layers = self._add_conv_layers(encoder_input)\n",
        "    bottleneck = self._add_bottleneck(conv_layers)\n",
        "    self._model_input = encoder_input\n",
        "    self.encoder = Model(encoder_input, bottleneck, name = \"encoder\")\n",
        "\n",
        "  def _add_encoder_input(self):\n",
        "    return Input(shape = self.input_shape, name=\"encoder_input\")\n",
        "\n",
        "  def _add_conv_layers(self, encoder_input):\n",
        "    \"\"\"\n",
        "    Creates all convolutionals block in encoder\n",
        "    \"\"\"\n",
        "    x = encoder_input\n",
        "    for layer_index in range(self._num_conv_layers):\n",
        "      x = self._add_conv_layer(layer_index, x)\n",
        "    return x\n",
        "\n",
        "  def _add_conv_layer(self, layer_index, x):\n",
        "    \"\"\"\n",
        "    Adds a convolutional block to a graph of layers, consisting of a conv 2d + ReLU + batch normalization.\n",
        "    \"\"\"\n",
        "    layer_number = layer_index + 1\n",
        "    conv_layer = Conv2D(\n",
        "        filters = self.conv_filters[layer_index],\n",
        "        kernel_size = self.conv_kernels[layer_index],\n",
        "        strides = self.conv_strides[layer_index],\n",
        "        padding= \"same\",\n",
        "        name=f\"encoder_conv_layer_{layer_number}\"\n",
        "    \n",
        "    )\n",
        "    x = conv_layer(x)\n",
        "    x = ReLU(name = f\"encoder_relu_{layer_number}\")(x)\n",
        "    x = BatchNormalization(name=f\"encoder_bn_{layer_number}\")(x)\n",
        "    return x\n",
        "\n",
        "  def _add_bottleneck(self, x):\n",
        "    \"\"\"Flatten data and add bottle neck with Gaussian sampling\"\"\"\n",
        "    self._shape_before_bottleneck = K.int_shape(x)[1:] #[2,7,7,1]\n",
        "    x = Flatten()(x)\n",
        "    # find mu \n",
        "    self.mu = Dense(self.latent_space_dim, name=\"mu\")(x)\n",
        "    self.log_variance = Dense(self.latent_space_dim, name=\"log_variance\")(x)\n",
        "\n",
        "    def sample_point_from_normal_distribution(args):\n",
        "      mu, log_variance = args\n",
        "      epsilon = K.random_normal(shape=K.shape(self.mu), mean = 0., stddev=1.)\n",
        "      sampled_point = mu + K.exp(log_variance / 2) * epsilon\n",
        "      return sampled_point\n",
        "\n",
        "    x = Lambda(sample_point_from_normal_distribution, name=\"encoder_output\")([self.mu, self.log_variance])\n",
        "    return x\n",
        "\n",
        "\n",
        "\n"
      ]
    },
    {
      "cell_type": "code",
      "source": [
        "autoencoder = Autoencoder(\n",
        "    input_shape = (28,28,1),\n",
        "    conv_filters = (32,64,64,64),\n",
        "    conv_kernels = (3,3,3,3),\n",
        "    conv_strides = (1,2,2,1),\n",
        "    latent_space_dim=2\n",
        "\n",
        ")"
      ],
      "metadata": {
        "id": "QGfABmfDDDln"
      },
      "execution_count": 24,
      "outputs": []
    },
    {
      "cell_type": "code",
      "source": [
        "autoencoder.summary()"
      ],
      "metadata": {
        "colab": {
          "base_uri": "https://localhost:8080/"
        },
        "id": "PaxCpZDeDbk2",
        "outputId": "f75f9dd2-f4c6-44e6-aef9-7b3def0f20a4"
      },
      "execution_count": 25,
      "outputs": [
        {
          "output_type": "stream",
          "name": "stdout",
          "text": [
            "Model: \"encoder\"\n",
            "__________________________________________________________________________________________________\n",
            " Layer (type)                   Output Shape         Param #     Connected to                     \n",
            "==================================================================================================\n",
            " encoder_input (InputLayer)     [(None, 28, 28, 1)]  0           []                               \n",
            "                                                                                                  \n",
            " encoder_conv_layer_1 (Conv2D)  (None, 28, 28, 32)   320         ['encoder_input[0][0]']          \n",
            "                                                                                                  \n",
            " encoder_relu_1 (ReLU)          (None, 28, 28, 32)   0           ['encoder_conv_layer_1[0][0]']   \n",
            "                                                                                                  \n",
            " encoder_bn_1 (BatchNormalizati  (None, 28, 28, 32)  128         ['encoder_relu_1[0][0]']         \n",
            " on)                                                                                              \n",
            "                                                                                                  \n",
            " encoder_conv_layer_2 (Conv2D)  (None, 14, 14, 64)   18496       ['encoder_bn_1[0][0]']           \n",
            "                                                                                                  \n",
            " encoder_relu_2 (ReLU)          (None, 14, 14, 64)   0           ['encoder_conv_layer_2[0][0]']   \n",
            "                                                                                                  \n",
            " encoder_bn_2 (BatchNormalizati  (None, 14, 14, 64)  256         ['encoder_relu_2[0][0]']         \n",
            " on)                                                                                              \n",
            "                                                                                                  \n",
            " encoder_conv_layer_3 (Conv2D)  (None, 7, 7, 64)     36928       ['encoder_bn_2[0][0]']           \n",
            "                                                                                                  \n",
            " encoder_relu_3 (ReLU)          (None, 7, 7, 64)     0           ['encoder_conv_layer_3[0][0]']   \n",
            "                                                                                                  \n",
            " encoder_bn_3 (BatchNormalizati  (None, 7, 7, 64)    256         ['encoder_relu_3[0][0]']         \n",
            " on)                                                                                              \n",
            "                                                                                                  \n",
            " encoder_conv_layer_4 (Conv2D)  (None, 7, 7, 64)     36928       ['encoder_bn_3[0][0]']           \n",
            "                                                                                                  \n",
            " encoder_relu_4 (ReLU)          (None, 7, 7, 64)     0           ['encoder_conv_layer_4[0][0]']   \n",
            "                                                                                                  \n",
            " encoder_bn_4 (BatchNormalizati  (None, 7, 7, 64)    256         ['encoder_relu_4[0][0]']         \n",
            " on)                                                                                              \n",
            "                                                                                                  \n",
            " flatten_9 (Flatten)            (None, 3136)         0           ['encoder_bn_4[0][0]']           \n",
            "                                                                                                  \n",
            " mu (Dense)                     (None, 2)            6274        ['flatten_9[0][0]']              \n",
            "                                                                                                  \n",
            " log_variance (Dense)           (None, 2)            6274        ['flatten_9[0][0]']              \n",
            "                                                                                                  \n",
            " encoder_output (Lambda)        (None, 2)            0           ['mu[0][0]',                     \n",
            "                                                                  'log_variance[0][0]']           \n",
            "                                                                                                  \n",
            "==================================================================================================\n",
            "Total params: 106,116\n",
            "Trainable params: 105,668\n",
            "Non-trainable params: 448\n",
            "__________________________________________________________________________________________________\n",
            "Model: \"decoder\"\n",
            "_________________________________________________________________\n",
            " Layer (type)                Output Shape              Param #   \n",
            "=================================================================\n",
            " decoder_input (InputLayer)  [(None, 2)]               0         \n",
            "                                                                 \n",
            " decoder_dense (Dense)       (None, 3136)              9408      \n",
            "                                                                 \n",
            " reshape_9 (Reshape)         (None, 7, 7, 64)          0         \n",
            "                                                                 \n",
            " decoder_conv_transpose_laye  (None, 7, 7, 64)         36928     \n",
            " r_1 (Conv2DTranspose)                                           \n",
            "                                                                 \n",
            " decoder_relu_1 (ReLU)       (None, 7, 7, 64)          0         \n",
            "                                                                 \n",
            " decoder_bn_1 (BatchNormaliz  (None, 7, 7, 64)         256       \n",
            " ation)                                                          \n",
            "                                                                 \n",
            " decoder_conv_transpose_laye  (None, 14, 14, 64)       36928     \n",
            " r_2 (Conv2DTranspose)                                           \n",
            "                                                                 \n",
            " decoder_relu_2 (ReLU)       (None, 14, 14, 64)        0         \n",
            "                                                                 \n",
            " decoder_bn_2 (BatchNormaliz  (None, 14, 14, 64)       256       \n",
            " ation)                                                          \n",
            "                                                                 \n",
            " decoder_conv_transpose_laye  (None, 28, 28, 64)       36928     \n",
            " r_3 (Conv2DTranspose)                                           \n",
            "                                                                 \n",
            " decoder_relu_3 (ReLU)       (None, 28, 28, 64)        0         \n",
            "                                                                 \n",
            " decoder_bn_3 (BatchNormaliz  (None, 28, 28, 64)       256       \n",
            " ation)                                                          \n",
            "                                                                 \n",
            " decoder_conv_transpose_laye  (None, 28, 28, 1)        577       \n",
            " r_4 (Conv2DTranspose)                                           \n",
            "                                                                 \n",
            " sigmoid_layer (Activation)  (None, 28, 28, 1)         0         \n",
            "                                                                 \n",
            "=================================================================\n",
            "Total params: 121,537\n",
            "Trainable params: 121,153\n",
            "Non-trainable params: 384\n",
            "_________________________________________________________________\n",
            "Model: \"Autoencoder\"\n",
            "_________________________________________________________________\n",
            " Layer (type)                Output Shape              Param #   \n",
            "=================================================================\n",
            " encoder_input (InputLayer)  [(None, 28, 28, 1)]       0         \n",
            "                                                                 \n",
            " encoder (Functional)        (None, 2)                 106116    \n",
            "                                                                 \n",
            " decoder (Functional)        (None, 28, 28, 1)         121537    \n",
            "                                                                 \n",
            "=================================================================\n",
            "Total params: 227,653\n",
            "Trainable params: 226,821\n",
            "Non-trainable params: 832\n",
            "_________________________________________________________________\n"
          ]
        }
      ]
    },
    {
      "cell_type": "code",
      "source": [
        "from tensorflow.keras.datasets import mnist"
      ],
      "metadata": {
        "id": "aUFNU6a-V_eq"
      },
      "execution_count": 26,
      "outputs": []
    },
    {
      "cell_type": "code",
      "source": [
        "LEARNING_RATE = 0.0005\n",
        "BATCH_SIZE = 32\n",
        "EPOCHS = 20\n",
        "\n",
        "def load_mnist():\n",
        "  (x_train, y_train), (x_test, y_test) = mnist.load_data()\n",
        "  x_train = x_train.astype(\"float32\") / 255\n",
        "  x_train = x_train.reshape(x_train.shape+ (1,))\n",
        "  x_test = x_test.astype(\"float32\") / 255\n",
        "  x_test = x_test.reshape(x_test.shape+ (1,))\n",
        "\n",
        "  return x_train, y_train, x_test, y_test\n",
        "\n",
        "def train(x_train, learning_rate, batch_size, epochs):\n",
        "  autoencoder = Autoencoder(\n",
        "    input_shape = (28,28,1),\n",
        "    conv_filters = (32,64,64,64),\n",
        "    conv_kernels = (3,3,3,3),\n",
        "    conv_strides = (1,2,2,1),\n",
        "    latent_space_dim=2\n",
        "  )\n",
        "  autoencoder.summary()\n",
        "  autoencoder.compile(learning_rate)\n",
        "  autoencoder.train(x_train, batch_size, epochs)\n",
        "  return autoencoder\n",
        " \n",
        "\n",
        "\n",
        "curr_path = os.getcwd()\n",
        "path = os.path.join(curr_path, )\n",
        "x_train, _, _, _ = load_mnist()\n",
        "autoencoder = train(x_train[:500], LEARNING_RATE, BATCH_SIZE, EPOCHS)\n",
        "autoencoder.save(\"model\")\n",
        "#autoencoder2 = Autoencoder.load(\"model\")\n",
        "#autoencoder2.summary()"
      ],
      "metadata": {
        "colab": {
          "base_uri": "https://localhost:8080/"
        },
        "id": "XNocTYVeDeDu",
        "outputId": "77ccf498-94f5-4c05-9bc5-de3c1e381592"
      },
      "execution_count": 27,
      "outputs": [
        {
          "output_type": "stream",
          "name": "stdout",
          "text": [
            "Model: \"encoder\"\n",
            "__________________________________________________________________________________________________\n",
            " Layer (type)                   Output Shape         Param #     Connected to                     \n",
            "==================================================================================================\n",
            " encoder_input (InputLayer)     [(None, 28, 28, 1)]  0           []                               \n",
            "                                                                                                  \n",
            " encoder_conv_layer_1 (Conv2D)  (None, 28, 28, 32)   320         ['encoder_input[0][0]']          \n",
            "                                                                                                  \n",
            " encoder_relu_1 (ReLU)          (None, 28, 28, 32)   0           ['encoder_conv_layer_1[0][0]']   \n",
            "                                                                                                  \n",
            " encoder_bn_1 (BatchNormalizati  (None, 28, 28, 32)  128         ['encoder_relu_1[0][0]']         \n",
            " on)                                                                                              \n",
            "                                                                                                  \n",
            " encoder_conv_layer_2 (Conv2D)  (None, 14, 14, 64)   18496       ['encoder_bn_1[0][0]']           \n",
            "                                                                                                  \n",
            " encoder_relu_2 (ReLU)          (None, 14, 14, 64)   0           ['encoder_conv_layer_2[0][0]']   \n",
            "                                                                                                  \n",
            " encoder_bn_2 (BatchNormalizati  (None, 14, 14, 64)  256         ['encoder_relu_2[0][0]']         \n",
            " on)                                                                                              \n",
            "                                                                                                  \n",
            " encoder_conv_layer_3 (Conv2D)  (None, 7, 7, 64)     36928       ['encoder_bn_2[0][0]']           \n",
            "                                                                                                  \n",
            " encoder_relu_3 (ReLU)          (None, 7, 7, 64)     0           ['encoder_conv_layer_3[0][0]']   \n",
            "                                                                                                  \n",
            " encoder_bn_3 (BatchNormalizati  (None, 7, 7, 64)    256         ['encoder_relu_3[0][0]']         \n",
            " on)                                                                                              \n",
            "                                                                                                  \n",
            " encoder_conv_layer_4 (Conv2D)  (None, 7, 7, 64)     36928       ['encoder_bn_3[0][0]']           \n",
            "                                                                                                  \n",
            " encoder_relu_4 (ReLU)          (None, 7, 7, 64)     0           ['encoder_conv_layer_4[0][0]']   \n",
            "                                                                                                  \n",
            " encoder_bn_4 (BatchNormalizati  (None, 7, 7, 64)    256         ['encoder_relu_4[0][0]']         \n",
            " on)                                                                                              \n",
            "                                                                                                  \n",
            " flatten_10 (Flatten)           (None, 3136)         0           ['encoder_bn_4[0][0]']           \n",
            "                                                                                                  \n",
            " mu (Dense)                     (None, 2)            6274        ['flatten_10[0][0]']             \n",
            "                                                                                                  \n",
            " log_variance (Dense)           (None, 2)            6274        ['flatten_10[0][0]']             \n",
            "                                                                                                  \n",
            " encoder_output (Lambda)        (None, 2)            0           ['mu[0][0]',                     \n",
            "                                                                  'log_variance[0][0]']           \n",
            "                                                                                                  \n",
            "==================================================================================================\n",
            "Total params: 106,116\n",
            "Trainable params: 105,668\n",
            "Non-trainable params: 448\n",
            "__________________________________________________________________________________________________\n",
            "Model: \"decoder\"\n",
            "_________________________________________________________________\n",
            " Layer (type)                Output Shape              Param #   \n",
            "=================================================================\n",
            " decoder_input (InputLayer)  [(None, 2)]               0         \n",
            "                                                                 \n",
            " decoder_dense (Dense)       (None, 3136)              9408      \n",
            "                                                                 \n",
            " reshape_10 (Reshape)        (None, 7, 7, 64)          0         \n",
            "                                                                 \n",
            " decoder_conv_transpose_laye  (None, 7, 7, 64)         36928     \n",
            " r_1 (Conv2DTranspose)                                           \n",
            "                                                                 \n",
            " decoder_relu_1 (ReLU)       (None, 7, 7, 64)          0         \n",
            "                                                                 \n",
            " decoder_bn_1 (BatchNormaliz  (None, 7, 7, 64)         256       \n",
            " ation)                                                          \n",
            "                                                                 \n",
            " decoder_conv_transpose_laye  (None, 14, 14, 64)       36928     \n",
            " r_2 (Conv2DTranspose)                                           \n",
            "                                                                 \n",
            " decoder_relu_2 (ReLU)       (None, 14, 14, 64)        0         \n",
            "                                                                 \n",
            " decoder_bn_2 (BatchNormaliz  (None, 14, 14, 64)       256       \n",
            " ation)                                                          \n",
            "                                                                 \n",
            " decoder_conv_transpose_laye  (None, 28, 28, 64)       36928     \n",
            " r_3 (Conv2DTranspose)                                           \n",
            "                                                                 \n",
            " decoder_relu_3 (ReLU)       (None, 28, 28, 64)        0         \n",
            "                                                                 \n",
            " decoder_bn_3 (BatchNormaliz  (None, 28, 28, 64)       256       \n",
            " ation)                                                          \n",
            "                                                                 \n",
            " decoder_conv_transpose_laye  (None, 28, 28, 1)        577       \n",
            " r_4 (Conv2DTranspose)                                           \n",
            "                                                                 \n",
            " sigmoid_layer (Activation)  (None, 28, 28, 1)         0         \n",
            "                                                                 \n",
            "=================================================================\n",
            "Total params: 121,537\n",
            "Trainable params: 121,153\n",
            "Non-trainable params: 384\n",
            "_________________________________________________________________\n",
            "Model: \"Autoencoder\"\n",
            "_________________________________________________________________\n",
            " Layer (type)                Output Shape              Param #   \n",
            "=================================================================\n",
            " encoder_input (InputLayer)  [(None, 28, 28, 1)]       0         \n",
            "                                                                 \n",
            " encoder (Functional)        (None, 2)                 106116    \n",
            "                                                                 \n",
            " decoder (Functional)        (None, 28, 28, 1)         121537    \n",
            "                                                                 \n",
            "=================================================================\n",
            "Total params: 227,653\n",
            "Trainable params: 226,821\n",
            "Non-trainable params: 832\n",
            "_________________________________________________________________\n",
            "Train on 500 samples\n",
            "Epoch 1/20\n",
            "500/500 [==============================] - 10s 20ms/sample - loss: 208.6752 - accuracy: 0.6083\n",
            "Epoch 2/20\n",
            "500/500 [==============================] - 1s 1ms/sample - loss: 129.8872 - accuracy: 0.7456\n",
            "Epoch 3/20\n",
            "500/500 [==============================] - 1s 1ms/sample - loss: 103.7033 - accuracy: 0.7697\n",
            "Epoch 4/20\n",
            "500/500 [==============================] - 1s 1ms/sample - loss: 92.6727 - accuracy: 0.7754\n",
            "Epoch 5/20\n",
            "500/500 [==============================] - 1s 1ms/sample - loss: 88.5216 - accuracy: 0.7782\n",
            "Epoch 6/20\n",
            "500/500 [==============================] - 1s 1ms/sample - loss: 84.7616 - accuracy: 0.7816\n",
            "Epoch 7/20\n",
            "500/500 [==============================] - 1s 1ms/sample - loss: 78.9246 - accuracy: 0.7847\n",
            "Epoch 8/20\n",
            "500/500 [==============================] - 1s 1ms/sample - loss: 77.8060 - accuracy: 0.7829\n",
            "Epoch 9/20\n",
            "500/500 [==============================] - 1s 1ms/sample - loss: 79.7833 - accuracy: 0.7873\n",
            "Epoch 10/20\n",
            "500/500 [==============================] - 1s 1ms/sample - loss: 74.2357 - accuracy: 0.7879\n",
            "Epoch 11/20\n",
            "500/500 [==============================] - 1s 1ms/sample - loss: 72.0879 - accuracy: 0.7897\n",
            "Epoch 12/20\n",
            "500/500 [==============================] - 1s 1ms/sample - loss: 70.2310 - accuracy: 0.7916\n",
            "Epoch 13/20\n",
            "500/500 [==============================] - 1s 1ms/sample - loss: 71.6773 - accuracy: 0.7904\n",
            "Epoch 14/20\n",
            "500/500 [==============================] - 1s 1ms/sample - loss: 68.5647 - accuracy: 0.7918\n",
            "Epoch 15/20\n",
            "500/500 [==============================] - 1s 1ms/sample - loss: 67.4666 - accuracy: 0.7908\n",
            "Epoch 16/20\n",
            "500/500 [==============================] - 1s 1ms/sample - loss: 67.0298 - accuracy: 0.7930\n",
            "Epoch 17/20\n",
            "500/500 [==============================] - 1s 1ms/sample - loss: 67.3308 - accuracy: 0.7945\n",
            "Epoch 18/20\n",
            "500/500 [==============================] - 1s 1ms/sample - loss: 95.4471 - accuracy: 0.7760\n",
            "Epoch 19/20\n",
            "500/500 [==============================] - 1s 1ms/sample - loss: 96.2569 - accuracy: 0.7832\n",
            "Epoch 20/20\n",
            "500/500 [==============================] - 1s 1ms/sample - loss: 76.3883 - accuracy: 0.7936\n"
          ]
        }
      ]
    },
    {
      "cell_type": "code",
      "source": [
        "afrom google.colab import drive\n",
        "drive.mount('/content/drive')"
      ],
      "metadata": {
        "id": "G7w8vygDhd3l",
        "colab": {
          "base_uri": "https://localhost:8080/",
          "height": 381
        },
        "outputId": "4aff8d2d-c474-40b0-f884-49d19e93a267"
      },
      "execution_count": 16,
      "outputs": [
        {
          "output_type": "error",
          "ename": "MessageError",
          "evalue": "ignored",
          "traceback": [
            "\u001b[0;31m---------------------------------------------------------------------------\u001b[0m",
            "\u001b[0;31mMessageError\u001b[0m                              Traceback (most recent call last)",
            "\u001b[0;32m<ipython-input-16-d5df0069828e>\u001b[0m in \u001b[0;36m<module>\u001b[0;34m()\u001b[0m\n\u001b[1;32m      1\u001b[0m \u001b[0;32mfrom\u001b[0m \u001b[0mgoogle\u001b[0m\u001b[0;34m.\u001b[0m\u001b[0mcolab\u001b[0m \u001b[0;32mimport\u001b[0m \u001b[0mdrive\u001b[0m\u001b[0;34m\u001b[0m\u001b[0;34m\u001b[0m\u001b[0m\n\u001b[0;32m----> 2\u001b[0;31m \u001b[0mdrive\u001b[0m\u001b[0;34m.\u001b[0m\u001b[0mmount\u001b[0m\u001b[0;34m(\u001b[0m\u001b[0;34m'/content/drive'\u001b[0m\u001b[0;34m)\u001b[0m\u001b[0;34m\u001b[0m\u001b[0;34m\u001b[0m\u001b[0m\n\u001b[0m",
            "\u001b[0;32m/usr/local/lib/python3.7/dist-packages/google/colab/drive.py\u001b[0m in \u001b[0;36mmount\u001b[0;34m(mountpoint, force_remount, timeout_ms, use_metadata_server)\u001b[0m\n\u001b[1;32m    111\u001b[0m       \u001b[0mtimeout_ms\u001b[0m\u001b[0;34m=\u001b[0m\u001b[0mtimeout_ms\u001b[0m\u001b[0;34m,\u001b[0m\u001b[0;34m\u001b[0m\u001b[0;34m\u001b[0m\u001b[0m\n\u001b[1;32m    112\u001b[0m       \u001b[0muse_metadata_server\u001b[0m\u001b[0;34m=\u001b[0m\u001b[0muse_metadata_server\u001b[0m\u001b[0;34m,\u001b[0m\u001b[0;34m\u001b[0m\u001b[0;34m\u001b[0m\u001b[0m\n\u001b[0;32m--> 113\u001b[0;31m       ephemeral=ephemeral)\n\u001b[0m\u001b[1;32m    114\u001b[0m \u001b[0;34m\u001b[0m\u001b[0m\n\u001b[1;32m    115\u001b[0m \u001b[0;34m\u001b[0m\u001b[0m\n",
            "\u001b[0;32m/usr/local/lib/python3.7/dist-packages/google/colab/drive.py\u001b[0m in \u001b[0;36m_mount\u001b[0;34m(mountpoint, force_remount, timeout_ms, use_metadata_server, ephemeral)\u001b[0m\n\u001b[1;32m    134\u001b[0m   \u001b[0;32mif\u001b[0m \u001b[0mephemeral\u001b[0m\u001b[0;34m:\u001b[0m\u001b[0;34m\u001b[0m\u001b[0;34m\u001b[0m\u001b[0m\n\u001b[1;32m    135\u001b[0m     _message.blocking_request(\n\u001b[0;32m--> 136\u001b[0;31m         'request_auth', request={'authType': 'dfs_ephemeral'}, timeout_sec=None)\n\u001b[0m\u001b[1;32m    137\u001b[0m \u001b[0;34m\u001b[0m\u001b[0m\n\u001b[1;32m    138\u001b[0m   \u001b[0mmountpoint\u001b[0m \u001b[0;34m=\u001b[0m \u001b[0m_os\u001b[0m\u001b[0;34m.\u001b[0m\u001b[0mpath\u001b[0m\u001b[0;34m.\u001b[0m\u001b[0mexpanduser\u001b[0m\u001b[0;34m(\u001b[0m\u001b[0mmountpoint\u001b[0m\u001b[0;34m)\u001b[0m\u001b[0;34m\u001b[0m\u001b[0;34m\u001b[0m\u001b[0m\n",
            "\u001b[0;32m/usr/local/lib/python3.7/dist-packages/google/colab/_message.py\u001b[0m in \u001b[0;36mblocking_request\u001b[0;34m(request_type, request, timeout_sec, parent)\u001b[0m\n\u001b[1;32m    173\u001b[0m   request_id = send_request(\n\u001b[1;32m    174\u001b[0m       request_type, request, parent=parent, expect_reply=True)\n\u001b[0;32m--> 175\u001b[0;31m   \u001b[0;32mreturn\u001b[0m \u001b[0mread_reply_from_input\u001b[0m\u001b[0;34m(\u001b[0m\u001b[0mrequest_id\u001b[0m\u001b[0;34m,\u001b[0m \u001b[0mtimeout_sec\u001b[0m\u001b[0;34m)\u001b[0m\u001b[0;34m\u001b[0m\u001b[0;34m\u001b[0m\u001b[0m\n\u001b[0m",
            "\u001b[0;32m/usr/local/lib/python3.7/dist-packages/google/colab/_message.py\u001b[0m in \u001b[0;36mread_reply_from_input\u001b[0;34m(message_id, timeout_sec)\u001b[0m\n\u001b[1;32m    104\u001b[0m         reply.get('colab_msg_id') == message_id):\n\u001b[1;32m    105\u001b[0m       \u001b[0;32mif\u001b[0m \u001b[0;34m'error'\u001b[0m \u001b[0;32min\u001b[0m \u001b[0mreply\u001b[0m\u001b[0;34m:\u001b[0m\u001b[0;34m\u001b[0m\u001b[0;34m\u001b[0m\u001b[0m\n\u001b[0;32m--> 106\u001b[0;31m         \u001b[0;32mraise\u001b[0m \u001b[0mMessageError\u001b[0m\u001b[0;34m(\u001b[0m\u001b[0mreply\u001b[0m\u001b[0;34m[\u001b[0m\u001b[0;34m'error'\u001b[0m\u001b[0;34m]\u001b[0m\u001b[0;34m)\u001b[0m\u001b[0;34m\u001b[0m\u001b[0;34m\u001b[0m\u001b[0m\n\u001b[0m\u001b[1;32m    107\u001b[0m       \u001b[0;32mreturn\u001b[0m \u001b[0mreply\u001b[0m\u001b[0;34m.\u001b[0m\u001b[0mget\u001b[0m\u001b[0;34m(\u001b[0m\u001b[0;34m'data'\u001b[0m\u001b[0;34m,\u001b[0m \u001b[0;32mNone\u001b[0m\u001b[0;34m)\u001b[0m\u001b[0;34m\u001b[0m\u001b[0;34m\u001b[0m\u001b[0m\n\u001b[1;32m    108\u001b[0m \u001b[0;34m\u001b[0m\u001b[0m\n",
            "\u001b[0;31mMessageError\u001b[0m: Error: credential propagation was unsuccessful"
          ]
        }
      ]
    },
    {
      "cell_type": "code",
      "source": [
        "cur"
      ],
      "metadata": {
        "id": "7ZE51IL-jG0I"
      },
      "execution_count": null,
      "outputs": []
    },
    {
      "cell_type": "code",
      "source": [
        "autoencoder2 = Autoencoder.load(\"model\")"
      ],
      "metadata": {
        "id": "-tNsEfi7Ztt4"
      },
      "execution_count": null,
      "outputs": []
    },
    {
      "cell_type": "code",
      "source": [
        "autoencder2.summary()"
      ],
      "metadata": {
        "id": "2yttfGqQZ0f4"
      },
      "execution_count": null,
      "outputs": []
    },
    {
      "cell_type": "code",
      "source": [
        "!pwd"
      ],
      "metadata": {
        "colab": {
          "base_uri": "https://localhost:8080/"
        },
        "id": "2YESqD2XgrV7",
        "outputId": "e4554f30-5c67-4ae8-d97e-3e985e3e3b4d"
      },
      "execution_count": null,
      "outputs": [
        {
          "output_type": "stream",
          "name": "stdout",
          "text": [
            "/content\n"
          ]
        }
      ]
    },
    {
      "cell_type": "code",
      "source": [
        "curr_path = os.getcwd()\n",
        "random_path = os.path.join(curr_path, \"hello.py\")\n",
        "random_path"
      ],
      "metadata": {
        "colab": {
          "base_uri": "https://localhost:8080/",
          "height": 36
        },
        "id": "xs1ZESDigiqW",
        "outputId": "63c7535b-48ab-4f66-d625-b26ec15cae94"
      },
      "execution_count": null,
      "outputs": [
        {
          "output_type": "execute_result",
          "data": {
            "application/vnd.google.colaboratory.intrinsic+json": {
              "type": "string"
            },
            "text/plain": [
              "'/content/hello.py'"
            ]
          },
          "metadata": {},
          "execution_count": 9
        }
      ]
    },
    {
      "cell_type": "code",
      "source": [
        "random_path"
      ],
      "metadata": {
        "colab": {
          "base_uri": "https://localhost:8080/",
          "height": 36
        },
        "id": "yrTERF8pgwOA",
        "outputId": "f97af273-2158-4b1b-df57-da55917db394"
      },
      "execution_count": null,
      "outputs": [
        {
          "output_type": "execute_result",
          "data": {
            "application/vnd.google.colaboratory.intrinsic+json": {
              "type": "string"
            },
            "text/plain": [
              "'/content/hello.py'"
            ]
          },
          "metadata": {},
          "execution_count": 18
        }
      ]
    },
    {
      "cell_type": "markdown",
      "source": [
        ""
      ],
      "metadata": {
        "id": "YGiSVAe6WnoP"
      }
    }
  ]
}