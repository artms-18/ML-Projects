{
  "nbformat": 4,
  "nbformat_minor": 0,
  "metadata": {
    "colab": {
      "name": "transder_learning.ipynb",
      "provenance": [],
      "authorship_tag": "ABX9TyM6+P8Jox5wTBngDyxircXq",
      "include_colab_link": true
    },
    "kernelspec": {
      "name": "python3",
      "display_name": "Python 3"
    },
    "language_info": {
      "name": "python"
    },
    "accelerator": "GPU"
  },
  "cells": [
    {
      "cell_type": "markdown",
      "metadata": {
        "id": "view-in-github",
        "colab_type": "text"
      },
      "source": [
        "<a href=\"https://colab.research.google.com/github/artms-18/ML-Projects/blob/main/transfer_learning.ipynb\" target=\"_parent\"><img src=\"https://colab.research.google.com/assets/colab-badge.svg\" alt=\"Open In Colab\"/></a>"
      ]
    },
    {
      "cell_type": "markdown",
      "metadata": {
        "id": "9_cW9uaLoAqg"
      },
      "source": [
        "## Transfer Learning with TensorFlow"
      ]
    },
    {
      "cell_type": "code",
      "metadata": {
        "colab": {
          "base_uri": "https://localhost:8080/"
        },
        "id": "qrxymTQ4oKE6",
        "outputId": "ef770bfa-3efc-4439-b071-1efbb652859f"
      },
      "source": [
        "# Checl to see if we're using a GPU\n",
        "\n",
        "!nvidia-smi"
      ],
      "execution_count": 1,
      "outputs": [
        {
          "output_type": "stream",
          "text": [
            "Tue Jun  8 23:13:49 2021       \n",
            "+-----------------------------------------------------------------------------+\n",
            "| NVIDIA-SMI 465.27       Driver Version: 460.32.03    CUDA Version: 11.2     |\n",
            "|-------------------------------+----------------------+----------------------+\n",
            "| GPU  Name        Persistence-M| Bus-Id        Disp.A | Volatile Uncorr. ECC |\n",
            "| Fan  Temp  Perf  Pwr:Usage/Cap|         Memory-Usage | GPU-Util  Compute M. |\n",
            "|                               |                      |               MIG M. |\n",
            "|===============================+======================+======================|\n",
            "|   0  Tesla T4            Off  | 00000000:00:04.0 Off |                    0 |\n",
            "| N/A   46C    P8    26W /  70W |      0MiB / 15109MiB |      0%      Default |\n",
            "|                               |                      |                  N/A |\n",
            "+-------------------------------+----------------------+----------------------+\n",
            "                                                                               \n",
            "+-----------------------------------------------------------------------------+\n",
            "| Processes:                                                                  |\n",
            "|  GPU   GI   CI        PID   Type   Process name                  GPU Memory |\n",
            "|        ID   ID                                                   Usage      |\n",
            "|=============================================================================|\n",
            "|  No running processes found                                                 |\n",
            "+-----------------------------------------------------------------------------+\n"
          ],
          "name": "stdout"
        }
      ]
    },
    {
      "cell_type": "markdown",
      "metadata": {
        "id": "Dm6oxzstoiIF"
      },
      "source": [
        "## Creating helper functions\n",
        "\n",
        "Downloading helper functions"
      ]
    },
    {
      "cell_type": "code",
      "metadata": {
        "colab": {
          "base_uri": "https://localhost:8080/"
        },
        "id": "EXtOIVmtoyL8",
        "outputId": "7895277a-a474-465c-e6cd-dbcce0d3a73e"
      },
      "source": [
        "!wget https://raw.githubusercontent.com/mrdbourke/tensorflow-deep-learning/main/extras/helper_functions.py"
      ],
      "execution_count": 2,
      "outputs": [
        {
          "output_type": "stream",
          "text": [
            "--2021-06-08 23:13:49--  https://raw.githubusercontent.com/mrdbourke/tensorflow-deep-learning/main/extras/helper_functions.py\n",
            "Resolving raw.githubusercontent.com (raw.githubusercontent.com)... 185.199.109.133, 185.199.108.133, 185.199.111.133, ...\n",
            "Connecting to raw.githubusercontent.com (raw.githubusercontent.com)|185.199.109.133|:443... connected.\n",
            "HTTP request sent, awaiting response... 200 OK\n",
            "Length: 10246 (10K) [text/plain]\n",
            "Saving to: ‘helper_functions.py.1’\n",
            "\n",
            "helper_functions.py 100%[===================>]  10.01K  --.-KB/s    in 0s      \n",
            "\n",
            "2021-06-08 23:13:49 (93.9 MB/s) - ‘helper_functions.py.1’ saved [10246/10246]\n",
            "\n"
          ],
          "name": "stdout"
        }
      ]
    },
    {
      "cell_type": "code",
      "metadata": {
        "id": "MLtOdi6Yo_1X"
      },
      "source": [
        "from helper_functions import create_tensorboard_callback, plot_loss_curves, unzip_data, compare_historys, walk_through_dir"
      ],
      "execution_count": 3,
      "outputs": []
    },
    {
      "cell_type": "markdown",
      "metadata": {
        "id": "_JldzgxspP6_"
      },
      "source": [
        "## 101 Food Classes: working with less data\n",
        "\n",
        "Our goal is to beat Food101 paper with 10% of the training data, so let's download it.\n",
        "\n",
        "The data we're downloading comes from the original Food101 Dataset "
      ]
    },
    {
      "cell_type": "code",
      "metadata": {
        "colab": {
          "base_uri": "https://localhost:8080/"
        },
        "id": "sSnaCpLTp4wx",
        "outputId": "e9fb2356-38b2-4cc1-c3ec-cd8b23368c3f"
      },
      "source": [
        "!wget https://storage.googleapis.com/ztm_tf_course/food_vision/101_food_classes_10_percent.zip\n",
        "\n",
        "unzip_data(\"101_food_classes_10_percent.zip\")\n",
        "\n",
        "train_dir = \"101_food_classes_10_percent/train/\"\n",
        "test_dir = \"101_food_classes_10_percent/test/\""
      ],
      "execution_count": 4,
      "outputs": [
        {
          "output_type": "stream",
          "text": [
            "--2021-06-08 23:13:51--  https://storage.googleapis.com/ztm_tf_course/food_vision/101_food_classes_10_percent.zip\n",
            "Resolving storage.googleapis.com (storage.googleapis.com)... 142.250.141.128, 74.125.137.128, 2607:f8b0:4023:c0b::80\n",
            "Connecting to storage.googleapis.com (storage.googleapis.com)|142.250.141.128|:443... connected.\n",
            "HTTP request sent, awaiting response... 200 OK\n",
            "Length: 1625420029 (1.5G) [application/zip]\n",
            "Saving to: ‘101_food_classes_10_percent.zip.1’\n",
            "\n",
            "101_food_classes_10 100%[===================>]   1.51G   179MB/s    in 8.5s    \n",
            "\n",
            "2021-06-08 23:14:00 (183 MB/s) - ‘101_food_classes_10_percent.zip.1’ saved [1625420029/1625420029]\n",
            "\n"
          ],
          "name": "stdout"
        }
      ]
    },
    {
      "cell_type": "code",
      "metadata": {
        "colab": {
          "base_uri": "https://localhost:8080/"
        },
        "id": "uh14hbBBqMT2",
        "outputId": "f4c95dff-bf90-4652-8afc-084085aa5298"
      },
      "source": [
        "walk_through_dir(\"101_food_classes_10_percent\")"
      ],
      "execution_count": 5,
      "outputs": [
        {
          "output_type": "stream",
          "text": [
            "There are 2 directories and 0 images in '101_food_classes_10_percent'.\n",
            "There are 101 directories and 0 images in '101_food_classes_10_percent/train'.\n",
            "There are 0 directories and 75 images in '101_food_classes_10_percent/train/macaroni_and_cheese'.\n",
            "There are 0 directories and 75 images in '101_food_classes_10_percent/train/grilled_cheese_sandwich'.\n",
            "There are 0 directories and 75 images in '101_food_classes_10_percent/train/apple_pie'.\n",
            "There are 0 directories and 75 images in '101_food_classes_10_percent/train/escargots'.\n",
            "There are 0 directories and 75 images in '101_food_classes_10_percent/train/lasagna'.\n",
            "There are 0 directories and 75 images in '101_food_classes_10_percent/train/scallops'.\n",
            "There are 0 directories and 75 images in '101_food_classes_10_percent/train/panna_cotta'.\n",
            "There are 0 directories and 75 images in '101_food_classes_10_percent/train/lobster_roll_sandwich'.\n",
            "There are 0 directories and 75 images in '101_food_classes_10_percent/train/pad_thai'.\n",
            "There are 0 directories and 75 images in '101_food_classes_10_percent/train/guacamole'.\n",
            "There are 0 directories and 75 images in '101_food_classes_10_percent/train/breakfast_burrito'.\n",
            "There are 0 directories and 75 images in '101_food_classes_10_percent/train/garlic_bread'.\n",
            "There are 0 directories and 75 images in '101_food_classes_10_percent/train/french_onion_soup'.\n",
            "There are 0 directories and 75 images in '101_food_classes_10_percent/train/foie_gras'.\n",
            "There are 0 directories and 75 images in '101_food_classes_10_percent/train/ice_cream'.\n",
            "There are 0 directories and 75 images in '101_food_classes_10_percent/train/ceviche'.\n",
            "There are 0 directories and 75 images in '101_food_classes_10_percent/train/hamburger'.\n",
            "There are 0 directories and 75 images in '101_food_classes_10_percent/train/oysters'.\n",
            "There are 0 directories and 75 images in '101_food_classes_10_percent/train/edamame'.\n",
            "There are 0 directories and 75 images in '101_food_classes_10_percent/train/gnocchi'.\n",
            "There are 0 directories and 75 images in '101_food_classes_10_percent/train/beignets'.\n",
            "There are 0 directories and 75 images in '101_food_classes_10_percent/train/cheese_plate'.\n",
            "There are 0 directories and 75 images in '101_food_classes_10_percent/train/greek_salad'.\n",
            "There are 0 directories and 75 images in '101_food_classes_10_percent/train/pork_chop'.\n",
            "There are 0 directories and 75 images in '101_food_classes_10_percent/train/spaghetti_carbonara'.\n",
            "There are 0 directories and 75 images in '101_food_classes_10_percent/train/donuts'.\n",
            "There are 0 directories and 75 images in '101_food_classes_10_percent/train/fried_rice'.\n",
            "There are 0 directories and 75 images in '101_food_classes_10_percent/train/clam_chowder'.\n",
            "There are 0 directories and 75 images in '101_food_classes_10_percent/train/samosa'.\n",
            "There are 0 directories and 75 images in '101_food_classes_10_percent/train/deviled_eggs'.\n",
            "There are 0 directories and 75 images in '101_food_classes_10_percent/train/french_toast'.\n",
            "There are 0 directories and 75 images in '101_food_classes_10_percent/train/takoyaki'.\n",
            "There are 0 directories and 75 images in '101_food_classes_10_percent/train/bibimbap'.\n",
            "There are 0 directories and 75 images in '101_food_classes_10_percent/train/tuna_tartare'.\n",
            "There are 0 directories and 75 images in '101_food_classes_10_percent/train/caprese_salad'.\n",
            "There are 0 directories and 75 images in '101_food_classes_10_percent/train/ramen'.\n",
            "There are 0 directories and 75 images in '101_food_classes_10_percent/train/gyoza'.\n",
            "There are 0 directories and 75 images in '101_food_classes_10_percent/train/poutine'.\n",
            "There are 0 directories and 75 images in '101_food_classes_10_percent/train/waffles'.\n",
            "There are 0 directories and 75 images in '101_food_classes_10_percent/train/hot_and_sour_soup'.\n",
            "There are 0 directories and 75 images in '101_food_classes_10_percent/train/sashimi'.\n",
            "There are 0 directories and 75 images in '101_food_classes_10_percent/train/miso_soup'.\n",
            "There are 0 directories and 75 images in '101_food_classes_10_percent/train/ravioli'.\n",
            "There are 0 directories and 75 images in '101_food_classes_10_percent/train/sushi'.\n",
            "There are 0 directories and 75 images in '101_food_classes_10_percent/train/filet_mignon'.\n",
            "There are 0 directories and 75 images in '101_food_classes_10_percent/train/steak'.\n",
            "There are 0 directories and 75 images in '101_food_classes_10_percent/train/cup_cakes'.\n",
            "There are 0 directories and 75 images in '101_food_classes_10_percent/train/omelette'.\n",
            "There are 0 directories and 75 images in '101_food_classes_10_percent/train/spaghetti_bolognese'.\n",
            "There are 0 directories and 75 images in '101_food_classes_10_percent/train/caesar_salad'.\n",
            "There are 0 directories and 75 images in '101_food_classes_10_percent/train/fish_and_chips'.\n",
            "There are 0 directories and 75 images in '101_food_classes_10_percent/train/beef_tartare'.\n",
            "There are 0 directories and 75 images in '101_food_classes_10_percent/train/croque_madame'.\n",
            "There are 0 directories and 75 images in '101_food_classes_10_percent/train/fried_calamari'.\n",
            "There are 0 directories and 75 images in '101_food_classes_10_percent/train/pancakes'.\n",
            "There are 0 directories and 75 images in '101_food_classes_10_percent/train/huevos_rancheros'.\n",
            "There are 0 directories and 75 images in '101_food_classes_10_percent/train/hot_dog'.\n",
            "There are 0 directories and 75 images in '101_food_classes_10_percent/train/chicken_curry'.\n",
            "There are 0 directories and 75 images in '101_food_classes_10_percent/train/chocolate_mousse'.\n",
            "There are 0 directories and 75 images in '101_food_classes_10_percent/train/onion_rings'.\n",
            "There are 0 directories and 75 images in '101_food_classes_10_percent/train/eggs_benedict'.\n",
            "There are 0 directories and 75 images in '101_food_classes_10_percent/train/french_fries'.\n",
            "There are 0 directories and 75 images in '101_food_classes_10_percent/train/churros'.\n",
            "There are 0 directories and 75 images in '101_food_classes_10_percent/train/beef_carpaccio'.\n",
            "There are 0 directories and 75 images in '101_food_classes_10_percent/train/carrot_cake'.\n",
            "There are 0 directories and 75 images in '101_food_classes_10_percent/train/baby_back_ribs'.\n",
            "There are 0 directories and 75 images in '101_food_classes_10_percent/train/bruschetta'.\n",
            "There are 0 directories and 75 images in '101_food_classes_10_percent/train/spring_rolls'.\n",
            "There are 0 directories and 75 images in '101_food_classes_10_percent/train/hummus'.\n",
            "There are 0 directories and 75 images in '101_food_classes_10_percent/train/cheesecake'.\n",
            "There are 0 directories and 75 images in '101_food_classes_10_percent/train/baklava'.\n",
            "There are 0 directories and 75 images in '101_food_classes_10_percent/train/mussels'.\n",
            "There are 0 directories and 75 images in '101_food_classes_10_percent/train/pulled_pork_sandwich'.\n",
            "There are 0 directories and 75 images in '101_food_classes_10_percent/train/prime_rib'.\n",
            "There are 0 directories and 75 images in '101_food_classes_10_percent/train/strawberry_shortcake'.\n",
            "There are 0 directories and 75 images in '101_food_classes_10_percent/train/peking_duck'.\n",
            "There are 0 directories and 75 images in '101_food_classes_10_percent/train/shrimp_and_grits'.\n",
            "There are 0 directories and 75 images in '101_food_classes_10_percent/train/grilled_salmon'.\n",
            "There are 0 directories and 75 images in '101_food_classes_10_percent/train/bread_pudding'.\n",
            "There are 0 directories and 75 images in '101_food_classes_10_percent/train/dumplings'.\n",
            "There are 0 directories and 75 images in '101_food_classes_10_percent/train/beet_salad'.\n",
            "There are 0 directories and 75 images in '101_food_classes_10_percent/train/creme_brulee'.\n",
            "There are 0 directories and 75 images in '101_food_classes_10_percent/train/paella'.\n",
            "There are 0 directories and 75 images in '101_food_classes_10_percent/train/frozen_yogurt'.\n",
            "There are 0 directories and 75 images in '101_food_classes_10_percent/train/red_velvet_cake'.\n",
            "There are 0 directories and 75 images in '101_food_classes_10_percent/train/tiramisu'.\n",
            "There are 0 directories and 75 images in '101_food_classes_10_percent/train/tacos'.\n",
            "There are 0 directories and 75 images in '101_food_classes_10_percent/train/chicken_quesadilla'.\n",
            "There are 0 directories and 75 images in '101_food_classes_10_percent/train/cannoli'.\n",
            "There are 0 directories and 75 images in '101_food_classes_10_percent/train/lobster_bisque'.\n",
            "There are 0 directories and 75 images in '101_food_classes_10_percent/train/pho'.\n",
            "There are 0 directories and 75 images in '101_food_classes_10_percent/train/falafel'.\n",
            "There are 0 directories and 75 images in '101_food_classes_10_percent/train/seaweed_salad'.\n",
            "There are 0 directories and 75 images in '101_food_classes_10_percent/train/club_sandwich'.\n",
            "There are 0 directories and 75 images in '101_food_classes_10_percent/train/pizza'.\n",
            "There are 0 directories and 75 images in '101_food_classes_10_percent/train/chicken_wings'.\n",
            "There are 0 directories and 75 images in '101_food_classes_10_percent/train/chocolate_cake'.\n",
            "There are 0 directories and 75 images in '101_food_classes_10_percent/train/nachos'.\n",
            "There are 0 directories and 75 images in '101_food_classes_10_percent/train/macarons'.\n",
            "There are 0 directories and 75 images in '101_food_classes_10_percent/train/risotto'.\n",
            "There are 0 directories and 75 images in '101_food_classes_10_percent/train/crab_cakes'.\n",
            "There are 101 directories and 0 images in '101_food_classes_10_percent/test'.\n",
            "There are 0 directories and 250 images in '101_food_classes_10_percent/test/macaroni_and_cheese'.\n",
            "There are 0 directories and 250 images in '101_food_classes_10_percent/test/grilled_cheese_sandwich'.\n",
            "There are 0 directories and 250 images in '101_food_classes_10_percent/test/apple_pie'.\n",
            "There are 0 directories and 250 images in '101_food_classes_10_percent/test/escargots'.\n",
            "There are 0 directories and 250 images in '101_food_classes_10_percent/test/lasagna'.\n",
            "There are 0 directories and 250 images in '101_food_classes_10_percent/test/scallops'.\n",
            "There are 0 directories and 250 images in '101_food_classes_10_percent/test/panna_cotta'.\n",
            "There are 0 directories and 250 images in '101_food_classes_10_percent/test/lobster_roll_sandwich'.\n",
            "There are 0 directories and 250 images in '101_food_classes_10_percent/test/pad_thai'.\n",
            "There are 0 directories and 250 images in '101_food_classes_10_percent/test/guacamole'.\n",
            "There are 0 directories and 250 images in '101_food_classes_10_percent/test/breakfast_burrito'.\n",
            "There are 0 directories and 250 images in '101_food_classes_10_percent/test/garlic_bread'.\n",
            "There are 0 directories and 250 images in '101_food_classes_10_percent/test/french_onion_soup'.\n",
            "There are 0 directories and 250 images in '101_food_classes_10_percent/test/foie_gras'.\n",
            "There are 0 directories and 250 images in '101_food_classes_10_percent/test/ice_cream'.\n",
            "There are 0 directories and 250 images in '101_food_classes_10_percent/test/ceviche'.\n",
            "There are 0 directories and 250 images in '101_food_classes_10_percent/test/hamburger'.\n",
            "There are 0 directories and 250 images in '101_food_classes_10_percent/test/oysters'.\n",
            "There are 0 directories and 250 images in '101_food_classes_10_percent/test/edamame'.\n",
            "There are 0 directories and 250 images in '101_food_classes_10_percent/test/gnocchi'.\n",
            "There are 0 directories and 250 images in '101_food_classes_10_percent/test/beignets'.\n",
            "There are 0 directories and 250 images in '101_food_classes_10_percent/test/cheese_plate'.\n",
            "There are 0 directories and 250 images in '101_food_classes_10_percent/test/greek_salad'.\n",
            "There are 0 directories and 250 images in '101_food_classes_10_percent/test/pork_chop'.\n",
            "There are 0 directories and 250 images in '101_food_classes_10_percent/test/spaghetti_carbonara'.\n",
            "There are 0 directories and 250 images in '101_food_classes_10_percent/test/donuts'.\n",
            "There are 0 directories and 250 images in '101_food_classes_10_percent/test/fried_rice'.\n",
            "There are 0 directories and 250 images in '101_food_classes_10_percent/test/clam_chowder'.\n",
            "There are 0 directories and 250 images in '101_food_classes_10_percent/test/samosa'.\n",
            "There are 0 directories and 250 images in '101_food_classes_10_percent/test/deviled_eggs'.\n",
            "There are 0 directories and 250 images in '101_food_classes_10_percent/test/french_toast'.\n",
            "There are 0 directories and 250 images in '101_food_classes_10_percent/test/takoyaki'.\n",
            "There are 0 directories and 250 images in '101_food_classes_10_percent/test/bibimbap'.\n",
            "There are 0 directories and 250 images in '101_food_classes_10_percent/test/tuna_tartare'.\n",
            "There are 0 directories and 250 images in '101_food_classes_10_percent/test/caprese_salad'.\n",
            "There are 0 directories and 250 images in '101_food_classes_10_percent/test/ramen'.\n",
            "There are 0 directories and 250 images in '101_food_classes_10_percent/test/gyoza'.\n",
            "There are 0 directories and 250 images in '101_food_classes_10_percent/test/poutine'.\n",
            "There are 0 directories and 250 images in '101_food_classes_10_percent/test/waffles'.\n",
            "There are 0 directories and 250 images in '101_food_classes_10_percent/test/hot_and_sour_soup'.\n",
            "There are 0 directories and 250 images in '101_food_classes_10_percent/test/sashimi'.\n",
            "There are 0 directories and 250 images in '101_food_classes_10_percent/test/miso_soup'.\n",
            "There are 0 directories and 250 images in '101_food_classes_10_percent/test/ravioli'.\n",
            "There are 0 directories and 250 images in '101_food_classes_10_percent/test/sushi'.\n",
            "There are 0 directories and 250 images in '101_food_classes_10_percent/test/filet_mignon'.\n",
            "There are 0 directories and 250 images in '101_food_classes_10_percent/test/steak'.\n",
            "There are 0 directories and 250 images in '101_food_classes_10_percent/test/cup_cakes'.\n",
            "There are 0 directories and 250 images in '101_food_classes_10_percent/test/omelette'.\n",
            "There are 0 directories and 250 images in '101_food_classes_10_percent/test/spaghetti_bolognese'.\n",
            "There are 0 directories and 250 images in '101_food_classes_10_percent/test/caesar_salad'.\n",
            "There are 0 directories and 250 images in '101_food_classes_10_percent/test/fish_and_chips'.\n",
            "There are 0 directories and 250 images in '101_food_classes_10_percent/test/beef_tartare'.\n",
            "There are 0 directories and 250 images in '101_food_classes_10_percent/test/croque_madame'.\n",
            "There are 0 directories and 250 images in '101_food_classes_10_percent/test/fried_calamari'.\n",
            "There are 0 directories and 250 images in '101_food_classes_10_percent/test/pancakes'.\n",
            "There are 0 directories and 250 images in '101_food_classes_10_percent/test/huevos_rancheros'.\n",
            "There are 0 directories and 250 images in '101_food_classes_10_percent/test/hot_dog'.\n",
            "There are 0 directories and 250 images in '101_food_classes_10_percent/test/chicken_curry'.\n",
            "There are 0 directories and 250 images in '101_food_classes_10_percent/test/chocolate_mousse'.\n",
            "There are 0 directories and 250 images in '101_food_classes_10_percent/test/onion_rings'.\n",
            "There are 0 directories and 250 images in '101_food_classes_10_percent/test/eggs_benedict'.\n",
            "There are 0 directories and 250 images in '101_food_classes_10_percent/test/french_fries'.\n",
            "There are 0 directories and 250 images in '101_food_classes_10_percent/test/churros'.\n",
            "There are 0 directories and 250 images in '101_food_classes_10_percent/test/beef_carpaccio'.\n",
            "There are 0 directories and 250 images in '101_food_classes_10_percent/test/carrot_cake'.\n",
            "There are 0 directories and 250 images in '101_food_classes_10_percent/test/baby_back_ribs'.\n",
            "There are 0 directories and 250 images in '101_food_classes_10_percent/test/bruschetta'.\n",
            "There are 0 directories and 250 images in '101_food_classes_10_percent/test/spring_rolls'.\n",
            "There are 0 directories and 250 images in '101_food_classes_10_percent/test/hummus'.\n",
            "There are 0 directories and 250 images in '101_food_classes_10_percent/test/cheesecake'.\n",
            "There are 0 directories and 250 images in '101_food_classes_10_percent/test/baklava'.\n",
            "There are 0 directories and 250 images in '101_food_classes_10_percent/test/mussels'.\n",
            "There are 0 directories and 250 images in '101_food_classes_10_percent/test/pulled_pork_sandwich'.\n",
            "There are 0 directories and 250 images in '101_food_classes_10_percent/test/prime_rib'.\n",
            "There are 0 directories and 250 images in '101_food_classes_10_percent/test/strawberry_shortcake'.\n",
            "There are 0 directories and 250 images in '101_food_classes_10_percent/test/peking_duck'.\n",
            "There are 0 directories and 250 images in '101_food_classes_10_percent/test/shrimp_and_grits'.\n",
            "There are 0 directories and 250 images in '101_food_classes_10_percent/test/grilled_salmon'.\n",
            "There are 0 directories and 250 images in '101_food_classes_10_percent/test/bread_pudding'.\n",
            "There are 0 directories and 250 images in '101_food_classes_10_percent/test/dumplings'.\n",
            "There are 0 directories and 250 images in '101_food_classes_10_percent/test/beet_salad'.\n",
            "There are 0 directories and 250 images in '101_food_classes_10_percent/test/creme_brulee'.\n",
            "There are 0 directories and 250 images in '101_food_classes_10_percent/test/paella'.\n",
            "There are 0 directories and 250 images in '101_food_classes_10_percent/test/frozen_yogurt'.\n",
            "There are 0 directories and 250 images in '101_food_classes_10_percent/test/red_velvet_cake'.\n",
            "There are 0 directories and 250 images in '101_food_classes_10_percent/test/tiramisu'.\n",
            "There are 0 directories and 250 images in '101_food_classes_10_percent/test/tacos'.\n",
            "There are 0 directories and 250 images in '101_food_classes_10_percent/test/chicken_quesadilla'.\n",
            "There are 0 directories and 250 images in '101_food_classes_10_percent/test/cannoli'.\n",
            "There are 0 directories and 250 images in '101_food_classes_10_percent/test/lobster_bisque'.\n",
            "There are 0 directories and 250 images in '101_food_classes_10_percent/test/pho'.\n",
            "There are 0 directories and 250 images in '101_food_classes_10_percent/test/falafel'.\n",
            "There are 0 directories and 250 images in '101_food_classes_10_percent/test/seaweed_salad'.\n",
            "There are 0 directories and 250 images in '101_food_classes_10_percent/test/club_sandwich'.\n",
            "There are 0 directories and 250 images in '101_food_classes_10_percent/test/pizza'.\n",
            "There are 0 directories and 250 images in '101_food_classes_10_percent/test/chicken_wings'.\n",
            "There are 0 directories and 250 images in '101_food_classes_10_percent/test/chocolate_cake'.\n",
            "There are 0 directories and 250 images in '101_food_classes_10_percent/test/nachos'.\n",
            "There are 0 directories and 250 images in '101_food_classes_10_percent/test/macarons'.\n",
            "There are 0 directories and 250 images in '101_food_classes_10_percent/test/risotto'.\n",
            "There are 0 directories and 250 images in '101_food_classes_10_percent/test/crab_cakes'.\n"
          ],
          "name": "stdout"
        }
      ]
    },
    {
      "cell_type": "code",
      "metadata": {
        "colab": {
          "base_uri": "https://localhost:8080/"
        },
        "id": "kVI0w6WPqhuS",
        "outputId": "d7e3c48c-34f9-4ab6-fa54-34665146f606"
      },
      "source": [
        "# Setup data inputs\n",
        "\n",
        "import tensorflow as tf\n",
        "IMG_SIZE = (224,224)\n",
        "train_data_all_10_percent = tf.keras.preprocessing.image_dataset_from_directory(train_dir,\n",
        "                                                                                label_mode = 'categorical',\n",
        "                                                                                image_size = IMG_SIZE)\n",
        "test_data_all_10_percent = tf.keras.preprocessing.image_dataset_from_directory(test_dir,\n",
        "                                                                               label_mode = 'categorical',\n",
        "                                                                               image_size = IMG_SIZE,\n",
        "                                                                               shuffle = False) #don't shuffle test data for image analysis\n",
        "\n",
        "                                                                "
      ],
      "execution_count": 6,
      "outputs": [
        {
          "output_type": "stream",
          "text": [
            "Found 7575 files belonging to 101 classes.\n",
            "Found 25250 files belonging to 101 classes.\n"
          ],
          "name": "stdout"
        }
      ]
    },
    {
      "cell_type": "markdown",
      "metadata": {
        "id": "lf5YQSe1rOyN"
      },
      "source": [
        "## Train a big model with transfer learning on 10% of 101 food classes\n",
        "\n",
        "Here are the steps:\n",
        "* Create a ModelCheckpoing create_tensorboard_callback\n",
        "* Create a data sugmentation layer to build data sugmentation right into the model\n",
        "* Build a headless (no top layers) Functional EfficientNetB0 backboned-model (we'll create out own output layer)\n",
        "* Compile out model\n",
        "* Feature extract for 5 full passes (5 epochs on the train dataset and validation on 15% of test data to save epoch time)"
      ]
    },
    {
      "cell_type": "code",
      "metadata": {
        "id": "KbMMfMZXsThi"
      },
      "source": [
        "# Create checkpoint callback\n",
        "\n",
        "checkpoint_path = \"101_classes_10_percent_data_model_checkpoint\"\n",
        "checkpoint_callback = tf.keras.callbacks.ModelCheckpoint(checkpoint_path,\n",
        "                                                         save_weights_only = True,\n",
        "                                                         monitor = \"val_accuracy\",\n",
        "                                                         save_best_only = True)"
      ],
      "execution_count": 7,
      "outputs": []
    },
    {
      "cell_type": "code",
      "metadata": {
        "id": "jXWlCh4-s0nJ"
      },
      "source": [
        "# Create data augmentation layer to incorporate it right into the model\n",
        "from tensorflow.keras import layers\n",
        "from tensorflow.keras.layers.experimental import preprocessing\n",
        "from tensorflow.keras.models import Sequential\n",
        "\n",
        "# Setup data Augmentation\n",
        "\n",
        "data_augmentation = Sequential([\n",
        "    preprocessing.RandomFlip(\"horizontal\"),\n",
        "    preprocessing.RandomRotation(0.2),\n",
        "    preprocessing.RandomHeight(0.2),\n",
        "    preprocessing.RandomWidth(0.2),\n",
        "    preprocessing.RandomZoom(0.2),\n",
        "    # preprocessing.Rescaling(1/255.) # rescale inputs of images to between 0 and 1, required for models like ResNet50\n",
        "\n",
        "], name = 'data_augmentation')"
      ],
      "execution_count": 8,
      "outputs": []
    },
    {
      "cell_type": "code",
      "metadata": {
        "id": "oIepls9ht5rS"
      },
      "source": [
        "# Setup the base model and freeze its layers (this will extract features)\n",
        "\n",
        "base_model = tf.keras.applications.EfficientNetB0(include_top = False)\n",
        "base_model.trainable = False # freezes patterns\n",
        "\n",
        "# Setup model architecture with trainable top layers\n",
        "inputs = layers.Input(shape = (224,224,3), name = \"input_layer\")\n",
        "x = data_augmentation(inputs) #augement images (only happens during training phase)\n",
        "x = base_model(x, training = False) # put model in inference mode so weight that need to stay frozen, stay frozen\n",
        "x = layers.GlobalAveragePooling2D(name = \"global_avg_pool_layer\")(x)\n",
        "outputs = layers.Dense(len(train_data_all_10_percent.class_names), activation = \"softmax\", name = \"output_layer\")(x)\n",
        "model = tf.keras.Model(inputs, outputs)\n"
      ],
      "execution_count": 11,
      "outputs": []
    },
    {
      "cell_type": "code",
      "metadata": {
        "colab": {
          "base_uri": "https://localhost:8080/"
        },
        "id": "gkXE86Rj5PXt",
        "outputId": "2b86f84d-c62a-4d5c-8769-f5d1c2c2dfa2"
      },
      "source": [
        "model.summary()"
      ],
      "execution_count": 12,
      "outputs": [
        {
          "output_type": "stream",
          "text": [
            "Model: \"model\"\n",
            "_________________________________________________________________\n",
            "Layer (type)                 Output Shape              Param #   \n",
            "=================================================================\n",
            "input_layer (InputLayer)     [(None, 224, 224, 3)]     0         \n",
            "_________________________________________________________________\n",
            "data_augmentation (Sequentia (None, None, None, 3)     0         \n",
            "_________________________________________________________________\n",
            "efficientnetb0 (Functional)  (None, None, None, 1280)  4049571   \n",
            "_________________________________________________________________\n",
            "global_avg_pool_layer (Globa (None, 1280)              0         \n",
            "_________________________________________________________________\n",
            "output_layer (Dense)         (None, 101)               129381    \n",
            "=================================================================\n",
            "Total params: 4,178,952\n",
            "Trainable params: 129,381\n",
            "Non-trainable params: 4,049,571\n",
            "_________________________________________________________________\n"
          ],
          "name": "stdout"
        }
      ]
    },
    {
      "cell_type": "code",
      "metadata": {
        "colab": {
          "base_uri": "https://localhost:8080/"
        },
        "id": "mAWGqkoj6EuD",
        "outputId": "e87e95c2-917d-4ad7-ccae-c3c1f112c3cd"
      },
      "source": [
        "model.compile(loss = \"categorical_crossentropy\",\n",
        "              optimizer = tf.keras.optimizers.Adam(),\n",
        "              metrics = ['accuracy'])\n",
        "\n",
        "#Fit\n",
        "history_all_classes_10_percent = model.fit(train_data_all_10_percent,\n",
        "                                           epochs = 5,\n",
        "                                           validation_data = test_data_all_10_percent,\n",
        "                                           callbacks = checkpoint_callback)"
      ],
      "execution_count": null,
      "outputs": [
        {
          "output_type": "stream",
          "text": [
            "Epoch 1/5\n",
            "  4/237 [..............................] - ETA: 1:53 - loss: 4.6415 - accuracy: 0.0156"
          ],
          "name": "stdout"
        }
      ]
    },
    {
      "cell_type": "code",
      "metadata": {
        "id": "dAU4B-Rz7-C9"
      },
      "source": [
        ""
      ],
      "execution_count": null,
      "outputs": []
    }
  ]
}